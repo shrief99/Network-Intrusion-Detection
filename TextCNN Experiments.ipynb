{
 "cells": [
  {
   "cell_type": "code",
   "execution_count": 42,
   "metadata": {
    "id": "wu4MjXy0spP_"
   },
   "outputs": [],
   "source": [
    "import numpy as np\n",
    "import pandas as pd\n",
    "import json\n",
    "import tensorflow as tf\n",
    "from tensorflow import keras\n",
    "from tensorflow.keras import layers\n",
    "from sklearn.model_selection import train_test_split\n",
    "from sklearn.metrics import f1_score\n",
    "from sklearn.metrics import accuracy_score\n",
    "from tensorflow.keras.utils import to_categorical\n",
    "from tensorflow.keras.callbacks import EarlyStopping\n",
    "from sklearn.metrics import ConfusionMatrixDisplay\n",
    "import matplotlib.pyplot as plt\n",
    "from sklearn.preprocessing import MinMaxScaler\n",
    "from sklearn.ensemble import RandomForestClassifier"
   ]
  },
  {
   "cell_type": "code",
   "execution_count": 2,
   "metadata": {
    "id": "AIuDZ4URszPt"
   },
   "outputs": [],
   "source": [
    "def get_words(data_frame,n_words):    \n",
    "    new_x=[]\n",
    "\n",
    "    for i in range(len(data_frame)):\n",
    "            templist= np.array([]) \n",
    "            np_word = np.array(data_frame['word_vector'][i])\n",
    "            templist= np.append(templist,np_word[:n_words])\n",
    "            \n",
    "            if(np_word.shape[0] <  n_words):\n",
    "                numeToAdd = n_words - np_word.shape[0]\n",
    "                templist= np.append(templist, np.zeros(100*numeToAdd))\n",
    "            \n",
    "            templist=templist.tolist()\n",
    "            new_x.append(templist) \n",
    "\n",
    "    return new_x"
   ]
  },
  {
   "cell_type": "code",
   "execution_count": 3,
   "metadata": {
    "colab": {
     "base_uri": "https://localhost:8080/"
    },
    "id": "o-ThN1JysAPf",
    "outputId": "588add3b-5d10-4cb6-8a1c-1b009c2520e9"
   },
   "outputs": [
    {
     "name": "stdout",
     "output_type": "stream",
     "text": [
      "Looking in indexes: https://pypi.org/simple, https://us-python.pkg.dev/colab-wheels/public/simple/\n",
      "Requirement already satisfied: gdown in /usr/local/lib/python3.8/dist-packages (4.4.0)\n",
      "Collecting gdown\n",
      "  Downloading gdown-4.6.0-py3-none-any.whl (14 kB)\n",
      "Requirement already satisfied: filelock in /usr/local/lib/python3.8/dist-packages (from gdown) (3.8.0)\n",
      "Requirement already satisfied: beautifulsoup4 in /usr/local/lib/python3.8/dist-packages (from gdown) (4.6.3)\n",
      "Requirement already satisfied: tqdm in /usr/local/lib/python3.8/dist-packages (from gdown) (4.64.1)\n",
      "Requirement already satisfied: six in /usr/local/lib/python3.8/dist-packages (from gdown) (1.15.0)\n",
      "Requirement already satisfied: requests[socks] in /usr/local/lib/python3.8/dist-packages (from gdown) (2.23.0)\n",
      "Requirement already satisfied: certifi>=2017.4.17 in /usr/local/lib/python3.8/dist-packages (from requests[socks]->gdown) (2022.9.24)\n",
      "Requirement already satisfied: chardet<4,>=3.0.2 in /usr/local/lib/python3.8/dist-packages (from requests[socks]->gdown) (3.0.4)\n",
      "Requirement already satisfied: urllib3!=1.25.0,!=1.25.1,<1.26,>=1.21.1 in /usr/local/lib/python3.8/dist-packages (from requests[socks]->gdown) (1.24.3)\n",
      "Requirement already satisfied: idna<3,>=2.5 in /usr/local/lib/python3.8/dist-packages (from requests[socks]->gdown) (2.10)\n",
      "Requirement already satisfied: PySocks!=1.5.7,>=1.5.6 in /usr/local/lib/python3.8/dist-packages (from requests[socks]->gdown) (1.7.1)\n",
      "Installing collected packages: gdown\n",
      "  Attempting uninstall: gdown\n",
      "    Found existing installation: gdown 4.4.0\n",
      "    Uninstalling gdown-4.4.0:\n",
      "      Successfully uninstalled gdown-4.4.0\n",
      "Successfully installed gdown-4.6.0\n"
     ]
    }
   ],
   "source": [
    "!pip install --upgrade --no-cache-dir gdown"
   ]
  },
  {
   "cell_type": "code",
   "execution_count": 4,
   "metadata": {
    "colab": {
     "base_uri": "https://localhost:8080/"
    },
    "id": "VauOcj6ksX6E",
    "outputId": "bc12b9e4-d628-4ea9-811e-78824832f88b"
   },
   "outputs": [
    {
     "name": "stdout",
     "output_type": "stream",
     "text": [
      "Downloading...\n",
      "From: https://drive.google.com/uc?id=1cz1cCOs80cPjBxrhlFTtzFXL159GXWFp\n",
      "To: /content/data5.csv\n",
      "100% 430M/430M [00:06<00:00, 67.5MB/s]\n"
     ]
    }
   ],
   "source": [
    "!gdown 1cz1cCOs80cPjBxrhlFTtzFXL159GXWFp"
   ]
  },
  {
   "cell_type": "code",
   "execution_count": 5,
   "metadata": {
    "id": "DtPBrc5BsbrI"
   },
   "outputs": [],
   "source": [
    "data5_2 = pd.read_csv(\"data5.csv\")\n",
    "data5_2['word_vector'] = [json.loads(x) for x in data5_2['word_vector']] # list of lists"
   ]
  },
  {
   "cell_type": "code",
   "execution_count": 6,
   "metadata": {
    "colab": {
     "base_uri": "https://localhost:8080/",
     "height": 206
    },
    "id": "BJ3LZrDWsmCF",
    "outputId": "aacc8a6a-7c8e-417e-b449-b48132341109"
   },
   "outputs": [
    {
     "data": {
      "text/html": [
       "\n",
       "  <div id=\"df-5095b4f3-3398-4e6b-86b4-22ef32d9481d\">\n",
       "    <div class=\"colab-df-container\">\n",
       "      <div>\n",
       "<style scoped>\n",
       "    .dataframe tbody tr th:only-of-type {\n",
       "        vertical-align: middle;\n",
       "    }\n",
       "\n",
       "    .dataframe tbody tr th {\n",
       "        vertical-align: top;\n",
       "    }\n",
       "\n",
       "    .dataframe thead th {\n",
       "        text-align: right;\n",
       "    }\n",
       "</style>\n",
       "<table border=\"1\" class=\"dataframe\">\n",
       "  <thead>\n",
       "    <tr style=\"text-align: right;\">\n",
       "      <th></th>\n",
       "      <th>Unnamed: 0</th>\n",
       "      <th>category</th>\n",
       "      <th>word_vector</th>\n",
       "      <th>label</th>\n",
       "      <th>word_count</th>\n",
       "    </tr>\n",
       "  </thead>\n",
       "  <tbody>\n",
       "    <tr>\n",
       "      <th>0</th>\n",
       "      <td>0</td>\n",
       "      <td>24</td>\n",
       "      <td>[[-0.507, -0.49518, 0.46885, 0.54524, -0.11552...</td>\n",
       "      <td>1</td>\n",
       "      <td>5</td>\n",
       "    </tr>\n",
       "    <tr>\n",
       "      <th>1</th>\n",
       "      <td>1</td>\n",
       "      <td>13</td>\n",
       "      <td>[[0.19911, -0.46156, 0.19674, -1.3298, 0.51805...</td>\n",
       "      <td>0</td>\n",
       "      <td>5</td>\n",
       "    </tr>\n",
       "    <tr>\n",
       "      <th>2</th>\n",
       "      <td>2</td>\n",
       "      <td>24</td>\n",
       "      <td>[[-0.7403, -0.78746, 0.47018, 0.43474, 0.05842...</td>\n",
       "      <td>0</td>\n",
       "      <td>5</td>\n",
       "    </tr>\n",
       "    <tr>\n",
       "      <th>3</th>\n",
       "      <td>3</td>\n",
       "      <td>21</td>\n",
       "      <td>[[-0.44257, -0.54624, 0.25403, 0.80731, 1.026,...</td>\n",
       "      <td>0</td>\n",
       "      <td>5</td>\n",
       "    </tr>\n",
       "    <tr>\n",
       "      <th>4</th>\n",
       "      <td>4</td>\n",
       "      <td>13</td>\n",
       "      <td>[[0.19911, -0.46156, 0.19674, -1.3298, 0.51805...</td>\n",
       "      <td>1</td>\n",
       "      <td>5</td>\n",
       "    </tr>\n",
       "  </tbody>\n",
       "</table>\n",
       "</div>\n",
       "      <button class=\"colab-df-convert\" onclick=\"convertToInteractive('df-5095b4f3-3398-4e6b-86b4-22ef32d9481d')\"\n",
       "              title=\"Convert this dataframe to an interactive table.\"\n",
       "              style=\"display:none;\">\n",
       "        \n",
       "  <svg xmlns=\"http://www.w3.org/2000/svg\" height=\"24px\"viewBox=\"0 0 24 24\"\n",
       "       width=\"24px\">\n",
       "    <path d=\"M0 0h24v24H0V0z\" fill=\"none\"/>\n",
       "    <path d=\"M18.56 5.44l.94 2.06.94-2.06 2.06-.94-2.06-.94-.94-2.06-.94 2.06-2.06.94zm-11 1L8.5 8.5l.94-2.06 2.06-.94-2.06-.94L8.5 2.5l-.94 2.06-2.06.94zm10 10l.94 2.06.94-2.06 2.06-.94-2.06-.94-.94-2.06-.94 2.06-2.06.94z\"/><path d=\"M17.41 7.96l-1.37-1.37c-.4-.4-.92-.59-1.43-.59-.52 0-1.04.2-1.43.59L10.3 9.45l-7.72 7.72c-.78.78-.78 2.05 0 2.83L4 21.41c.39.39.9.59 1.41.59.51 0 1.02-.2 1.41-.59l7.78-7.78 2.81-2.81c.8-.78.8-2.07 0-2.86zM5.41 20L4 18.59l7.72-7.72 1.47 1.35L5.41 20z\"/>\n",
       "  </svg>\n",
       "      </button>\n",
       "      \n",
       "  <style>\n",
       "    .colab-df-container {\n",
       "      display:flex;\n",
       "      flex-wrap:wrap;\n",
       "      gap: 12px;\n",
       "    }\n",
       "\n",
       "    .colab-df-convert {\n",
       "      background-color: #E8F0FE;\n",
       "      border: none;\n",
       "      border-radius: 50%;\n",
       "      cursor: pointer;\n",
       "      display: none;\n",
       "      fill: #1967D2;\n",
       "      height: 32px;\n",
       "      padding: 0 0 0 0;\n",
       "      width: 32px;\n",
       "    }\n",
       "\n",
       "    .colab-df-convert:hover {\n",
       "      background-color: #E2EBFA;\n",
       "      box-shadow: 0px 1px 2px rgba(60, 64, 67, 0.3), 0px 1px 3px 1px rgba(60, 64, 67, 0.15);\n",
       "      fill: #174EA6;\n",
       "    }\n",
       "\n",
       "    [theme=dark] .colab-df-convert {\n",
       "      background-color: #3B4455;\n",
       "      fill: #D2E3FC;\n",
       "    }\n",
       "\n",
       "    [theme=dark] .colab-df-convert:hover {\n",
       "      background-color: #434B5C;\n",
       "      box-shadow: 0px 1px 3px 1px rgba(0, 0, 0, 0.15);\n",
       "      filter: drop-shadow(0px 1px 2px rgba(0, 0, 0, 0.3));\n",
       "      fill: #FFFFFF;\n",
       "    }\n",
       "  </style>\n",
       "\n",
       "      <script>\n",
       "        const buttonEl =\n",
       "          document.querySelector('#df-5095b4f3-3398-4e6b-86b4-22ef32d9481d button.colab-df-convert');\n",
       "        buttonEl.style.display =\n",
       "          google.colab.kernel.accessAllowed ? 'block' : 'none';\n",
       "\n",
       "        async function convertToInteractive(key) {\n",
       "          const element = document.querySelector('#df-5095b4f3-3398-4e6b-86b4-22ef32d9481d');\n",
       "          const dataTable =\n",
       "            await google.colab.kernel.invokeFunction('convertToInteractive',\n",
       "                                                     [key], {});\n",
       "          if (!dataTable) return;\n",
       "\n",
       "          const docLinkHtml = 'Like what you see? Visit the ' +\n",
       "            '<a target=\"_blank\" href=https://colab.research.google.com/notebooks/data_table.ipynb>data table notebook</a>'\n",
       "            + ' to learn more about interactive tables.';\n",
       "          element.innerHTML = '';\n",
       "          dataTable['output_type'] = 'display_data';\n",
       "          await google.colab.output.renderOutput(dataTable, element);\n",
       "          const docLink = document.createElement('div');\n",
       "          docLink.innerHTML = docLinkHtml;\n",
       "          element.appendChild(docLink);\n",
       "        }\n",
       "      </script>\n",
       "    </div>\n",
       "  </div>\n",
       "  "
      ],
      "text/plain": [
       "   Unnamed: 0  category                                        word_vector  \\\n",
       "0           0        24  [[-0.507, -0.49518, 0.46885, 0.54524, -0.11552...   \n",
       "1           1        13  [[0.19911, -0.46156, 0.19674, -1.3298, 0.51805...   \n",
       "2           2        24  [[-0.7403, -0.78746, 0.47018, 0.43474, 0.05842...   \n",
       "3           3        21  [[-0.44257, -0.54624, 0.25403, 0.80731, 1.026,...   \n",
       "4           4        13  [[0.19911, -0.46156, 0.19674, -1.3298, 0.51805...   \n",
       "\n",
       "   label  word_count  \n",
       "0      1           5  \n",
       "1      0           5  \n",
       "2      0           5  \n",
       "3      0           5  \n",
       "4      1           5  "
      ]
     },
     "execution_count": 6,
     "metadata": {},
     "output_type": "execute_result"
    }
   ],
   "source": [
    "data5_2.head()"
   ]
  },
  {
   "cell_type": "code",
   "execution_count": 7,
   "metadata": {
    "id": "hSAGjDrKsxXp"
   },
   "outputs": [],
   "source": [
    "X_oneLstPerRow = get_words(data5_2,5)"
   ]
  },
  {
   "cell_type": "code",
   "execution_count": 8,
   "metadata": {
    "id": "Ozn8WTbmtVB4"
   },
   "outputs": [],
   "source": [
    "y = data5_2['label']"
   ]
  },
  {
   "cell_type": "code",
   "execution_count": 9,
   "metadata": {
    "id": "YIBuQaZdtkuX"
   },
   "outputs": [],
   "source": [
    "X_train, X_val_test, y_train, y_val_test = train_test_split(X_oneLstPerRow, y, test_size=0.2,stratify=y, random_state=1)\n",
    "\n",
    "X_val, X_test, y_val, y_test = train_test_split(X_val_test, y_val_test, test_size=0.5,stratify=y_val_test, random_state=1) "
   ]
  },
  {
   "cell_type": "code",
   "execution_count": 10,
   "metadata": {
    "id": "mRsUomZOtpX7"
   },
   "outputs": [],
   "source": [
    "np_train  = pd.DataFrame(X_train).values\n",
    "np_val = pd.DataFrame(X_val).values\n",
    "np_test  = pd.DataFrame(X_test).values"
   ]
  },
  {
   "cell_type": "code",
   "execution_count": 11,
   "metadata": {
    "id": "mS5VzXILukuX"
   },
   "outputs": [],
   "source": [
    "y_train_categorical = to_categorical(y_train)\n",
    "y_val_categorical = to_categorical(y_val)\n",
    "y_test_categorical = to_categorical(y_test)"
   ]
  },
  {
   "cell_type": "markdown",
   "metadata": {
    "id": "ho65qXjLvuhu"
   },
   "source": [
    "Make the embeddding layer fixed and try different activation functions"
   ]
  },
  {
   "cell_type": "markdown",
   "metadata": {
    "id": "KVs6HXav03QW"
   },
   "source": [
    "Sigmoid Activation Function\n",
    "\n",
    "\n"
   ]
  },
  {
   "cell_type": "code",
   "execution_count": null,
   "metadata": {
    "id": "EeFNvSIJukxR"
   },
   "outputs": [],
   "source": [
    "cnn_trytext = keras.Sequential()\n",
    "cnn_trytext.add(layers.Embedding(500, 50, input_length  = 500))\n",
    "cnn_trytext.add(layers.Conv1D(60, 10, activation = 'relu'))\n",
    "cnn_trytext.add(layers.BatchNormalization())\n",
    "cnn_trytext.add(layers.MaxPool1D())\n",
    "\n",
    "cnn_trytext.add(layers.Conv1D(60, 10, activation = 'relu'))\n",
    "cnn_trytext.add(layers.BatchNormalization())\n",
    "cnn_trytext.add(layers.MaxPool1D())\n",
    "\n",
    "\n",
    "cnn_trytext.add(layers.Flatten())\n",
    "cnn_trytext.add(layers.Dense(30, activation='relu'))\n",
    "\n",
    "cnn_trytext.add(layers.Dense(1, activation='sigmoid'))\n",
    "cnn_trytext.compile(loss = 'binary_crossentropy', optimizer = 'SGD', metrics=['accuracy'])\n",
    "\n",
    "convergence_callback = EarlyStopping(monitor=\"val_accuracy\",patience = 20, mode=\"max\", restore_best_weights=True)"
   ]
  },
  {
   "cell_type": "code",
   "execution_count": null,
   "metadata": {
    "colab": {
     "base_uri": "https://localhost:8080/"
    },
    "id": "yJ7ObNwNwK1U",
    "outputId": "4b9d9c38-bd37-4ed3-c5b4-5041e16a2517"
   },
   "outputs": [
    {
     "name": "stdout",
     "output_type": "stream",
     "text": [
      "Epoch 1/100\n",
      "1538/1538 [==============================] - 22s 9ms/step - loss: 0.3471 - accuracy: 0.7729 - val_loss: 0.3431 - val_accuracy: 0.7711\n",
      "Epoch 2/100\n",
      "1538/1538 [==============================] - 14s 9ms/step - loss: 0.3295 - accuracy: 0.7788 - val_loss: 0.3462 - val_accuracy: 0.7684\n",
      "Epoch 3/100\n",
      "1538/1538 [==============================] - 14s 9ms/step - loss: 0.3259 - accuracy: 0.7818 - val_loss: 0.3473 - val_accuracy: 0.7743\n",
      "Epoch 4/100\n",
      "1538/1538 [==============================] - 14s 9ms/step - loss: 0.3239 - accuracy: 0.7822 - val_loss: 0.3451 - val_accuracy: 0.7693\n",
      "Epoch 5/100\n",
      "1538/1538 [==============================] - 14s 9ms/step - loss: 0.3225 - accuracy: 0.7822 - val_loss: 0.3367 - val_accuracy: 0.7704\n",
      "Epoch 6/100\n",
      "1538/1538 [==============================] - 14s 9ms/step - loss: 0.3218 - accuracy: 0.7834 - val_loss: 0.3364 - val_accuracy: 0.7753\n",
      "Epoch 7/100\n",
      "1538/1538 [==============================] - 15s 10ms/step - loss: 0.3210 - accuracy: 0.7841 - val_loss: 0.3354 - val_accuracy: 0.7702\n",
      "Epoch 8/100\n",
      "1538/1538 [==============================] - 14s 9ms/step - loss: 0.3205 - accuracy: 0.7841 - val_loss: 0.3360 - val_accuracy: 0.7712\n",
      "Epoch 9/100\n",
      "1538/1538 [==============================] - 14s 9ms/step - loss: 0.3200 - accuracy: 0.7843 - val_loss: 0.3366 - val_accuracy: 0.7715\n",
      "Epoch 10/100\n",
      "1538/1538 [==============================] - 14s 9ms/step - loss: 0.3197 - accuracy: 0.7846 - val_loss: 0.3387 - val_accuracy: 0.7689\n",
      "Epoch 11/100\n",
      "1538/1538 [==============================] - 14s 9ms/step - loss: 0.3193 - accuracy: 0.7847 - val_loss: 0.3373 - val_accuracy: 0.7709\n",
      "Epoch 12/100\n",
      "1538/1538 [==============================] - 14s 9ms/step - loss: 0.3192 - accuracy: 0.7837 - val_loss: 0.3388 - val_accuracy: 0.7706\n",
      "Epoch 13/100\n",
      "1538/1538 [==============================] - 14s 9ms/step - loss: 0.3189 - accuracy: 0.7846 - val_loss: 0.3344 - val_accuracy: 0.7719\n",
      "Epoch 14/100\n",
      "1538/1538 [==============================] - 14s 9ms/step - loss: 0.3187 - accuracy: 0.7840 - val_loss: 0.3338 - val_accuracy: 0.7718\n",
      "Epoch 15/100\n",
      "1538/1538 [==============================] - 14s 9ms/step - loss: 0.3185 - accuracy: 0.7848 - val_loss: 0.3336 - val_accuracy: 0.7708\n",
      "Epoch 16/100\n",
      "1538/1538 [==============================] - 14s 9ms/step - loss: 0.3184 - accuracy: 0.7847 - val_loss: 0.3336 - val_accuracy: 0.7708\n",
      "Epoch 17/100\n",
      "1538/1538 [==============================] - 14s 9ms/step - loss: 0.3180 - accuracy: 0.7848 - val_loss: 0.3343 - val_accuracy: 0.7707\n",
      "Epoch 18/100\n",
      "1538/1538 [==============================] - 14s 9ms/step - loss: 0.3181 - accuracy: 0.7848 - val_loss: 0.3383 - val_accuracy: 0.7706\n",
      "Epoch 19/100\n",
      "1538/1538 [==============================] - 14s 9ms/step - loss: 0.3179 - accuracy: 0.7845 - val_loss: 0.3343 - val_accuracy: 0.7706\n",
      "Epoch 20/100\n",
      "1538/1538 [==============================] - 14s 9ms/step - loss: 0.3179 - accuracy: 0.7849 - val_loss: 0.3342 - val_accuracy: 0.7711\n",
      "Epoch 21/100\n",
      "1538/1538 [==============================] - 14s 9ms/step - loss: 0.3178 - accuracy: 0.7849 - val_loss: 0.3359 - val_accuracy: 0.7713\n",
      "Epoch 22/100\n",
      "1538/1538 [==============================] - 14s 9ms/step - loss: 0.3177 - accuracy: 0.7848 - val_loss: 0.3349 - val_accuracy: 0.7711\n",
      "Epoch 23/100\n",
      "1538/1538 [==============================] - 14s 9ms/step - loss: 0.3175 - accuracy: 0.7849 - val_loss: 0.3339 - val_accuracy: 0.7715\n",
      "Epoch 24/100\n",
      "1538/1538 [==============================] - 14s 9ms/step - loss: 0.3173 - accuracy: 0.7851 - val_loss: 0.3341 - val_accuracy: 0.7706\n",
      "Epoch 25/100\n",
      "1538/1538 [==============================] - 14s 9ms/step - loss: 0.3173 - accuracy: 0.7852 - val_loss: 0.3336 - val_accuracy: 0.7711\n",
      "Epoch 26/100\n",
      "1538/1538 [==============================] - 14s 9ms/step - loss: 0.3174 - accuracy: 0.7850 - val_loss: 0.3342 - val_accuracy: 0.7712\n"
     ]
    },
    {
     "data": {
      "text/plain": [
       "<keras.callbacks.History at 0x7fd7503c1460>"
      ]
     },
     "execution_count": 13,
     "metadata": {},
     "output_type": "execute_result"
    }
   ],
   "source": [
    "cnn_trytext.fit(np_train, y_train, validation_data  = (np_val, y_val), epochs=100, batch_size=64, callbacks = [convergence_callback])"
   ]
  },
  {
   "cell_type": "code",
   "execution_count": null,
   "metadata": {
    "colab": {
     "base_uri": "https://localhost:8080/"
    },
    "id": "2my0UhdiyPbL",
    "outputId": "7d2cb8dd-0ac7-48a6-8c5d-f7a79339aed9"
   },
   "outputs": [
    {
     "name": "stdout",
     "output_type": "stream",
     "text": [
      "385/385 [==============================] - 1s 2ms/step\n"
     ]
    }
   ],
   "source": [
    "preds  = cnn_trytext.predict(np_test)"
   ]
  },
  {
   "cell_type": "code",
   "execution_count": null,
   "metadata": {
    "id": "leQryeL0z6IV"
   },
   "outputs": [],
   "source": [
    "np_preds   = (preds>=0.5).astype(int)"
   ]
  },
  {
   "cell_type": "code",
   "execution_count": null,
   "metadata": {
    "colab": {
     "base_uri": "https://localhost:8080/"
    },
    "id": "4JArwTcgz_ul",
    "outputId": "1abb6a9e-7cc4-4b08-d68e-4470ac5f79a6"
   },
   "outputs": [
    {
     "data": {
      "text/plain": [
       "0.8125920213138891"
      ]
     },
     "execution_count": 16,
     "metadata": {},
     "output_type": "execute_result"
    }
   ],
   "source": [
    "f1_score(y_test, np_preds)"
   ]
  },
  {
   "cell_type": "code",
   "execution_count": null,
   "metadata": {
    "colab": {
     "base_uri": "https://localhost:8080/"
    },
    "id": "frAPM_xz0Clq",
    "outputId": "e401ccfb-09a5-4306-d127-925761a35c95"
   },
   "outputs": [
    {
     "data": {
      "text/plain": [
       "0.7827535760728218"
      ]
     },
     "execution_count": 17,
     "metadata": {},
     "output_type": "execute_result"
    }
   ],
   "source": [
    "accuracy_score(y_test, np_preds)"
   ]
  },
  {
   "cell_type": "code",
   "execution_count": null,
   "metadata": {
    "colab": {
     "base_uri": "https://localhost:8080/",
     "height": 296
    },
    "id": "IZyu9tQl0HMo",
    "outputId": "126965da-a282-48ff-b015-872affaf63ce"
   },
   "outputs": [
    {
     "data": {
      "text/plain": [
       "<sklearn.metrics._plot.confusion_matrix.ConfusionMatrixDisplay at 0x7fd75034c5b0>"
      ]
     },
     "execution_count": 19,
     "metadata": {},
     "output_type": "execute_result"
    },
    {
     "data": {
      "image/png": "[encoded data removed]",
      "text/plain": [
       "<Figure size 432x288 with 2 Axes>"
      ]
     },
     "metadata": {
      "needs_background": "light"
     },
     "output_type": "display_data"
    }
   ],
   "source": [
    "ConfusionMatrixDisplay.from_predictions( y_test, np_preds)"
   ]
  },
  {
   "cell_type": "markdown",
   "metadata": {
    "id": "DwZse_W-1G_-"
   },
   "source": [
    "Softmax Activation Function (Binary CrossEntropy)"
   ]
  },
  {
   "cell_type": "code",
   "execution_count": null,
   "metadata": {
    "id": "C1cpfmCK1LFX"
   },
   "outputs": [],
   "source": [
    "cnn_trytext = keras.Sequential()\n",
    "cnn_trytext.add(layers.Embedding(500, 50, input_length  = 500))\n",
    "cnn_trytext.add(layers.Conv1D(60, 10, activation = 'relu'))\n",
    "cnn_trytext.add(layers.BatchNormalization())\n",
    "cnn_trytext.add(layers.MaxPool1D())\n",
    "\n",
    "cnn_trytext.add(layers.Conv1D(60, 10, activation = 'relu'))\n",
    "cnn_trytext.add(layers.BatchNormalization())\n",
    "cnn_trytext.add(layers.MaxPool1D())\n",
    "\n",
    "\n",
    "cnn_trytext.add(layers.Flatten())\n",
    "cnn_trytext.add(layers.Dense(30, activation='relu'))\n",
    "\n",
    "cnn_trytext.add(layers.Dense(2, activation='softmax'))\n",
    "cnn_trytext.compile(loss = 'binary_crossentropy', optimizer = 'SGD', metrics=['accuracy'])\n",
    "\n",
    "convergence_callback = EarlyStopping(monitor=\"val_accuracy\",patience = 20, mode=\"max\", restore_best_weights=True)"
   ]
  },
  {
   "cell_type": "code",
   "execution_count": null,
   "metadata": {
    "colab": {
     "base_uri": "https://localhost:8080/"
    },
    "id": "VN_gdGV-2MBB",
    "outputId": "faaa67c2-d362-4ee5-ffac-948e146fe073"
   },
   "outputs": [
    {
     "name": "stdout",
     "output_type": "stream",
     "text": [
      "Epoch 1/100\n",
      "1538/1538 [==============================] - 15s 9ms/step - loss: 0.3517 - accuracy: 0.7735 - val_loss: 0.3471 - val_accuracy: 0.7703\n",
      "Epoch 2/100\n",
      "1538/1538 [==============================] - 15s 10ms/step - loss: 0.3313 - accuracy: 0.7803 - val_loss: 0.3435 - val_accuracy: 0.7696\n",
      "Epoch 3/100\n",
      "1538/1538 [==============================] - 15s 10ms/step - loss: 0.3277 - accuracy: 0.7815 - val_loss: 0.3385 - val_accuracy: 0.7696\n",
      "Epoch 4/100\n",
      "1538/1538 [==============================] - 14s 9ms/step - loss: 0.3253 - accuracy: 0.7822 - val_loss: 0.3403 - val_accuracy: 0.7695\n",
      "Epoch 5/100\n",
      "1538/1538 [==============================] - 14s 9ms/step - loss: 0.3238 - accuracy: 0.7830 - val_loss: 0.3404 - val_accuracy: 0.7715\n",
      "Epoch 6/100\n",
      "1538/1538 [==============================] - 14s 9ms/step - loss: 0.3228 - accuracy: 0.7830 - val_loss: 0.3511 - val_accuracy: 0.7727\n",
      "Epoch 7/100\n",
      "1538/1538 [==============================] - 14s 9ms/step - loss: 0.3223 - accuracy: 0.7826 - val_loss: 0.3364 - val_accuracy: 0.7719\n",
      "Epoch 8/100\n",
      "1538/1538 [==============================] - 14s 9ms/step - loss: 0.3213 - accuracy: 0.7839 - val_loss: 0.3378 - val_accuracy: 0.7708\n",
      "Epoch 9/100\n",
      "1538/1538 [==============================] - 14s 9ms/step - loss: 0.3208 - accuracy: 0.7839 - val_loss: 0.3385 - val_accuracy: 0.7707\n",
      "Epoch 10/100\n",
      "1538/1538 [==============================] - 14s 9ms/step - loss: 0.3202 - accuracy: 0.7841 - val_loss: 0.3364 - val_accuracy: 0.7710\n",
      "Epoch 11/100\n",
      "1538/1538 [==============================] - 14s 9ms/step - loss: 0.3199 - accuracy: 0.7842 - val_loss: 0.3351 - val_accuracy: 0.7709\n",
      "Epoch 12/100\n",
      "1538/1538 [==============================] - 14s 9ms/step - loss: 0.3197 - accuracy: 0.7843 - val_loss: 0.3356 - val_accuracy: 0.7707\n",
      "Epoch 13/100\n",
      "1538/1538 [==============================] - 14s 9ms/step - loss: 0.3195 - accuracy: 0.7844 - val_loss: 0.3366 - val_accuracy: 0.7708\n",
      "Epoch 14/100\n",
      "1538/1538 [==============================] - 14s 9ms/step - loss: 0.3190 - accuracy: 0.7844 - val_loss: 0.3353 - val_accuracy: 0.7714\n",
      "Epoch 15/100\n",
      "1538/1538 [==============================] - 14s 9ms/step - loss: 0.3189 - accuracy: 0.7845 - val_loss: 0.3338 - val_accuracy: 0.7714\n",
      "Epoch 16/100\n",
      "1538/1538 [==============================] - 14s 9ms/step - loss: 0.3187 - accuracy: 0.7844 - val_loss: 0.3344 - val_accuracy: 0.7756\n",
      "Epoch 17/100\n",
      "1538/1538 [==============================] - 14s 9ms/step - loss: 0.3184 - accuracy: 0.7846 - val_loss: 0.3366 - val_accuracy: 0.7702\n",
      "Epoch 18/100\n",
      "1538/1538 [==============================] - 14s 9ms/step - loss: 0.3183 - accuracy: 0.7846 - val_loss: 0.3360 - val_accuracy: 0.7709\n",
      "Epoch 19/100\n",
      "1538/1538 [==============================] - 14s 9ms/step - loss: 0.3184 - accuracy: 0.7846 - val_loss: 0.3345 - val_accuracy: 0.7714\n",
      "Epoch 20/100\n",
      "1538/1538 [==============================] - 14s 9ms/step - loss: 0.3181 - accuracy: 0.7847 - val_loss: 0.3345 - val_accuracy: 0.7713\n",
      "Epoch 21/100\n",
      "1538/1538 [==============================] - 14s 9ms/step - loss: 0.3179 - accuracy: 0.7850 - val_loss: 0.3365 - val_accuracy: 0.7712\n",
      "Epoch 22/100\n",
      "1538/1538 [==============================] - 14s 9ms/step - loss: 0.3180 - accuracy: 0.7847 - val_loss: 0.3349 - val_accuracy: 0.7711\n",
      "Epoch 23/100\n",
      "1538/1538 [==============================] - 14s 9ms/step - loss: 0.3177 - accuracy: 0.7847 - val_loss: 0.3371 - val_accuracy: 0.7705\n",
      "Epoch 24/100\n",
      "1538/1538 [==============================] - 14s 9ms/step - loss: 0.3178 - accuracy: 0.7849 - val_loss: 0.3342 - val_accuracy: 0.7711\n",
      "Epoch 25/100\n",
      "1538/1538 [==============================] - 14s 9ms/step - loss: 0.3177 - accuracy: 0.7849 - val_loss: 0.3350 - val_accuracy: 0.7717\n",
      "Epoch 26/100\n",
      "1538/1538 [==============================] - 14s 9ms/step - loss: 0.3176 - accuracy: 0.7850 - val_loss: 0.3346 - val_accuracy: 0.7711\n",
      "Epoch 27/100\n",
      "1538/1538 [==============================] - 14s 9ms/step - loss: 0.3175 - accuracy: 0.7851 - val_loss: 0.3351 - val_accuracy: 0.7711\n",
      "Epoch 28/100\n",
      "1538/1538 [==============================] - 15s 10ms/step - loss: 0.3173 - accuracy: 0.7851 - val_loss: 0.3359 - val_accuracy: 0.7711\n",
      "Epoch 29/100\n",
      "1538/1538 [==============================] - 14s 9ms/step - loss: 0.3174 - accuracy: 0.7849 - val_loss: 0.3357 - val_accuracy: 0.7750\n",
      "Epoch 30/100\n",
      "1538/1538 [==============================] - 14s 9ms/step - loss: 0.3172 - accuracy: 0.7848 - val_loss: 0.3354 - val_accuracy: 0.7713\n",
      "Epoch 31/100\n",
      "1538/1538 [==============================] - 14s 9ms/step - loss: 0.3172 - accuracy: 0.7852 - val_loss: 0.3363 - val_accuracy: 0.7715\n",
      "Epoch 32/100\n",
      "1538/1538 [==============================] - 14s 9ms/step - loss: 0.3171 - accuracy: 0.7851 - val_loss: 0.3359 - val_accuracy: 0.7710\n",
      "Epoch 33/100\n",
      "1538/1538 [==============================] - 14s 9ms/step - loss: 0.3172 - accuracy: 0.7850 - val_loss: 0.3351 - val_accuracy: 0.7707\n",
      "Epoch 34/100\n",
      "1538/1538 [==============================] - 14s 9ms/step - loss: 0.3171 - accuracy: 0.7853 - val_loss: 0.3355 - val_accuracy: 0.7709\n",
      "Epoch 35/100\n",
      "1538/1538 [==============================] - 14s 9ms/step - loss: 0.3169 - accuracy: 0.7852 - val_loss: 0.3371 - val_accuracy: 0.7712\n",
      "Epoch 36/100\n",
      "1538/1538 [==============================] - 14s 9ms/step - loss: 0.3171 - accuracy: 0.7852 - val_loss: 0.3353 - val_accuracy: 0.7716\n"
     ]
    },
    {
     "data": {
      "text/plain": [
       "<keras.callbacks.History at 0x7fd6e6046e20>"
      ]
     },
     "execution_count": 23,
     "metadata": {},
     "output_type": "execute_result"
    }
   ],
   "source": [
    "cnn_trytext.fit(np_train, y_train_categorical, validation_data  = (np_val, y_val_categorical), epochs=100, batch_size=64, callbacks = [convergence_callback])"
   ]
  },
  {
   "cell_type": "code",
   "execution_count": null,
   "metadata": {
    "colab": {
     "base_uri": "https://localhost:8080/"
    },
    "id": "pG-9yoQ02VTY",
    "outputId": "a9116ff0-02b8-47f8-8c86-f05752c2ba8d"
   },
   "outputs": [
    {
     "name": "stdout",
     "output_type": "stream",
     "text": [
      "385/385 [==============================] - 1s 2ms/step\n"
     ]
    }
   ],
   "source": [
    "preds  = cnn_trytext.predict(np_test)"
   ]
  },
  {
   "cell_type": "code",
   "execution_count": null,
   "metadata": {
    "id": "XscMeUv54utf"
   },
   "outputs": [],
   "source": [
    "np_preds   = np.argmax(preds, axis = 1)"
   ]
  },
  {
   "cell_type": "code",
   "execution_count": null,
   "metadata": {
    "colab": {
     "base_uri": "https://localhost:8080/"
    },
    "id": "LSsXKAjv5HzH",
    "outputId": "f3f4a14a-c8d8-4caa-d5a7-fc807d6f014a"
   },
   "outputs": [
    {
     "data": {
      "text/plain": [
       "0.8130410499860375"
      ]
     },
     "execution_count": 29,
     "metadata": {},
     "output_type": "execute_result"
    }
   ],
   "source": [
    "f1_score(y_test, np_preds)"
   ]
  },
  {
   "cell_type": "code",
   "execution_count": null,
   "metadata": {
    "colab": {
     "base_uri": "https://localhost:8080/"
    },
    "id": "ScL0ao-a5WIf",
    "outputId": "3e29e0a7-564a-48b9-841d-f7e61ed8d9a1"
   },
   "outputs": [
    {
     "data": {
      "text/plain": [
       "0.7823472041612484"
      ]
     },
     "execution_count": 30,
     "metadata": {},
     "output_type": "execute_result"
    }
   ],
   "source": [
    "accuracy_score(y_test, np_preds)"
   ]
  },
  {
   "cell_type": "code",
   "execution_count": null,
   "metadata": {
    "colab": {
     "base_uri": "https://localhost:8080/",
     "height": 296
    },
    "id": "fJp7yrtO5bNf",
    "outputId": "6ba7b105-ad9b-43fb-c98a-fc2a19c52c2d"
   },
   "outputs": [
    {
     "data": {
      "text/plain": [
       "<sklearn.metrics._plot.confusion_matrix.ConfusionMatrixDisplay at 0x7fd6d3a14640>"
      ]
     },
     "execution_count": 31,
     "metadata": {},
     "output_type": "execute_result"
    },
    {
     "data": {
      "image/png": "[encoded data removed]",
      "text/plain": [
       "<Figure size 432x288 with 2 Axes>"
      ]
     },
     "metadata": {
      "needs_background": "light"
     },
     "output_type": "display_data"
    }
   ],
   "source": [
    "ConfusionMatrixDisplay.from_predictions( y_test, np_preds)"
   ]
  },
  {
   "cell_type": "markdown",
   "metadata": {
    "id": "yV8i4AhSBI-p"
   },
   "source": [
    "Experiment With Different Number of Layers"
   ]
  },
  {
   "cell_type": "markdown",
   "metadata": {
    "id": "mJcmbGlVBs9_"
   },
   "source": [
    "\n",
    "\n",
    "3 Layers instead of 2\n",
    "\n"
   ]
  },
  {
   "cell_type": "code",
   "execution_count": null,
   "metadata": {
    "id": "Rpu8U8m3B53v"
   },
   "outputs": [],
   "source": [
    "layers_acc = []\n",
    "layers_f1 = []"
   ]
  },
  {
   "cell_type": "code",
   "execution_count": null,
   "metadata": {
    "id": "Vk6tQndBBTDV"
   },
   "outputs": [],
   "source": [
    "cnn_trytext = keras.Sequential()\n",
    "cnn_trytext.add(layers.Embedding(500, 50, input_length  = 500))\n",
    "cnn_trytext.add(layers.Conv1D(60, 10, activation = 'relu'))\n",
    "cnn_trytext.add(layers.BatchNormalization())\n",
    "cnn_trytext.add(layers.MaxPool1D())\n",
    "\n",
    "cnn_trytext.add(layers.Conv1D(60, 10, activation = 'relu'))\n",
    "cnn_trytext.add(layers.BatchNormalization())\n",
    "cnn_trytext.add(layers.MaxPool1D())\n",
    "\n",
    "cnn_trytext.add(layers.Conv1D(60, 10, activation = 'relu'))\n",
    "cnn_trytext.add(layers.BatchNormalization())\n",
    "cnn_trytext.add(layers.MaxPool1D())\n",
    "\n",
    "\n",
    "cnn_trytext.add(layers.Flatten())\n",
    "cnn_trytext.add(layers.Dense(30, activation='relu'))\n",
    "\n",
    "cnn_trytext.add(layers.Dense(1, activation='sigmoid'))\n",
    "cnn_trytext.compile(loss = 'binary_crossentropy', optimizer = 'SGD', metrics=['accuracy'])\n",
    "\n",
    "convergence_callback = EarlyStopping(monitor=\"val_accuracy\",patience = 20, mode=\"max\", restore_best_weights=True)"
   ]
  },
  {
   "cell_type": "code",
   "execution_count": null,
   "metadata": {
    "colab": {
     "base_uri": "https://localhost:8080/"
    },
    "id": "RHxXm4bZCbXz",
    "outputId": "f584b5c7-ee55-4f74-d976-f3a933cea63a"
   },
   "outputs": [
    {
     "name": "stdout",
     "output_type": "stream",
     "text": [
      "Epoch 1/100\n",
      "1538/1538 [==============================] - 17s 11ms/step - loss: 0.3516 - accuracy: 0.7723 - val_loss: 0.3478 - val_accuracy: 0.7741\n",
      "Epoch 2/100\n",
      "1538/1538 [==============================] - 16s 11ms/step - loss: 0.3309 - accuracy: 0.7798 - val_loss: 0.3403 - val_accuracy: 0.7724\n",
      "Epoch 3/100\n",
      "1538/1538 [==============================] - 16s 10ms/step - loss: 0.3263 - accuracy: 0.7811 - val_loss: 0.3382 - val_accuracy: 0.7771\n",
      "Epoch 4/100\n",
      "1538/1538 [==============================] - 16s 11ms/step - loss: 0.3239 - accuracy: 0.7822 - val_loss: 0.3365 - val_accuracy: 0.7779\n",
      "Epoch 5/100\n",
      "1538/1538 [==============================] - 16s 11ms/step - loss: 0.3229 - accuracy: 0.7809 - val_loss: 0.3379 - val_accuracy: 0.7746\n",
      "Epoch 6/100\n",
      "1538/1538 [==============================] - 16s 10ms/step - loss: 0.3216 - accuracy: 0.7834 - val_loss: 0.3383 - val_accuracy: 0.7774\n",
      "Epoch 7/100\n",
      "1538/1538 [==============================] - 18s 12ms/step - loss: 0.3210 - accuracy: 0.7838 - val_loss: 0.3363 - val_accuracy: 0.7710\n",
      "Epoch 8/100\n",
      "1538/1538 [==============================] - 18s 12ms/step - loss: 0.3206 - accuracy: 0.7842 - val_loss: 0.3346 - val_accuracy: 0.7752\n",
      "Epoch 9/100\n",
      "1538/1538 [==============================] - 18s 11ms/step - loss: 0.3201 - accuracy: 0.7843 - val_loss: 0.3367 - val_accuracy: 0.7728\n",
      "Epoch 10/100\n",
      "1538/1538 [==============================] - 16s 10ms/step - loss: 0.3197 - accuracy: 0.7839 - val_loss: 0.3351 - val_accuracy: 0.7750\n",
      "Epoch 11/100\n",
      "1538/1538 [==============================] - 17s 11ms/step - loss: 0.3193 - accuracy: 0.7847 - val_loss: 0.3338 - val_accuracy: 0.7714\n",
      "Epoch 12/100\n",
      "1538/1538 [==============================] - 16s 10ms/step - loss: 0.3190 - accuracy: 0.7841 - val_loss: 0.3444 - val_accuracy: 0.7708\n",
      "Epoch 13/100\n",
      "1538/1538 [==============================] - 17s 11ms/step - loss: 0.3188 - accuracy: 0.7848 - val_loss: 0.3348 - val_accuracy: 0.7707\n",
      "Epoch 14/100\n",
      "1538/1538 [==============================] - 17s 11ms/step - loss: 0.3187 - accuracy: 0.7838 - val_loss: 0.3335 - val_accuracy: 0.7711\n",
      "Epoch 15/100\n",
      "1538/1538 [==============================] - 17s 11ms/step - loss: 0.3184 - accuracy: 0.7848 - val_loss: 0.3344 - val_accuracy: 0.7703\n",
      "Epoch 16/100\n",
      "1538/1538 [==============================] - 17s 11ms/step - loss: 0.3182 - accuracy: 0.7848 - val_loss: 0.3371 - val_accuracy: 0.7715\n",
      "Epoch 17/100\n",
      "1538/1538 [==============================] - 16s 10ms/step - loss: 0.3182 - accuracy: 0.7846 - val_loss: 0.3348 - val_accuracy: 0.7711\n",
      "Epoch 18/100\n",
      "1538/1538 [==============================] - 17s 11ms/step - loss: 0.3181 - accuracy: 0.7843 - val_loss: 0.3344 - val_accuracy: 0.7704\n",
      "Epoch 19/100\n",
      "1538/1538 [==============================] - 17s 11ms/step - loss: 0.3178 - accuracy: 0.7841 - val_loss: 0.3358 - val_accuracy: 0.7711\n",
      "Epoch 20/100\n",
      "1538/1538 [==============================] - 16s 10ms/step - loss: 0.3177 - accuracy: 0.7858 - val_loss: 0.3359 - val_accuracy: 0.7709\n",
      "Epoch 21/100\n",
      "1538/1538 [==============================] - 16s 10ms/step - loss: 0.3177 - accuracy: 0.7848 - val_loss: 0.3339 - val_accuracy: 0.7706\n",
      "Epoch 22/100\n",
      "1538/1538 [==============================] - 17s 11ms/step - loss: 0.3175 - accuracy: 0.7852 - val_loss: 0.3366 - val_accuracy: 0.7707\n",
      "Epoch 23/100\n",
      "1538/1538 [==============================] - 17s 11ms/step - loss: 0.3174 - accuracy: 0.7848 - val_loss: 0.3343 - val_accuracy: 0.7700\n",
      "Epoch 24/100\n",
      "1538/1538 [==============================] - 17s 11ms/step - loss: 0.3174 - accuracy: 0.7851 - val_loss: 0.3336 - val_accuracy: 0.7720\n"
     ]
    },
    {
     "data": {
      "text/plain": [
       "<keras.callbacks.History at 0x7fd55449c460>"
      ]
     },
     "execution_count": 76,
     "metadata": {},
     "output_type": "execute_result"
    }
   ],
   "source": [
    "cnn_trytext.fit(np_train, y_train, validation_data  = (np_val, y_val), epochs=100, batch_size=64, callbacks = [convergence_callback])"
   ]
  },
  {
   "cell_type": "code",
   "execution_count": null,
   "metadata": {
    "colab": {
     "base_uri": "https://localhost:8080/"
    },
    "id": "4F5qeDm0CxtE",
    "outputId": "cfd8a0e5-9c02-484e-bdd6-f39fec7adf84"
   },
   "outputs": [
    {
     "name": "stdout",
     "output_type": "stream",
     "text": [
      "385/385 [==============================] - 1s 2ms/step\n"
     ]
    }
   ],
   "source": [
    "preds  = cnn_trytext.predict(np_test)"
   ]
  },
  {
   "cell_type": "code",
   "execution_count": null,
   "metadata": {
    "id": "2xWSGwB_Z_rn"
   },
   "outputs": [],
   "source": [
    "np_preds   = (preds>=0.5).astype(int)"
   ]
  },
  {
   "cell_type": "code",
   "execution_count": null,
   "metadata": {
    "colab": {
     "base_uri": "https://localhost:8080/"
    },
    "id": "rDPPBb6LE3Ax",
    "outputId": "9ef0fc49-58e5-4918-82fd-37a3ce38fa13"
   },
   "outputs": [
    {
     "data": {
      "text/plain": [
       "0.8176322760307003"
      ]
     },
     "execution_count": 79,
     "metadata": {},
     "output_type": "execute_result"
    }
   ],
   "source": [
    "f1_score(y_test, np_preds)"
   ]
  },
  {
   "cell_type": "code",
   "execution_count": null,
   "metadata": {
    "colab": {
     "base_uri": "https://localhost:8080/"
    },
    "id": "WFns3O0EFDkl",
    "outputId": "91ef659d-fc96-4c4e-8813-03de3ea32849"
   },
   "outputs": [
    {
     "data": {
      "text/plain": [
       "0.7817782834850455"
      ]
     },
     "execution_count": 80,
     "metadata": {},
     "output_type": "execute_result"
    }
   ],
   "source": [
    "accuracy_score(y_test, np_preds)"
   ]
  },
  {
   "cell_type": "code",
   "execution_count": null,
   "metadata": {
    "colab": {
     "base_uri": "https://localhost:8080/",
     "height": 300
    },
    "id": "YBPp98PwF3Tm",
    "outputId": "ffcc431a-a7c7-4eea-9287-3e4a2eb80a94"
   },
   "outputs": [
    {
     "data": {
      "text/plain": [
       "<sklearn.metrics._plot.confusion_matrix.ConfusionMatrixDisplay at 0x7fd5543be220>"
      ]
     },
     "execution_count": 81,
     "metadata": {},
     "output_type": "execute_result"
    },
    {
     "data": {
      "image/png": "[encoded data removed]",
      "text/plain": [
       "<Figure size 432x288 with 2 Axes>"
      ]
     },
     "metadata": {
      "needs_background": "light"
     },
     "output_type": "display_data"
    }
   ],
   "source": [
    "ConfusionMatrixDisplay.from_predictions( y_test, np_preds)"
   ]
  },
  {
   "cell_type": "code",
   "execution_count": null,
   "metadata": {
    "id": "xBDW8JTGFZ8Y"
   },
   "outputs": [],
   "source": [
    "layers_acc.append(accuracy_score(y_test, np_preds))\n",
    "layers_f1.append(f1_score(y_test, np_preds))"
   ]
  },
  {
   "cell_type": "markdown",
   "metadata": {
    "id": "8tW5am1LMHEM"
   },
   "source": [
    "4 Layers Architecture"
   ]
  },
  {
   "cell_type": "code",
   "execution_count": null,
   "metadata": {
    "id": "WIK8qXbBMMyq"
   },
   "outputs": [],
   "source": [
    "cnn_trytext = keras.Sequential()\n",
    "cnn_trytext.add(layers.Embedding(500, 50, input_length  = 500))\n",
    "cnn_trytext.add(layers.Conv1D(60, 10, activation = 'relu'))\n",
    "cnn_trytext.add(layers.BatchNormalization())\n",
    "cnn_trytext.add(layers.MaxPool1D())\n",
    "\n",
    "cnn_trytext.add(layers.Conv1D(60, 10, activation = 'relu'))\n",
    "cnn_trytext.add(layers.BatchNormalization())\n",
    "cnn_trytext.add(layers.MaxPool1D())\n",
    "\n",
    "cnn_trytext.add(layers.Conv1D(60, 10, activation = 'relu'))\n",
    "cnn_trytext.add(layers.BatchNormalization())\n",
    "cnn_trytext.add(layers.MaxPool1D())\n",
    "\n",
    "cnn_trytext.add(layers.Conv1D(60, 10, activation = 'relu'))\n",
    "cnn_trytext.add(layers.BatchNormalization())\n",
    "cnn_trytext.add(layers.MaxPool1D())\n",
    "\n",
    "\n",
    "cnn_trytext.add(layers.Flatten())\n",
    "cnn_trytext.add(layers.Dense(30, activation='relu'))\n",
    "\n",
    "cnn_trytext.add(layers.Dense(1, activation='sigmoid'))\n",
    "cnn_trytext.compile(loss = 'binary_crossentropy', optimizer = 'SGD', metrics=['accuracy'])\n",
    "\n",
    "convergence_callback = EarlyStopping(monitor=\"val_accuracy\",patience = 20, mode=\"max\", restore_best_weights=True)"
   ]
  },
  {
   "cell_type": "code",
   "execution_count": null,
   "metadata": {
    "colab": {
     "base_uri": "https://localhost:8080/"
    },
    "id": "MNbodbovMbOo",
    "outputId": "62ef6e9a-1376-4bb9-b139-b4dc1ae4abaa"
   },
   "outputs": [
    {
     "name": "stdout",
     "output_type": "stream",
     "text": [
      "Epoch 1/100\n",
      "1538/1538 [==============================] - 19s 12ms/step - loss: 0.3528 - accuracy: 0.7733 - val_loss: 0.3513 - val_accuracy: 0.7706\n",
      "Epoch 2/100\n",
      "1538/1538 [==============================] - 17s 11ms/step - loss: 0.3312 - accuracy: 0.7796 - val_loss: 0.3411 - val_accuracy: 0.7737\n",
      "Epoch 3/100\n",
      "1538/1538 [==============================] - 18s 12ms/step - loss: 0.3259 - accuracy: 0.7828 - val_loss: 0.3405 - val_accuracy: 0.7742\n",
      "Epoch 4/100\n",
      "1538/1538 [==============================] - 17s 11ms/step - loss: 0.3236 - accuracy: 0.7821 - val_loss: 0.3391 - val_accuracy: 0.7731\n",
      "Epoch 5/100\n",
      "1538/1538 [==============================] - 17s 11ms/step - loss: 0.3226 - accuracy: 0.7822 - val_loss: 0.3376 - val_accuracy: 0.7713\n",
      "Epoch 6/100\n",
      "1538/1538 [==============================] - 18s 12ms/step - loss: 0.3215 - accuracy: 0.7826 - val_loss: 0.3361 - val_accuracy: 0.7751\n",
      "Epoch 7/100\n",
      "1538/1538 [==============================] - 17s 11ms/step - loss: 0.3206 - accuracy: 0.7830 - val_loss: 0.3364 - val_accuracy: 0.7702\n",
      "Epoch 8/100\n",
      "1538/1538 [==============================] - 18s 12ms/step - loss: 0.3202 - accuracy: 0.7843 - val_loss: 0.3359 - val_accuracy: 0.7698\n",
      "Epoch 9/100\n",
      "1538/1538 [==============================] - 18s 11ms/step - loss: 0.3198 - accuracy: 0.7839 - val_loss: 0.3374 - val_accuracy: 0.7721\n",
      "Epoch 10/100\n",
      "1538/1538 [==============================] - 17s 11ms/step - loss: 0.3193 - accuracy: 0.7844 - val_loss: 0.3364 - val_accuracy: 0.7711\n",
      "Epoch 11/100\n",
      "1538/1538 [==============================] - 17s 11ms/step - loss: 0.3190 - accuracy: 0.7833 - val_loss: 0.3401 - val_accuracy: 0.7710\n",
      "Epoch 12/100\n",
      "1538/1538 [==============================] - 17s 11ms/step - loss: 0.3185 - accuracy: 0.7840 - val_loss: 0.3340 - val_accuracy: 0.7750\n",
      "Epoch 13/100\n",
      "1538/1538 [==============================] - 17s 11ms/step - loss: 0.3183 - accuracy: 0.7841 - val_loss: 0.3346 - val_accuracy: 0.7711\n",
      "Epoch 14/100\n",
      "1538/1538 [==============================] - 17s 11ms/step - loss: 0.3182 - accuracy: 0.7834 - val_loss: 0.3358 - val_accuracy: 0.7705\n",
      "Epoch 15/100\n",
      "1538/1538 [==============================] - 18s 11ms/step - loss: 0.3180 - accuracy: 0.7842 - val_loss: 0.3372 - val_accuracy: 0.7712\n",
      "Epoch 16/100\n",
      "1538/1538 [==============================] - 17s 11ms/step - loss: 0.3178 - accuracy: 0.7849 - val_loss: 0.3347 - val_accuracy: 0.7754\n",
      "Epoch 17/100\n",
      "1538/1538 [==============================] - 17s 11ms/step - loss: 0.3175 - accuracy: 0.7833 - val_loss: 0.3363 - val_accuracy: 0.7709\n",
      "Epoch 18/100\n",
      "1538/1538 [==============================] - 17s 11ms/step - loss: 0.3174 - accuracy: 0.7853 - val_loss: 0.3339 - val_accuracy: 0.7712\n",
      "Epoch 19/100\n",
      "1538/1538 [==============================] - 17s 11ms/step - loss: 0.3174 - accuracy: 0.7840 - val_loss: 0.3364 - val_accuracy: 0.7706\n",
      "Epoch 20/100\n",
      "1538/1538 [==============================] - 17s 11ms/step - loss: 0.3171 - accuracy: 0.7853 - val_loss: 0.3352 - val_accuracy: 0.7715\n",
      "Epoch 21/100\n",
      "1538/1538 [==============================] - 17s 11ms/step - loss: 0.3172 - accuracy: 0.7851 - val_loss: 0.3351 - val_accuracy: 0.7711\n",
      "Epoch 22/100\n",
      "1538/1538 [==============================] - 17s 11ms/step - loss: 0.3171 - accuracy: 0.7854 - val_loss: 0.3352 - val_accuracy: 0.7716\n",
      "Epoch 23/100\n",
      "1538/1538 [==============================] - 17s 11ms/step - loss: 0.3169 - accuracy: 0.7847 - val_loss: 0.3345 - val_accuracy: 0.7713\n",
      "Epoch 24/100\n",
      "1538/1538 [==============================] - 17s 11ms/step - loss: 0.3169 - accuracy: 0.7854 - val_loss: 0.3384 - val_accuracy: 0.7715\n",
      "Epoch 25/100\n",
      "1538/1538 [==============================] - 18s 11ms/step - loss: 0.3169 - accuracy: 0.7853 - val_loss: 0.3359 - val_accuracy: 0.7711\n",
      "Epoch 26/100\n",
      "1538/1538 [==============================] - 18s 12ms/step - loss: 0.3168 - accuracy: 0.7851 - val_loss: 0.3357 - val_accuracy: 0.7710\n",
      "Epoch 27/100\n",
      "1538/1538 [==============================] - 18s 11ms/step - loss: 0.3166 - accuracy: 0.7851 - val_loss: 0.3356 - val_accuracy: 0.7712\n",
      "Epoch 28/100\n",
      "1538/1538 [==============================] - 18s 11ms/step - loss: 0.3165 - accuracy: 0.7850 - val_loss: 0.3360 - val_accuracy: 0.7715\n",
      "Epoch 29/100\n",
      "1538/1538 [==============================] - 17s 11ms/step - loss: 0.3165 - accuracy: 0.7838 - val_loss: 0.3357 - val_accuracy: 0.7713\n",
      "Epoch 30/100\n",
      "1538/1538 [==============================] - 17s 11ms/step - loss: 0.3165 - accuracy: 0.7848 - val_loss: 0.3348 - val_accuracy: 0.7711\n",
      "Epoch 31/100\n",
      "1538/1538 [==============================] - 18s 12ms/step - loss: 0.3165 - accuracy: 0.7846 - val_loss: 0.3360 - val_accuracy: 0.7715\n",
      "Epoch 32/100\n",
      "1538/1538 [==============================] - 18s 11ms/step - loss: 0.3164 - accuracy: 0.7854 - val_loss: 0.3349 - val_accuracy: 0.7715\n",
      "Epoch 33/100\n",
      "1538/1538 [==============================] - 18s 12ms/step - loss: 0.3163 - accuracy: 0.7852 - val_loss: 0.3355 - val_accuracy: 0.7718\n",
      "Epoch 34/100\n",
      "1538/1538 [==============================] - 17s 11ms/step - loss: 0.3162 - accuracy: 0.7850 - val_loss: 0.3355 - val_accuracy: 0.7712\n",
      "Epoch 35/100\n",
      "1538/1538 [==============================] - 17s 11ms/step - loss: 0.3163 - accuracy: 0.7853 - val_loss: 0.3354 - val_accuracy: 0.7711\n",
      "Epoch 36/100\n",
      "1538/1538 [==============================] - 17s 11ms/step - loss: 0.3162 - accuracy: 0.7851 - val_loss: 0.3364 - val_accuracy: 0.7706\n"
     ]
    },
    {
     "data": {
      "text/plain": [
       "<keras.callbacks.History at 0x7fd550fe18e0>"
      ]
     },
     "execution_count": 84,
     "metadata": {},
     "output_type": "execute_result"
    }
   ],
   "source": [
    "cnn_trytext.fit(np_train, y_train, validation_data  = (np_val, y_val), epochs=100, batch_size=64, callbacks = [convergence_callback])"
   ]
  },
  {
   "cell_type": "code",
   "execution_count": null,
   "metadata": {
    "colab": {
     "base_uri": "https://localhost:8080/"
    },
    "id": "Xv9ykLsNMzmd",
    "outputId": "bf0a280e-cb7d-4979-8176-f01e92009191"
   },
   "outputs": [
    {
     "name": "stdout",
     "output_type": "stream",
     "text": [
      "385/385 [==============================] - 1s 2ms/step\n"
     ]
    }
   ],
   "source": [
    "preds  = cnn_trytext.predict(np_test)"
   ]
  },
  {
   "cell_type": "code",
   "execution_count": null,
   "metadata": {
    "id": "NIhd7uAaZ5Y5"
   },
   "outputs": [],
   "source": [
    "np_preds   = (preds>=0.5).astype(int)"
   ]
  },
  {
   "cell_type": "code",
   "execution_count": null,
   "metadata": {
    "colab": {
     "base_uri": "https://localhost:8080/"
    },
    "id": "mb5E0JW2PhcV",
    "outputId": "18629b49-ce16-4397-8f8c-3ead44a21a33"
   },
   "outputs": [
    {
     "data": {
      "text/plain": [
       "0.813875262789068"
      ]
     },
     "execution_count": 87,
     "metadata": {},
     "output_type": "execute_result"
    }
   ],
   "source": [
    "f1_score(y_test, np_preds)"
   ]
  },
  {
   "cell_type": "code",
   "execution_count": null,
   "metadata": {
    "colab": {
     "base_uri": "https://localhost:8080/"
    },
    "id": "9-WYV9R3P2W5",
    "outputId": "aa76ab0c-f96f-4990-dafe-6bb0131f66ba"
   },
   "outputs": [
    {
     "data": {
      "text/plain": [
       "0.7841352405721717"
      ]
     },
     "execution_count": 88,
     "metadata": {},
     "output_type": "execute_result"
    }
   ],
   "source": [
    "accuracy_score(y_test, np_preds)"
   ]
  },
  {
   "cell_type": "code",
   "execution_count": null,
   "metadata": {
    "colab": {
     "base_uri": "https://localhost:8080/",
     "height": 296
    },
    "id": "_xPtM0rnQIKM",
    "outputId": "d2babbc4-8e82-4ce6-ae3e-67cea9b778de"
   },
   "outputs": [
    {
     "data": {
      "text/plain": [
       "<sklearn.metrics._plot.confusion_matrix.ConfusionMatrixDisplay at 0x7fd550d8f460>"
      ]
     },
     "execution_count": 89,
     "metadata": {},
     "output_type": "execute_result"
    },
    {
     "data": {
      "image/png": "[encoded data removed]",
      "text/plain": [
       "<Figure size 432x288 with 2 Axes>"
      ]
     },
     "metadata": {
      "needs_background": "light"
     },
     "output_type": "display_data"
    }
   ],
   "source": [
    "ConfusionMatrixDisplay.from_predictions( y_test, np_preds)"
   ]
  },
  {
   "cell_type": "code",
   "execution_count": null,
   "metadata": {
    "id": "iZZzC1cMQSsG"
   },
   "outputs": [],
   "source": [
    "layers_acc.append(accuracy_score(y_test, np_preds))\n",
    "layers_f1.append(f1_score(y_test, np_preds))"
   ]
  },
  {
   "cell_type": "code",
   "execution_count": null,
   "metadata": {
    "id": "GcJFS9dqSZ5B"
   },
   "outputs": [],
   "source": [
    "layers_acc.insert(0,0.782)\n",
    "layers_f1.insert(0,0.812 )"
   ]
  },
  {
   "cell_type": "code",
   "execution_count": null,
   "metadata": {
    "colab": {
     "base_uri": "https://localhost:8080/",
     "height": 295
    },
    "id": "fTCF08thTc-i",
    "outputId": "6661ced6-a2b4-4439-d85e-4028d945d840"
   },
   "outputs": [
    {
     "data": {
      "image/png": "[encoded data removed]",
      "text/plain": [
       "<Figure size 432x288 with 1 Axes>"
      ]
     },
     "metadata": {
      "needs_background": "light"
     },
     "output_type": "display_data"
    }
   ],
   "source": [
    "plt.plot([2,3, 4], layers_acc)\n",
    "plt.xlabel(\"Layers of Architecture\")\n",
    "plt.ylabel(\"Accuracy\")\n",
    "plt.title(\"Layers vs Accuracy\")\n",
    "plt.show()"
   ]
  },
  {
   "cell_type": "code",
   "execution_count": null,
   "metadata": {
    "colab": {
     "base_uri": "https://localhost:8080/",
     "height": 295
    },
    "id": "1lmLREgBVppI",
    "outputId": "22e0b08b-4771-4e7d-a31f-6cfe66d65ce2"
   },
   "outputs": [
    {
     "data": {
      "image/png": "[encoded data removed]",
      "text/plain": [
       "<Figure size 432x288 with 1 Axes>"
      ]
     },
     "metadata": {
      "needs_background": "light"
     },
     "output_type": "display_data"
    }
   ],
   "source": [
    "plt.plot(range(2,5), layers_f1)\n",
    "plt.xlabel(\"Layers of Architecture\")\n",
    "plt.ylabel(\"F1-Score\")\n",
    "plt.title(\"Layers vs F1-Score\")\n",
    "plt.show()"
   ]
  },
  {
   "cell_type": "markdown",
   "metadata": {
    "id": "v_klEkWSRdRr"
   },
   "source": [
    "We have tried a 2 layer, 3 layer, and 4 layer and we see the three layer architecture has higher f1 score, and thus more balanced so we will stick with the three layer architecture and try to change the embedding layer value  "
   ]
  },
  {
   "cell_type": "markdown",
   "metadata": {
    "id": "khBpC37JSJIO"
   },
   "source": [
    "Try different numbers for the embedding vector"
   ]
  },
  {
   "cell_type": "markdown",
   "metadata": {
    "id": "IkOycdUmc1Sz"
   },
   "source": [
    "Embedding = 100"
   ]
  },
  {
   "cell_type": "code",
   "execution_count": null,
   "metadata": {
    "id": "VOv3w1CYWRBx"
   },
   "outputs": [],
   "source": [
    "embedd_acc = []\n",
    "embedd_f1 = []"
   ]
  },
  {
   "cell_type": "code",
   "execution_count": null,
   "metadata": {
    "id": "Ii9-Qe6NRZ01"
   },
   "outputs": [],
   "source": [
    "cnn_trytext = keras.Sequential()\n",
    "cnn_trytext.add(layers.Embedding(500, 100, input_length  = 500))\n",
    "cnn_trytext.add(layers.Conv1D(60, 10, activation = 'relu'))\n",
    "cnn_trytext.add(layers.BatchNormalization())\n",
    "cnn_trytext.add(layers.MaxPool1D())\n",
    "\n",
    "cnn_trytext.add(layers.Conv1D(60, 10, activation = 'relu'))\n",
    "cnn_trytext.add(layers.BatchNormalization())\n",
    "cnn_trytext.add(layers.MaxPool1D())\n",
    "\n",
    "cnn_trytext.add(layers.Conv1D(60, 10, activation = 'relu'))\n",
    "cnn_trytext.add(layers.BatchNormalization())\n",
    "cnn_trytext.add(layers.MaxPool1D())\n",
    "\n",
    "\n",
    "cnn_trytext.add(layers.Flatten())\n",
    "cnn_trytext.add(layers.Dense(30, activation='relu'))\n",
    "\n",
    "cnn_trytext.add(layers.Dense(1, activation='sigmoid'))\n",
    "cnn_trytext.compile(loss = 'binary_crossentropy', optimizer = 'SGD', metrics=['accuracy'])\n",
    "\n",
    "convergence_callback = EarlyStopping(monitor=\"val_accuracy\",patience = 20, mode=\"max\", restore_best_weights=True)"
   ]
  },
  {
   "cell_type": "code",
   "execution_count": null,
   "metadata": {
    "colab": {
     "base_uri": "https://localhost:8080/"
    },
    "id": "HvYXfjhSW5BF",
    "outputId": "5cb3b2b5-887c-4427-b181-e36f2e493c3d"
   },
   "outputs": [
    {
     "name": "stdout",
     "output_type": "stream",
     "text": [
      "Epoch 1/100\n",
      "1538/1538 [==============================] - 20s 13ms/step - loss: 0.3520 - accuracy: 0.7735 - val_loss: 0.3529 - val_accuracy: 0.7715\n",
      "Epoch 2/100\n",
      "1538/1538 [==============================] - 20s 13ms/step - loss: 0.3306 - accuracy: 0.7812 - val_loss: 0.3397 - val_accuracy: 0.7737\n",
      "Epoch 3/100\n",
      "1538/1538 [==============================] - 20s 13ms/step - loss: 0.3272 - accuracy: 0.7807 - val_loss: 0.3391 - val_accuracy: 0.7705\n",
      "Epoch 4/100\n",
      "1538/1538 [==============================] - 19s 12ms/step - loss: 0.3249 - accuracy: 0.7809 - val_loss: 0.3414 - val_accuracy: 0.7701\n",
      "Epoch 5/100\n",
      "1538/1538 [==============================] - 19s 12ms/step - loss: 0.3232 - accuracy: 0.7815 - val_loss: 0.3394 - val_accuracy: 0.7763\n",
      "Epoch 6/100\n",
      "1538/1538 [==============================] - 20s 13ms/step - loss: 0.3221 - accuracy: 0.7838 - val_loss: 0.3361 - val_accuracy: 0.7739\n",
      "Epoch 7/100\n",
      "1538/1538 [==============================] - 20s 13ms/step - loss: 0.3213 - accuracy: 0.7833 - val_loss: 0.3355 - val_accuracy: 0.7726\n",
      "Epoch 8/100\n",
      "1538/1538 [==============================] - 19s 12ms/step - loss: 0.3207 - accuracy: 0.7829 - val_loss: 0.3374 - val_accuracy: 0.7744\n",
      "Epoch 9/100\n",
      "1538/1538 [==============================] - 20s 13ms/step - loss: 0.3203 - accuracy: 0.7838 - val_loss: 0.3350 - val_accuracy: 0.7709\n",
      "Epoch 10/100\n",
      "1538/1538 [==============================] - 20s 13ms/step - loss: 0.3200 - accuracy: 0.7839 - val_loss: 0.3379 - val_accuracy: 0.7733\n",
      "Epoch 11/100\n",
      "1538/1538 [==============================] - 19s 12ms/step - loss: 0.3193 - accuracy: 0.7840 - val_loss: 0.3370 - val_accuracy: 0.7711\n",
      "Epoch 12/100\n",
      "1538/1538 [==============================] - 20s 13ms/step - loss: 0.3194 - accuracy: 0.7839 - val_loss: 0.3343 - val_accuracy: 0.7706\n",
      "Epoch 13/100\n",
      "1538/1538 [==============================] - 19s 12ms/step - loss: 0.3189 - accuracy: 0.7846 - val_loss: 0.3346 - val_accuracy: 0.7709\n",
      "Epoch 14/100\n",
      "1538/1538 [==============================] - 20s 13ms/step - loss: 0.3189 - accuracy: 0.7834 - val_loss: 0.3355 - val_accuracy: 0.7707\n",
      "Epoch 15/100\n",
      "1538/1538 [==============================] - 20s 13ms/step - loss: 0.3187 - accuracy: 0.7849 - val_loss: 0.3357 - val_accuracy: 0.7709\n",
      "Epoch 16/100\n",
      "1538/1538 [==============================] - 20s 13ms/step - loss: 0.3185 - accuracy: 0.7844 - val_loss: 0.3381 - val_accuracy: 0.7742\n",
      "Epoch 17/100\n",
      "1538/1538 [==============================] - 20s 13ms/step - loss: 0.3183 - accuracy: 0.7845 - val_loss: 0.3347 - val_accuracy: 0.7711\n",
      "Epoch 18/100\n",
      "1538/1538 [==============================] - 20s 13ms/step - loss: 0.3181 - accuracy: 0.7843 - val_loss: 0.3351 - val_accuracy: 0.7706\n",
      "Epoch 19/100\n",
      "1538/1538 [==============================] - 19s 12ms/step - loss: 0.3181 - accuracy: 0.7836 - val_loss: 0.3355 - val_accuracy: 0.7710\n",
      "Epoch 20/100\n",
      "1538/1538 [==============================] - 20s 13ms/step - loss: 0.3178 - accuracy: 0.7849 - val_loss: 0.3352 - val_accuracy: 0.7705\n",
      "Epoch 21/100\n",
      "1538/1538 [==============================] - 19s 12ms/step - loss: 0.3179 - accuracy: 0.7845 - val_loss: 0.3346 - val_accuracy: 0.7705\n",
      "Epoch 22/100\n",
      "1538/1538 [==============================] - 20s 13ms/step - loss: 0.3176 - accuracy: 0.7852 - val_loss: 0.3350 - val_accuracy: 0.7709\n",
      "Epoch 23/100\n",
      "1538/1538 [==============================] - 20s 13ms/step - loss: 0.3176 - accuracy: 0.7845 - val_loss: 0.3344 - val_accuracy: 0.7702\n",
      "Epoch 24/100\n",
      "1538/1538 [==============================] - 19s 12ms/step - loss: 0.3175 - accuracy: 0.7842 - val_loss: 0.3365 - val_accuracy: 0.7691\n",
      "Epoch 25/100\n",
      "1538/1538 [==============================] - 20s 13ms/step - loss: 0.3174 - accuracy: 0.7851 - val_loss: 0.3353 - val_accuracy: 0.7711\n"
     ]
    },
    {
     "data": {
      "text/plain": [
       "<keras.callbacks.History at 0x7fd5546e4310>"
      ]
     },
     "execution_count": 66,
     "metadata": {},
     "output_type": "execute_result"
    }
   ],
   "source": [
    "cnn_trytext.fit(np_train, y_train, validation_data  = (np_val, y_val), epochs=100, batch_size=64, callbacks = [convergence_callback])"
   ]
  },
  {
   "cell_type": "code",
   "execution_count": null,
   "metadata": {
    "colab": {
     "base_uri": "https://localhost:8080/"
    },
    "id": "rdB54Xd7XAsB",
    "outputId": "74bfa930-646f-4492-f3e2-d30fa1a94ba2"
   },
   "outputs": [
    {
     "name": "stdout",
     "output_type": "stream",
     "text": [
      "385/385 [==============================] - 1s 2ms/step\n"
     ]
    }
   ],
   "source": [
    "preds  = cnn_trytext.predict(np_test)"
   ]
  },
  {
   "cell_type": "code",
   "execution_count": null,
   "metadata": {
    "id": "DXMvP4QKZZIN"
   },
   "outputs": [],
   "source": [
    "np_preds   = (preds>=0.5).astype(int)"
   ]
  },
  {
   "cell_type": "code",
   "execution_count": null,
   "metadata": {
    "colab": {
     "base_uri": "https://localhost:8080/"
    },
    "id": "Vu6pQKIwa-JZ",
    "outputId": "d62da740-b34c-483a-9f29-576e402ae6e3"
   },
   "outputs": [
    {
     "data": {
      "text/plain": [
       "0.8157858801037826"
      ]
     },
     "execution_count": 70,
     "metadata": {},
     "output_type": "execute_result"
    }
   ],
   "source": [
    "f1_score(y_test, np_preds)"
   ]
  },
  {
   "cell_type": "code",
   "execution_count": null,
   "metadata": {
    "colab": {
     "base_uri": "https://localhost:8080/"
    },
    "id": "XCpQYGvUbJN0",
    "outputId": "b42f9b58-234a-401a-99a6-2d6838517cac"
   },
   "outputs": [
    {
     "data": {
      "text/plain": [
       "0.7807217165149545"
      ]
     },
     "execution_count": 71,
     "metadata": {},
     "output_type": "execute_result"
    }
   ],
   "source": [
    "accuracy_score(y_test, np_preds)"
   ]
  },
  {
   "cell_type": "code",
   "execution_count": null,
   "metadata": {
    "colab": {
     "base_uri": "https://localhost:8080/",
     "height": 296
    },
    "id": "T-fK3bO-bVyL",
    "outputId": "1a0b6c2a-21fd-4a18-c2d8-fb9c40b516b7"
   },
   "outputs": [
    {
     "data": {
      "text/plain": [
       "<sklearn.metrics._plot.confusion_matrix.ConfusionMatrixDisplay at 0x7fd55440b8b0>"
      ]
     },
     "execution_count": 72,
     "metadata": {},
     "output_type": "execute_result"
    },
    {
     "data": {
      "image/png": "[encoded data removed]",
      "text/plain": [
       "<Figure size 432x288 with 2 Axes>"
      ]
     },
     "metadata": {
      "needs_background": "light"
     },
     "output_type": "display_data"
    }
   ],
   "source": [
    "ConfusionMatrixDisplay.from_predictions( y_test, np_preds)"
   ]
  },
  {
   "cell_type": "code",
   "execution_count": null,
   "metadata": {
    "id": "c-DrJIobbjvm"
   },
   "outputs": [],
   "source": [
    "embedd_acc.append(accuracy_score(y_test, np_preds))\n",
    "embedd_f1.append(f1_score(y_test, np_preds))"
   ]
  },
  {
   "cell_type": "markdown",
   "metadata": {
    "id": "TnH7SNFYc7yn"
   },
   "source": [
    "Embedding = 200"
   ]
  },
  {
   "cell_type": "code",
   "execution_count": null,
   "metadata": {
    "id": "ArfuUTrIc_kf"
   },
   "outputs": [],
   "source": [
    "cnn_trytext = keras.Sequential()\n",
    "cnn_trytext.add(layers.Embedding(500, 200, input_length  = 500))\n",
    "cnn_trytext.add(layers.Conv1D(60, 10, activation = 'relu'))\n",
    "cnn_trytext.add(layers.BatchNormalization())\n",
    "cnn_trytext.add(layers.MaxPool1D())\n",
    "\n",
    "cnn_trytext.add(layers.Conv1D(60, 10, activation = 'relu'))\n",
    "cnn_trytext.add(layers.BatchNormalization())\n",
    "cnn_trytext.add(layers.MaxPool1D())\n",
    "\n",
    "cnn_trytext.add(layers.Conv1D(60, 10, activation = 'relu'))\n",
    "cnn_trytext.add(layers.BatchNormalization())\n",
    "cnn_trytext.add(layers.MaxPool1D())\n",
    "\n",
    "\n",
    "cnn_trytext.add(layers.Flatten())\n",
    "cnn_trytext.add(layers.Dense(30, activation='relu'))\n",
    "\n",
    "cnn_trytext.add(layers.Dense(1, activation='sigmoid'))\n",
    "cnn_trytext.compile(loss = 'binary_crossentropy', optimizer = 'SGD', metrics=['accuracy'])\n",
    "\n",
    "convergence_callback = EarlyStopping(monitor=\"val_accuracy\",patience = 20, mode=\"max\", restore_best_weights=True)"
   ]
  },
  {
   "cell_type": "code",
   "execution_count": null,
   "metadata": {
    "colab": {
     "base_uri": "https://localhost:8080/"
    },
    "id": "uzlVp_VtjcHg",
    "outputId": "5a633746-3f4b-4624-e576-564d547fe71b"
   },
   "outputs": [
    {
     "name": "stdout",
     "output_type": "stream",
     "text": [
      "Epoch 1/100\n",
      "1538/1538 [==============================] - 28s 17ms/step - loss: 0.3487 - accuracy: 0.7723 - val_loss: 0.3573 - val_accuracy: 0.7707\n",
      "Epoch 2/100\n",
      "1538/1538 [==============================] - 26s 17ms/step - loss: 0.3296 - accuracy: 0.7797 - val_loss: 0.3400 - val_accuracy: 0.7719\n",
      "Epoch 3/100\n",
      "1538/1538 [==============================] - 26s 17ms/step - loss: 0.3257 - accuracy: 0.7827 - val_loss: 0.3377 - val_accuracy: 0.7703\n",
      "Epoch 4/100\n",
      "1538/1538 [==============================] - 25s 17ms/step - loss: 0.3237 - accuracy: 0.7826 - val_loss: 0.3359 - val_accuracy: 0.7707\n",
      "Epoch 5/100\n",
      "1538/1538 [==============================] - 25s 16ms/step - loss: 0.3224 - accuracy: 0.7837 - val_loss: 0.3451 - val_accuracy: 0.7750\n",
      "Epoch 6/100\n",
      "1538/1538 [==============================] - 25s 16ms/step - loss: 0.3215 - accuracy: 0.7828 - val_loss: 0.3362 - val_accuracy: 0.7754\n",
      "Epoch 7/100\n",
      "1538/1538 [==============================] - 26s 17ms/step - loss: 0.3208 - accuracy: 0.7841 - val_loss: 0.3366 - val_accuracy: 0.7706\n",
      "Epoch 8/100\n",
      "1538/1538 [==============================] - 25s 16ms/step - loss: 0.3205 - accuracy: 0.7841 - val_loss: 0.3356 - val_accuracy: 0.7713\n",
      "Epoch 9/100\n",
      "1538/1538 [==============================] - 26s 17ms/step - loss: 0.3201 - accuracy: 0.7842 - val_loss: 0.3350 - val_accuracy: 0.7709\n",
      "Epoch 10/100\n",
      "1538/1538 [==============================] - 26s 17ms/step - loss: 0.3193 - accuracy: 0.7844 - val_loss: 0.3350 - val_accuracy: 0.7754\n",
      "Epoch 11/100\n",
      "1538/1538 [==============================] - 26s 17ms/step - loss: 0.3191 - accuracy: 0.7840 - val_loss: 0.3383 - val_accuracy: 0.7751\n",
      "Epoch 12/100\n",
      "1538/1538 [==============================] - 27s 17ms/step - loss: 0.3189 - accuracy: 0.7840 - val_loss: 0.3352 - val_accuracy: 0.7713\n",
      "Epoch 13/100\n",
      "1538/1538 [==============================] - 25s 16ms/step - loss: 0.3186 - accuracy: 0.7847 - val_loss: 0.3369 - val_accuracy: 0.7704\n",
      "Epoch 14/100\n",
      "1538/1538 [==============================] - 27s 17ms/step - loss: 0.3182 - accuracy: 0.7847 - val_loss: 0.3367 - val_accuracy: 0.7704\n",
      "Epoch 15/100\n",
      "1538/1538 [==============================] - 27s 18ms/step - loss: 0.3181 - accuracy: 0.7840 - val_loss: 0.3346 - val_accuracy: 0.7709\n",
      "Epoch 16/100\n",
      "1538/1538 [==============================] - 26s 17ms/step - loss: 0.3179 - accuracy: 0.7849 - val_loss: 0.3345 - val_accuracy: 0.7714\n",
      "Epoch 17/100\n",
      "1538/1538 [==============================] - 27s 18ms/step - loss: 0.3179 - accuracy: 0.7845 - val_loss: 0.3353 - val_accuracy: 0.7751\n",
      "Epoch 18/100\n",
      "1538/1538 [==============================] - 26s 17ms/step - loss: 0.3177 - accuracy: 0.7848 - val_loss: 0.3348 - val_accuracy: 0.7712\n",
      "Epoch 19/100\n",
      "1538/1538 [==============================] - 25s 16ms/step - loss: 0.3175 - accuracy: 0.7852 - val_loss: 0.3355 - val_accuracy: 0.7741\n",
      "Epoch 20/100\n",
      "1538/1538 [==============================] - 26s 17ms/step - loss: 0.3176 - accuracy: 0.7844 - val_loss: 0.3340 - val_accuracy: 0.7715\n",
      "Epoch 21/100\n",
      "1538/1538 [==============================] - 26s 17ms/step - loss: 0.3174 - accuracy: 0.7847 - val_loss: 0.3380 - val_accuracy: 0.7748\n",
      "Epoch 22/100\n",
      "1538/1538 [==============================] - 25s 16ms/step - loss: 0.3173 - accuracy: 0.7833 - val_loss: 0.3350 - val_accuracy: 0.7754\n",
      "Epoch 23/100\n",
      "1538/1538 [==============================] - 25s 16ms/step - loss: 0.3173 - accuracy: 0.7850 - val_loss: 0.3341 - val_accuracy: 0.7710\n",
      "Epoch 24/100\n",
      "1538/1538 [==============================] - 26s 17ms/step - loss: 0.3174 - accuracy: 0.7847 - val_loss: 0.3349 - val_accuracy: 0.7715\n",
      "Epoch 25/100\n",
      "1538/1538 [==============================] - 27s 17ms/step - loss: 0.3171 - accuracy: 0.7856 - val_loss: 0.3347 - val_accuracy: 0.7706\n",
      "Epoch 26/100\n",
      "1538/1538 [==============================] - 25s 16ms/step - loss: 0.3170 - accuracy: 0.7849 - val_loss: 0.3339 - val_accuracy: 0.7710\n"
     ]
    },
    {
     "data": {
      "text/plain": [
       "<keras.callbacks.History at 0x7fd550a551f0>"
      ]
     },
     "execution_count": 108,
     "metadata": {},
     "output_type": "execute_result"
    }
   ],
   "source": [
    "cnn_trytext.fit(np_train, y_train, validation_data  = (np_val, y_val), epochs=100, batch_size=64, callbacks = [convergence_callback])"
   ]
  },
  {
   "cell_type": "code",
   "execution_count": null,
   "metadata": {
    "colab": {
     "base_uri": "https://localhost:8080/"
    },
    "id": "6dJSTJvddOUL",
    "outputId": "05c2b94f-a492-4ab0-8ee6-8e4da5bffa2c"
   },
   "outputs": [
    {
     "name": "stdout",
     "output_type": "stream",
     "text": [
      "385/385 [==============================] - 1s 2ms/step\n"
     ]
    }
   ],
   "source": [
    "preds  = cnn_trytext.predict(np_test)"
   ]
  },
  {
   "cell_type": "code",
   "execution_count": null,
   "metadata": {
    "id": "fsEL6K2jdPjx"
   },
   "outputs": [],
   "source": [
    "np_preds   = (preds>=0.5).astype(int)"
   ]
  },
  {
   "cell_type": "code",
   "execution_count": null,
   "metadata": {
    "colab": {
     "base_uri": "https://localhost:8080/"
    },
    "id": "paJe6hy_dQM0",
    "outputId": "a17e0dc3-e9fb-473d-ebba-ae559af81dc5"
   },
   "outputs": [
    {
     "data": {
      "text/plain": [
       "0.813018328803401"
      ]
     },
     "execution_count": 111,
     "metadata": {},
     "output_type": "execute_result"
    }
   ],
   "source": [
    "f1_score(y_test, np_preds)"
   ]
  },
  {
   "cell_type": "code",
   "execution_count": null,
   "metadata": {
    "colab": {
     "base_uri": "https://localhost:8080/"
    },
    "id": "Wl2a3EJ7dQ8C",
    "outputId": "66a38ca7-3f89-483a-ad4d-161212bf800c"
   },
   "outputs": [
    {
     "data": {
      "text/plain": [
       "0.7819408322496749"
      ]
     },
     "execution_count": 112,
     "metadata": {},
     "output_type": "execute_result"
    }
   ],
   "source": [
    "accuracy_score(y_test, np_preds)"
   ]
  },
  {
   "cell_type": "code",
   "execution_count": null,
   "metadata": {
    "colab": {
     "base_uri": "https://localhost:8080/",
     "height": 296
    },
    "id": "wlu_I3wwdScI",
    "outputId": "1a682eac-e088-4950-c30c-403ddd00c1ad"
   },
   "outputs": [
    {
     "data": {
      "text/plain": [
       "<sklearn.metrics._plot.confusion_matrix.ConfusionMatrixDisplay at 0x7fd550a753a0>"
      ]
     },
     "execution_count": 113,
     "metadata": {},
     "output_type": "execute_result"
    },
    {
     "data": {
      "image/png": "[encoded data removed]",
      "text/plain": [
       "<Figure size 432x288 with 2 Axes>"
      ]
     },
     "metadata": {
      "needs_background": "light"
     },
     "output_type": "display_data"
    }
   ],
   "source": [
    "ConfusionMatrixDisplay.from_predictions( y_test, np_preds)"
   ]
  },
  {
   "cell_type": "code",
   "execution_count": null,
   "metadata": {
    "id": "_HTlA2bid6sm"
   },
   "outputs": [],
   "source": [
    "embedd_acc.append(accuracy_score(y_test, np_preds))\n",
    "embedd_f1.append(f1_score(y_test, np_preds))"
   ]
  },
  {
   "cell_type": "code",
   "execution_count": null,
   "metadata": {
    "id": "4p23oWKhj9Yw"
   },
   "outputs": [],
   "source": [
    "embedd_acc.insert(0,0.781)\n",
    "embedd_f1.insert(0,0.817)"
   ]
  },
  {
   "cell_type": "code",
   "execution_count": null,
   "metadata": {
    "colab": {
     "base_uri": "https://localhost:8080/",
     "height": 295
    },
    "id": "ZLkreNced73V",
    "outputId": "01e771eb-4647-4973-978b-e2746f8dd1f0"
   },
   "outputs": [
    {
     "data": {
      "image/png": "[encoded data removed]",
      "text/plain": [
       "<Figure size 432x288 with 1 Axes>"
      ]
     },
     "metadata": {
      "needs_background": "light"
     },
     "output_type": "display_data"
    }
   ],
   "source": [
    "plt.plot([50,100, 200], embedd_acc)\n",
    "plt.xlabel(\"Embedding Value\")\n",
    "plt.ylabel(\"Accuracy\")\n",
    "plt.title(\"Embedding Value vs Accuracy\")\n",
    "plt.show()"
   ]
  },
  {
   "cell_type": "code",
   "execution_count": null,
   "metadata": {
    "colab": {
     "base_uri": "https://localhost:8080/",
     "height": 295
    },
    "id": "eGx-92cHeUic",
    "outputId": "14e5cce4-8f51-480c-8fb8-1c56e47f02e9"
   },
   "outputs": [
    {
     "data": {
      "image/png": "[encoded data removed]",
      "text/plain": [
       "<Figure size 432x288 with 1 Axes>"
      ]
     },
     "metadata": {
      "needs_background": "light"
     },
     "output_type": "display_data"
    }
   ],
   "source": [
    "plt.plot([50,100, 200], embedd_f1)\n",
    "plt.xlabel(\"Embedding Value\")\n",
    "plt.ylabel(\"F1-Score\")\n",
    "plt.title(\"Embedding Value vs F1-Score\")\n",
    "plt.show()"
   ]
  },
  {
   "cell_type": "markdown",
   "metadata": {},
   "source": [
    "We see that just like with the layers F1-Score for Embedding = 50 is best from three values, 50, 100, and 200 so we combine both hyperparameters to get highest F1-Score in Next Section"
   ]
  },
  {
   "cell_type": "code",
   "execution_count": 12,
   "metadata": {
    "id": "2-lefhFRlaqR"
   },
   "outputs": [],
   "source": [
    "cnn_trytext = keras.Sequential()\n",
    "cnn_trytext.add(layers.Embedding(500, 50, input_length  = 500))\n",
    "cnn_trytext.add(layers.Conv1D(60, 10, activation = 'relu'))\n",
    "cnn_trytext.add(layers.BatchNormalization())\n",
    "cnn_trytext.add(layers.MaxPool1D())\n",
    "\n",
    "cnn_trytext.add(layers.Conv1D(60, 10, activation = 'relu'))\n",
    "cnn_trytext.add(layers.BatchNormalization())\n",
    "cnn_trytext.add(layers.MaxPool1D())\n",
    "\n",
    "cnn_trytext.add(layers.Conv1D(60, 10, activation = 'relu'))\n",
    "cnn_trytext.add(layers.BatchNormalization())\n",
    "cnn_trytext.add(layers.MaxPool1D())\n",
    "\n",
    "\n",
    "cnn_trytext.add(layers.Flatten())\n",
    "cnn_trytext.add(layers.Dense(30, activation='relu'))\n",
    "\n",
    "cnn_trytext.add(layers.Dense(1, activation='sigmoid'))\n",
    "cnn_trytext.compile(loss = 'binary_crossentropy', optimizer = 'SGD', metrics=['accuracy'])\n",
    "\n",
    "convergence_callback = EarlyStopping(monitor=\"val_accuracy\",patience = 20, mode=\"max\", restore_best_weights=True)"
   ]
  },
  {
   "cell_type": "code",
   "execution_count": 13,
   "metadata": {
    "colab": {
     "base_uri": "https://localhost:8080/"
    },
    "id": "yxy9jcj5uSmr",
    "outputId": "ab5913c5-d814-4ed4-80d7-cf59caf77e86"
   },
   "outputs": [
    {
     "name": "stdout",
     "output_type": "stream",
     "text": [
      "Epoch 1/100\n",
      "1538/1538 [==============================] - 28s 12ms/step - loss: 0.3496 - accuracy: 0.7721 - val_loss: 0.3453 - val_accuracy: 0.7711\n",
      "Epoch 2/100\n",
      "1538/1538 [==============================] - 16s 10ms/step - loss: 0.3294 - accuracy: 0.7796 - val_loss: 0.3455 - val_accuracy: 0.7683\n",
      "Epoch 3/100\n",
      "1538/1538 [==============================] - 16s 11ms/step - loss: 0.3258 - accuracy: 0.7834 - val_loss: 0.3412 - val_accuracy: 0.7690\n",
      "Epoch 4/100\n",
      "1538/1538 [==============================] - 16s 10ms/step - loss: 0.3239 - accuracy: 0.7822 - val_loss: 0.3514 - val_accuracy: 0.7697\n",
      "Epoch 5/100\n",
      "1538/1538 [==============================] - 16s 10ms/step - loss: 0.3224 - accuracy: 0.7838 - val_loss: 0.3760 - val_accuracy: 0.7750\n",
      "Epoch 6/100\n",
      "1538/1538 [==============================] - 17s 11ms/step - loss: 0.3217 - accuracy: 0.7846 - val_loss: 0.3456 - val_accuracy: 0.7682\n",
      "Epoch 7/100\n",
      "1538/1538 [==============================] - 17s 11ms/step - loss: 0.3212 - accuracy: 0.7821 - val_loss: 0.3358 - val_accuracy: 0.7711\n",
      "Epoch 8/100\n",
      "1538/1538 [==============================] - 17s 11ms/step - loss: 0.3202 - accuracy: 0.7849 - val_loss: 0.3377 - val_accuracy: 0.7702\n",
      "Epoch 9/100\n",
      "1538/1538 [==============================] - 17s 11ms/step - loss: 0.3200 - accuracy: 0.7832 - val_loss: 0.3366 - val_accuracy: 0.7742\n",
      "Epoch 10/100\n",
      "1538/1538 [==============================] - 17s 11ms/step - loss: 0.3195 - accuracy: 0.7825 - val_loss: 0.3366 - val_accuracy: 0.7711\n",
      "Epoch 11/100\n",
      "1538/1538 [==============================] - 16s 11ms/step - loss: 0.3195 - accuracy: 0.7837 - val_loss: 0.3372 - val_accuracy: 0.7694\n",
      "Epoch 12/100\n",
      "1538/1538 [==============================] - 17s 11ms/step - loss: 0.3191 - accuracy: 0.7832 - val_loss: 0.3418 - val_accuracy: 0.7772\n",
      "Epoch 13/100\n",
      "1538/1538 [==============================] - 17s 11ms/step - loss: 0.3188 - accuracy: 0.7836 - val_loss: 0.3348 - val_accuracy: 0.7711\n",
      "Epoch 14/100\n",
      "1538/1538 [==============================] - 16s 10ms/step - loss: 0.3187 - accuracy: 0.7832 - val_loss: 0.3365 - val_accuracy: 0.7711\n",
      "Epoch 15/100\n",
      "1538/1538 [==============================] - 16s 10ms/step - loss: 0.3185 - accuracy: 0.7842 - val_loss: 0.3345 - val_accuracy: 0.7710\n",
      "Epoch 16/100\n",
      "1538/1538 [==============================] - 17s 11ms/step - loss: 0.3184 - accuracy: 0.7847 - val_loss: 0.3349 - val_accuracy: 0.7709\n",
      "Epoch 17/100\n",
      "1538/1538 [==============================] - 16s 11ms/step - loss: 0.3184 - accuracy: 0.7845 - val_loss: 0.3348 - val_accuracy: 0.7709\n",
      "Epoch 18/100\n",
      "1538/1538 [==============================] - 17s 11ms/step - loss: 0.3178 - accuracy: 0.7847 - val_loss: 0.3358 - val_accuracy: 0.7744\n",
      "Epoch 19/100\n",
      "1538/1538 [==============================] - 17s 11ms/step - loss: 0.3180 - accuracy: 0.7838 - val_loss: 0.3358 - val_accuracy: 0.7710\n",
      "Epoch 20/100\n",
      "1538/1538 [==============================] - 16s 11ms/step - loss: 0.3177 - accuracy: 0.7848 - val_loss: 0.3358 - val_accuracy: 0.7706\n",
      "Epoch 21/100\n",
      "1538/1538 [==============================] - 16s 11ms/step - loss: 0.3178 - accuracy: 0.7849 - val_loss: 0.3372 - val_accuracy: 0.7709\n",
      "Epoch 22/100\n",
      "1538/1538 [==============================] - 16s 10ms/step - loss: 0.3175 - accuracy: 0.7833 - val_loss: 0.3345 - val_accuracy: 0.7746\n",
      "Epoch 23/100\n",
      "1538/1538 [==============================] - 17s 11ms/step - loss: 0.3175 - accuracy: 0.7853 - val_loss: 0.3369 - val_accuracy: 0.7704\n",
      "Epoch 24/100\n",
      "1538/1538 [==============================] - 16s 10ms/step - loss: 0.3174 - accuracy: 0.7849 - val_loss: 0.3355 - val_accuracy: 0.7748\n",
      "Epoch 25/100\n",
      "1538/1538 [==============================] - 17s 11ms/step - loss: 0.3173 - accuracy: 0.7838 - val_loss: 0.3348 - val_accuracy: 0.7705\n",
      "Epoch 26/100\n",
      "1538/1538 [==============================] - 17s 11ms/step - loss: 0.3174 - accuracy: 0.7844 - val_loss: 0.3360 - val_accuracy: 0.7706\n",
      "Epoch 27/100\n",
      "1538/1538 [==============================] - 16s 10ms/step - loss: 0.3171 - accuracy: 0.7851 - val_loss: 0.3345 - val_accuracy: 0.7711\n",
      "Epoch 28/100\n",
      "1538/1538 [==============================] - 16s 11ms/step - loss: 0.3171 - accuracy: 0.7851 - val_loss: 0.3339 - val_accuracy: 0.7706\n",
      "Epoch 29/100\n",
      "1538/1538 [==============================] - 17s 11ms/step - loss: 0.3170 - accuracy: 0.7852 - val_loss: 0.3353 - val_accuracy: 0.7706\n",
      "Epoch 30/100\n",
      "1538/1538 [==============================] - 17s 11ms/step - loss: 0.3170 - accuracy: 0.7848 - val_loss: 0.3341 - val_accuracy: 0.7710\n",
      "Epoch 31/100\n",
      "1538/1538 [==============================] - 16s 11ms/step - loss: 0.3169 - accuracy: 0.7844 - val_loss: 0.3367 - val_accuracy: 0.7706\n",
      "Epoch 32/100\n",
      "1538/1538 [==============================] - 17s 11ms/step - loss: 0.3169 - accuracy: 0.7852 - val_loss: 0.3349 - val_accuracy: 0.7697\n"
     ]
    },
    {
     "data": {
      "text/plain": [
       "<keras.callbacks.History at 0x7fd8800bfac0>"
      ]
     },
     "execution_count": 13,
     "metadata": {},
     "output_type": "execute_result"
    }
   ],
   "source": [
    "cnn_trytext.fit(np_train, y_train, validation_data  = (np_val, y_val), epochs=100, batch_size=64, callbacks = [convergence_callback])"
   ]
  },
  {
   "cell_type": "code",
   "execution_count": 43,
   "metadata": {
    "colab": {
     "base_uri": "https://localhost:8080/"
    },
    "id": "MesMB3WoC7JD",
    "outputId": "f04f4a1e-1d8e-4ce9-8e5a-c8c919ca60bc"
   },
   "outputs": [
    {
     "name": "stdout",
     "output_type": "stream",
     "text": [
      "385/385 [==============================] - 1s 2ms/step\n"
     ]
    }
   ],
   "source": [
    "preds  = cnn_trytext.predict(np_test)"
   ]
  },
  {
   "cell_type": "code",
   "execution_count": 44,
   "metadata": {
    "id": "kCoodFQpDF5T"
   },
   "outputs": [],
   "source": [
    "np_preds   = (preds>=0.5).astype(int)"
   ]
  },
  {
   "cell_type": "code",
   "execution_count": 45,
   "metadata": {
    "colab": {
     "base_uri": "https://localhost:8080/"
    },
    "id": "mU_1s1rIDGEb",
    "outputId": "4322bc9e-6e1d-4b1d-b44c-4c07a8788be2"
   },
   "outputs": [
    {
     "data": {
      "text/plain": [
       "0.8191251271617498"
      ]
     },
     "execution_count": 45,
     "metadata": {},
     "output_type": "execute_result"
    }
   ],
   "source": [
    "f1_score(y_test, np_preds)"
   ]
  },
  {
   "cell_type": "code",
   "execution_count": 46,
   "metadata": {
    "colab": {
     "base_uri": "https://localhost:8080/"
    },
    "id": "OJWFTfjfDYqh",
    "outputId": "77d3d387-b449-42af-b3ab-aefbfbd439eb"
   },
   "outputs": [
    {
     "data": {
      "text/plain": [
       "0.78324122236671"
      ]
     },
     "execution_count": 46,
     "metadata": {},
     "output_type": "execute_result"
    }
   ],
   "source": [
    "accuracy_score(y_test, np_preds)"
   ]
  },
  {
   "cell_type": "code",
   "execution_count": 47,
   "metadata": {
    "colab": {
     "base_uri": "https://localhost:8080/",
     "height": 299
    },
    "id": "51UG3EoA_mta",
    "outputId": "4053dab0-3280-444e-f2bd-28a4c9b1e7a6"
   },
   "outputs": [
    {
     "data": {
      "text/plain": [
       "<sklearn.metrics._plot.confusion_matrix.ConfusionMatrixDisplay at 0x7fd80c6eef40>"
      ]
     },
     "execution_count": 47,
     "metadata": {},
     "output_type": "execute_result"
    },
    {
     "data": {
      "image/png": "[encoded data removed]",
      "text/plain": [
       "<Figure size 432x288 with 2 Axes>"
      ]
     },
     "metadata": {
      "needs_background": "light"
     },
     "output_type": "display_data"
    }
   ],
   "source": [
    "ConfusionMatrixDisplay.from_predictions( y_test, np_preds)"
   ]
  },
  {
   "cell_type": "markdown",
   "metadata": {
    "id": "2Qp4w_HrE6mr"
   },
   "source": [
    "Wehave ensured that our model is good before feeding the features into random forest"
   ]
  },
  {
   "cell_type": "markdown",
   "metadata": {
    "id": "qh--6g_RhBel"
   },
   "source": [
    "Extract Features of the Three layer architecture, and try it with random forest"
   ]
  },
  {
   "cell_type": "code",
   "execution_count": 48,
   "metadata": {
    "id": "w89JGYkWx-dW"
   },
   "outputs": [],
   "source": [
    "feature_extractor = keras.Model(cnn_trytext.inputs, cnn_trytext.layers[-2].output)"
   ]
  },
  {
   "cell_type": "code",
   "execution_count": 49,
   "metadata": {
    "colab": {
     "base_uri": "https://localhost:8080/"
    },
    "id": "GmWPDOq1yr2i",
    "outputId": "343557f4-5cbc-4a12-b9da-7c452373dd37"
   },
   "outputs": [
    {
     "name": "stdout",
     "output_type": "stream",
     "text": [
      "3076/3076 [==============================] - 6s 2ms/step\n"
     ]
    }
   ],
   "source": [
    "features = feature_extractor.predict(np_train)"
   ]
  },
  {
   "cell_type": "code",
   "execution_count": 50,
   "metadata": {
    "colab": {
     "base_uri": "https://localhost:8080/"
    },
    "id": "LTnjHwYr4FRa",
    "outputId": "1536ecbf-e434-4cb1-b5f0-35731e241ce4"
   },
   "outputs": [
    {
     "data": {
      "text/plain": [
       "(98432, 30)"
      ]
     },
     "execution_count": 50,
     "metadata": {},
     "output_type": "execute_result"
    }
   ],
   "source": [
    "features.shape"
   ]
  },
  {
   "cell_type": "code",
   "execution_count": 51,
   "metadata": {
    "colab": {
     "base_uri": "https://localhost:8080/"
    },
    "id": "k3dVtfn1q8Nm",
    "outputId": "a21dd147-c89b-428e-bab7-9cf71a24a2f6"
   },
   "outputs": [
    {
     "data": {
      "text/plain": [
       "RandomForestClassifier()"
      ]
     },
     "execution_count": 51,
     "metadata": {},
     "output_type": "execute_result"
    }
   ],
   "source": [
    "classifier = RandomForestClassifier()\n",
    "classifier.fit(features, y_train)"
   ]
  },
  {
   "cell_type": "code",
   "execution_count": 52,
   "metadata": {
    "colab": {
     "base_uri": "https://localhost:8080/"
    },
    "id": "DvUez6-_sS6F",
    "outputId": "8386c2a3-bbfa-453f-a422-823fd6521d96"
   },
   "outputs": [
    {
     "name": "stdout",
     "output_type": "stream",
     "text": [
      "385/385 [==============================] - 1s 2ms/step\n"
     ]
    }
   ],
   "source": [
    "features_test = feature_extractor.predict(np_test)"
   ]
  },
  {
   "cell_type": "code",
   "execution_count": 53,
   "metadata": {
    "id": "lUS1hy7IsCLd"
   },
   "outputs": [],
   "source": [
    "pred_rf = classifier.predict(features_test)"
   ]
  },
  {
   "cell_type": "code",
   "execution_count": 54,
   "metadata": {
    "colab": {
     "base_uri": "https://localhost:8080/"
    },
    "id": "W8htRNP6sk9Q",
    "outputId": "68d74305-b764-4db4-961f-3862ef3dda0c"
   },
   "outputs": [
    {
     "data": {
      "text/plain": [
       "0.7198351365275631"
      ]
     },
     "execution_count": 54,
     "metadata": {},
     "output_type": "execute_result"
    }
   ],
   "source": [
    "f1_score(y_test, pred_rf)"
   ]
  },
  {
   "cell_type": "code",
   "execution_count": 55,
   "metadata": {
    "colab": {
     "base_uri": "https://localhost:8080/"
    },
    "id": "QmesIjjssrvW",
    "outputId": "674b9881-5f0e-4e00-99b2-241510b0b469"
   },
   "outputs": [
    {
     "data": {
      "text/plain": [
       "0.779014954486346"
      ]
     },
     "execution_count": 55,
     "metadata": {},
     "output_type": "execute_result"
    }
   ],
   "source": [
    "accuracy_score(y_test, pred_rf)"
   ]
  },
  {
   "cell_type": "markdown",
   "metadata": {
    "id": "hpK1kxUA_Grw"
   },
   "source": [
    "Normalizing TextCNN Features before feeding it into RandomForest"
   ]
  },
  {
   "cell_type": "code",
   "execution_count": 56,
   "metadata": {
    "id": "YckG_jLx12DX"
   },
   "outputs": [],
   "source": [
    "feature_extractor = keras.Model(cnn_trytext.inputs, cnn_trytext.layers[-2].output)"
   ]
  },
  {
   "cell_type": "code",
   "execution_count": 57,
   "metadata": {
    "colab": {
     "base_uri": "https://localhost:8080/"
    },
    "id": "I7kBuDLY_pWn",
    "outputId": "b55b83e4-d60b-4759-e192-03d37c1a0ca0"
   },
   "outputs": [
    {
     "name": "stdout",
     "output_type": "stream",
     "text": [
      "3076/3076 [==============================] - 6s 2ms/step\n",
      "385/385 [==============================] - 1s 2ms/step\n"
     ]
    }
   ],
   "source": [
    "features = feature_extractor.predict(np_train)\n",
    "features_test = feature_extractor.predict(np_test)\n"
   ]
  },
  {
   "cell_type": "code",
   "execution_count": 58,
   "metadata": {
    "id": "65GxlYmX_pk_"
   },
   "outputs": [],
   "source": [
    "scaler = MinMaxScaler()\n",
    "featres_normalized = scaler.fit_transform(features)\n",
    "featres_test_normalized = scaler.transform(features_test)"
   ]
  },
  {
   "cell_type": "code",
   "execution_count": 60,
   "metadata": {
    "colab": {
     "base_uri": "https://localhost:8080/"
    },
    "id": "HedKqPDBGS_T",
    "outputId": "9f27c5c5-3137-4fcb-ee7c-c1daf1838f05"
   },
   "outputs": [
    {
     "data": {
      "text/plain": [
       "RandomForestClassifier()"
      ]
     },
     "execution_count": 60,
     "metadata": {},
     "output_type": "execute_result"
    }
   ],
   "source": [
    "classifier = RandomForestClassifier()\n",
    "classifier.fit(featres_normalized, y_train)"
   ]
  },
  {
   "cell_type": "code",
   "execution_count": 61,
   "metadata": {
    "id": "bP8gCNSPGgy5"
   },
   "outputs": [],
   "source": [
    "pred_rf_normalize = classifier.predict(featres_test_normalized)"
   ]
  },
  {
   "cell_type": "code",
   "execution_count": 62,
   "metadata": {
    "colab": {
     "base_uri": "https://localhost:8080/"
    },
    "id": "hl3jPZ2QG1Ue",
    "outputId": "657157ad-7f8f-402d-a98d-6ae7e6518925"
   },
   "outputs": [
    {
     "data": {
      "text/plain": [
       "0.7196454339311482"
      ]
     },
     "execution_count": 62,
     "metadata": {},
     "output_type": "execute_result"
    }
   ],
   "source": [
    "f1_score(y_test, pred_rf_normalize)"
   ]
  },
  {
   "cell_type": "code",
   "execution_count": 63,
   "metadata": {
    "colab": {
     "base_uri": "https://localhost:8080/",
     "height": 297
    },
    "id": "_WrUcjqsHJuq",
    "outputId": "2e7f8668-9239-4bfc-98c9-3c8fc774f7ff"
   },
   "outputs": [
    {
     "data": {
      "text/plain": [
       "<sklearn.metrics._plot.confusion_matrix.ConfusionMatrixDisplay at 0x7fd80c0df0d0>"
      ]
     },
     "execution_count": 63,
     "metadata": {},
     "output_type": "execute_result"
    },
    {
     "data": {
      "image/png": "[encoded data removed]",
      "text/plain": [
       "<Figure size 432x288 with 2 Axes>"
      ]
     },
     "metadata": {
      "needs_background": "light"
     },
     "output_type": "display_data"
    }
   ],
   "source": [
    "ConfusionMatrixDisplay.from_predictions( y_test, pred_rf_normalize)"
   ]
  },
  {
   "cell_type": "markdown",
   "metadata": {
    "id": "o4kt4iWZPMe-"
   },
   "source": [
    "We can See that the TextCNN algorithm created a more balanced system due to its ability to get semantic value from the text data but such system is more lenient towards attacks while machine learning created a system that passes no attack but produces a lot of false alarms. \n"
   ]
  },
  {
   "cell_type": "code",
   "execution_count": null,
   "metadata": {
    "id": "zIZr0xqgQHgz"
   },
   "outputs": [],
   "source": []
  }
 ],
 "metadata": {
  "accelerator": "GPU",
  "colab": {
   "provenance": []
  },
  "gpuClass": "standard",
  "kernelspec": {
   "display_name": "Python 3",
   "language": "python",
   "name": "python3"
  },
  "language_info": {
   "codemirror_mode": {
    "name": "ipython",
    "version": 3
   },
   "file_extension": ".py",
   "mimetype": "text/x-python",
   "name": "python",
   "nbconvert_exporter": "python",
   "pygments_lexer": "ipython3",
   "version": "3.8.5"
  }
 },
 "nbformat": 4,
 "nbformat_minor": 1
}
