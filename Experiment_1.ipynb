{
 "cells": [
  {
   "cell_type": "markdown",
   "id": "80376f1f",
   "metadata": {},
   "source": [
    "## Libraries "
   ]
  },
  {
   "cell_type": "code",
   "execution_count": 1,
   "id": "aaf3b8f9",
   "metadata": {},
   "outputs": [],
   "source": [
    "import pandas as pd\n",
    "import numpy as np"
   ]
  },
  {
   "cell_type": "code",
   "execution_count": 2,
   "id": "fdba3cfe",
   "metadata": {},
   "outputs": [],
   "source": [
    "import seaborn as sns\n",
    "import matplotlib.pyplot as plt\n",
    "import matplotlib.gridspec as gridspec\n",
    "#plt.figure(figsize=(16,10))"
   ]
  },
  {
   "cell_type": "code",
   "execution_count": 3,
   "id": "13ccbd9c",
   "metadata": {},
   "outputs": [],
   "source": [
    "import json"
   ]
  },
  {
   "cell_type": "code",
   "execution_count": 4,
   "id": "5e142bee",
   "metadata": {},
   "outputs": [],
   "source": [
    "from sklearn import preprocessing"
   ]
  },
  {
   "cell_type": "code",
   "execution_count": 5,
   "id": "2ce8d9a4",
   "metadata": {},
   "outputs": [],
   "source": [
    "from sklearn.model_selection import train_test_split"
   ]
  },
  {
   "cell_type": "code",
   "execution_count": 6,
   "id": "a3399aad",
   "metadata": {},
   "outputs": [],
   "source": [
    "from sklearn.ensemble import RandomForestClassifier\n",
    "from sklearn.ensemble import HistGradientBoostingClassifier\n",
    "from catboost import CatBoostClassifier\n",
    "from sklearn.tree import DecisionTreeClassifier\n",
    "import xgboost as xgb\n",
    "from sklearn.ensemble import  AdaBoostClassifier\n",
    "#!pip install lightgbm\n",
    "import lightgbm as lgb\n",
    "from sklearn.decomposition import PCA\n",
    "from sklearn.metrics import f1_score"
   ]
  },
  {
   "cell_type": "code",
   "execution_count": 7,
   "id": "edc4e9b2",
   "metadata": {},
   "outputs": [],
   "source": [
    "import tensorflow as tf\n",
    "import tensorflow.keras as keras\n",
    "from keras.models import Model\n",
    "from keras.optimizers import Adam\n",
    "from keras.applications.vgg16 import VGG16, preprocess_input\n",
    "from tensorflow.keras.applications.resnet50 import ResNet50\n",
    "\n",
    "from keras.callbacks import ModelCheckpoint, EarlyStopping\n",
    "from keras.layers import Dense, Dropout, Flatten,BatchNormalization\n",
    "from keras.models import Model\n",
    "from pathlib import Path"
   ]
  },
  {
   "cell_type": "code",
   "execution_count": 8,
   "id": "040098de",
   "metadata": {},
   "outputs": [],
   "source": [
    "from keras.optimizers import Adam\n",
    "from livelossplot.inputs.keras import PlotLossesCallback\n",
    "from sklearn.metrics import accuracy_score\n",
    "from keras.layers import Dense, Dropout, Flatten\n",
    "from keras.models import Model"
   ]
  },
  {
   "cell_type": "code",
   "execution_count": 9,
   "id": "0ae4953a",
   "metadata": {},
   "outputs": [],
   "source": [
    "import numpy as np\n",
    "import keras\n",
    "from keras.models import Sequential\n",
    "from keras.layers import Dense, Dropout, Flatten\n",
    "from keras.layers import Conv2D, MaxPooling2D\n",
    "from keras.optimizers import SGD\n",
    "from keras.layers import LeakyReLU"
   ]
  },
  {
   "cell_type": "code",
   "execution_count": 10,
   "id": "87650828",
   "metadata": {},
   "outputs": [],
   "source": [
    "from sklearn.metrics import accuracy_score\n",
    "from sklearn.metrics import roc_auc_score\n",
    "from sklearn.metrics import classification_report\n",
    "from sklearn.metrics import confusion_matrix, ConfusionMatrixDisplay"
   ]
  },
  {
   "cell_type": "markdown",
   "id": "86c54cd8",
   "metadata": {},
   "source": [
    "---------------"
   ]
  },
  {
   "cell_type": "markdown",
   "id": "388ae45f",
   "metadata": {},
   "source": [
    "## Functions"
   ]
  },
  {
   "cell_type": "code",
   "execution_count": 11,
   "id": "4d7517df",
   "metadata": {},
   "outputs": [],
   "source": [
    "def checkBalance(dataset,target_name):\n",
    "    print(\"=======================================\")\n",
    "    print(f\"Target Name : {target_name}\")\n",
    "    print(\"=======================================\")\n",
    "    print(\"value count\")\n",
    "    print(dataset[target_name].value_counts())\n",
    "    print(\"=======================================\")\n",
    "    sns.histplot(x =target_name,data = dataset)\n",
    "    plt.show()"
   ]
  },
  {
   "cell_type": "code",
   "execution_count": 12,
   "id": "a95f3ffc",
   "metadata": {},
   "outputs": [],
   "source": [
    "def check_unique(dataframe,feature_name,target_name):\n",
    "    # get a list of the unique values \n",
    "    uniqueLst = list(dataframe[feature_name].unique())\n",
    "    # the length of the unique values \n",
    "    uniquelength = len(uniqueLst)\n",
    "    # count the appenrance of each value in the dataset \n",
    "    count = dataframe[feature_name].value_counts()\n",
    "    sorted_count = count.sort_values() \n",
    "    # print some information about the feature \n",
    "    print(f\"Feature : {feature_name}\")\n",
    "    print(f\"Number of unique values : {uniquelength}\")\n",
    "    print(\"=================================\")\n",
    "    print(\"(Attack'category,count)\")\n",
    "    print(sorted_count)\n",
    "    print(\"=================================\")\n",
    "    #sns.histplot(data=, x=feature_name,hue=\"label\", kde=True)\n",
    "    sns.displot(x =feature_name,hue=target_name,data = dataframe, kind=\"kde\", multiple=\"stack\")\n",
    "    plt.show()"
   ]
  },
  {
   "cell_type": "code",
   "execution_count": 13,
   "id": "370895b9",
   "metadata": {},
   "outputs": [],
   "source": [
    "def count_number_word(lst_of_lst):\n",
    "    \n",
    "    wv_lens =[]\n",
    "\n",
    "    for x in lst_of_lst:\n",
    "         wv_lens.append(len(x))\n",
    "\n",
    "    myset = set(wv_lens)\n",
    "\n",
    "    counts = [wv_lens.count(x)for x in myset]\n",
    "\n",
    "    df2 = pd.DataFrame({\n",
    "        \"number of words\":list(myset),\n",
    "        \"count\":counts\n",
    "    })\n",
    "    \n",
    "    return df2\n"
   ]
  },
  {
   "cell_type": "code",
   "execution_count": 14,
   "id": "ecb99a79",
   "metadata": {},
   "outputs": [],
   "source": [
    "def padd_zeros(row,n_words):\n",
    "    # get number of words in this row\n",
    "    length = len(row)\n",
    "    # create new list that contain the value of the new length \n",
    "    new_lst = []\n",
    "    \n",
    "    for i in range(n_words):\n",
    "        if i < length:\n",
    "            new_lst.append(row[i])\n",
    "        else:\n",
    "    \n",
    "            listofzeros = [0]*100\n",
    "            new_lst.append(list(listofzeros))   \n",
    "        \n",
    "        \n",
    "    row = new_lst\n",
    "    \n",
    "    return row"
   ]
  },
  {
   "cell_type": "code",
   "execution_count": 15,
   "id": "4bf1c84f",
   "metadata": {},
   "outputs": [],
   "source": [
    "def prepare_equalWords_data(data,n_words):\n",
    "    # create a new data frame \n",
    "    nemDF = data.copy()\n",
    "    # pad zeros \n",
    "    nemDF['word_vector'] = nemDF['word_vector'].apply(lambda row: padd_zeros(row,n_words)) \n",
    "    # recount again \n",
    "    nemDF['word_count']  = nemDF['word_vector'].apply(lambda x: len(x))    \n",
    "    # encode the label to be 0 and 1 instead 1 and 2 \n",
    "    nemDF['label']  = nemDF['label'].apply(lambda x: int(x-1))    \n",
    "    \n",
    "    return nemDF"
   ]
  },
  {
   "cell_type": "code",
   "execution_count": 16,
   "id": "e6b9432d",
   "metadata": {},
   "outputs": [],
   "source": [
    "def visualize_class(data,y):\n",
    "    plt.figure(figsize=(20,20))\n",
    "    \n",
    "    s= [v== y for v in data['label']]\n",
    "    idxs = np.flatnonzero(s)\n",
    "    idxs = np.random.choice(idxs, 5, replace=False)\n",
    "    for i, idx in enumerate(idxs):\n",
    "        plt.subplot(1,5, i+1)\n",
    "        plt.imshow(data['word_vector'][idx])\n",
    "        plt.axis('off')\n",
    "        plt.title(y)\n",
    "    plt.show()\n",
    "            \n",
    "def visualize_classes(data,classes):\n",
    "    for y in classes:\n",
    "        visualize_class(data,y)\n",
    "    "
   ]
  },
  {
   "cell_type": "code",
   "execution_count": 17,
   "id": "3cfaa2ed",
   "metadata": {},
   "outputs": [],
   "source": [
    "def normalize_lst(a):\n",
    "    lst = np.array(a).reshape(-1,1)\n",
    "    scaler = preprocessing.MinMaxScaler(feature_range=(0, 1))\n",
    "    normalizedlist=scaler.fit_transform(lst)\n",
    "    return normalizedlist"
   ]
  },
  {
   "cell_type": "code",
   "execution_count": 18,
   "id": "544068c6",
   "metadata": {},
   "outputs": [],
   "source": [
    "def get_words(data_frame,n_words):    \n",
    "    new_x=[]\n",
    "\n",
    "    for i in range(len(data_frame)):\n",
    "            templist= np.array([]) \n",
    "            np_word = np.array(data_frame['word_vector'][i])\n",
    "            templist= np.append(templist,np_word[:n_words])\n",
    "            \n",
    "            if(np_word.shape[0] <  n_words):\n",
    "                numeToAdd = n_words - np_word.shape[0]\n",
    "                templist= np.append(templist, np.zeros(100*numeToAdd))\n",
    "            \n",
    "            templist=templist.tolist()\n",
    "            new_x.append(templist) \n",
    "\n",
    "    return new_x"
   ]
  },
  {
   "cell_type": "code",
   "execution_count": 19,
   "id": "2396d6f0",
   "metadata": {},
   "outputs": [],
   "source": [
    "import keras.backend as K\n",
    "def F1_score(y_true, y_pred): \n",
    "    true_positives = K.sum(K.round(K.clip(y_true * y_pred, 0, 1)))\n",
    "    possible_positives = K.sum(K.round(K.clip(y_true, 0, 1)))\n",
    "    predicted_positives = K.sum(K.round(K.clip(y_pred, 0, 1)))\n",
    "    precision = true_positives / (predicted_positives + K.epsilon())\n",
    "    recall = true_positives / (possible_positives + K.epsilon())\n",
    "    f1_val = 2*(precision*recall)/(precision+recall+K.epsilon())\n",
    "    return f1_val"
   ]
  },
  {
   "cell_type": "code",
   "execution_count": 20,
   "id": "e63490d1",
   "metadata": {},
   "outputs": [],
   "source": [
    "def evaluation(model,x_train, x_val, y_train, y_val,n_components):\n",
    "    \n",
    "    pca = PCA(n_components=n_components,random_state=0)\n",
    "\n",
    "    x_train_pca = pca.fit_transform(x_train)\n",
    "    x_val_pca  = pca.transform(x_val)\n",
    "    \n",
    "    model.fit(x_train_pca, y_train)\n",
    "    y_pred=model.predict(x_val_pca)\n",
    "    f1_score_ = f1_score(y_pred, y_val)\n",
    "    \n",
    "    print(\"F1-Score :\",f1_score_)\n",
    "    print(\"\\n\",classification_report(y_val, y_pred))\n",
    "    \n",
    "    cm = confusion_matrix(y_val, y_pred)\n",
    "    disp = ConfusionMatrixDisplay(confusion_matrix=cm)\n",
    "    \n",
    "    disp.plot()"
   ]
  },
  {
   "cell_type": "code",
   "execution_count": 21,
   "id": "01617514",
   "metadata": {},
   "outputs": [],
   "source": [
    "def get_f1_score_4_PCA(X_tr,y_tr,X_val,y_val,model):\n",
    "    clf =model.fit(X_tr, y_tr)\n",
    "    pred=clf.predict(X_val)\n",
    "    f1_score_value = f1_score(pred, y_val) \n",
    "    return f1_score_value"
   ]
  },
  {
   "cell_type": "code",
   "execution_count": 22,
   "id": "722da318",
   "metadata": {},
   "outputs": [],
   "source": [
    "def plot_report_confusionMatrix(y_pred,y_true):\n",
    "    cm = confusion_matrix(y_true,y_pred)\n",
    "    disp = ConfusionMatrixDisplay(confusion_matrix=cm)\n",
    "    disp.plot()\n",
    "    plt.show()\n",
    "def classification_report_with_accuracy_score(y_true, y_pred):\n",
    "\n",
    "    print(classification_report(y_true, y_pred))\n",
    "    plot_report_confusionMatrix(y_pred,y_true)\n",
    "    print(\"==============================================================\")\n",
    "    return f1_score(y_true, y_pred) \n",
    "\n",
    "def apply_CV_F1(model,X,y):\n",
    "    # Nested CV with parameter optimization\n",
    "    nested_score = cross_val_score(model, X, y, cv=5,scoring=make_scorer(classification_report_with_accuracy_score))\n",
    "    print(\"==============================================================\")\n",
    "    print(f\"the f1-score in all iterations       : {nested_score}\")\n",
    "    print(f\"the mean of f1-scores                : {nested_score.mean()}\")\n",
    "    print(f\"the std  of f1-scores                : {nested_score.std()}\")\n",
    "    print(\"==============================================================\")\n",
    "    return nested_score.mean() , nested_score.std(),nested_score"
   ]
  },
  {
   "cell_type": "markdown",
   "id": "8ecefb61",
   "metadata": {},
   "source": [
    "--------------"
   ]
  },
  {
   "cell_type": "markdown",
   "id": "a9c15ba0",
   "metadata": {},
   "source": [
    "### Models "
   ]
  },
  {
   "cell_type": "code",
   "execution_count": 23,
   "id": "0aa7c796",
   "metadata": {},
   "outputs": [],
   "source": [
    "# dicision_tree\n",
    "decTree_CLF = DecisionTreeClassifier(random_state=0)\n",
    "# XG_boost\n",
    "xgb_CLF = xgb.XGBClassifier(objective=\"binary:logistic\", random_state=0)\n",
    "# random_forest\n",
    "rf_CLF = RandomForestClassifier(n_estimators=100, random_state=0)\n",
    "# AdaBoost\n",
    "ada_CLF = AdaBoostClassifier(n_estimators=100,random_state=0)\n",
    "# HistGradientBoostingClassifier\n",
    "gradiant_boost_CLF =  HistGradientBoostingClassifier(random_state=0)\n",
    "# CatBoostClassifier\n",
    "catBoost_CLF = CatBoostClassifier(random_state=0)\n",
    "# LGBMClassifier\n",
    "lightGBM_CLF = lgb.LGBMClassifier(random_state=0)"
   ]
  },
  {
   "cell_type": "markdown",
   "id": "3ca5275e",
   "metadata": {},
   "source": [
    "--------"
   ]
  },
  {
   "cell_type": "markdown",
   "id": "40ef9298",
   "metadata": {},
   "source": [
    "### read the data "
   ]
  },
  {
   "cell_type": "code",
   "execution_count": 24,
   "id": "a64e90d3",
   "metadata": {},
   "outputs": [],
   "source": [
    "data5_2 = pd.read_csv(\"data5.csv\")\n",
    "data5_2['word_vector'] = [json.loads(x) for x in data5_2['word_vector']] # list of lists "
   ]
  },
  {
   "cell_type": "code",
   "execution_count": 25,
   "id": "2b11b92c",
   "metadata": {},
   "outputs": [
    {
     "data": {
      "text/html": [
       "<div>\n",
       "<style scoped>\n",
       "    .dataframe tbody tr th:only-of-type {\n",
       "        vertical-align: middle;\n",
       "    }\n",
       "\n",
       "    .dataframe tbody tr th {\n",
       "        vertical-align: top;\n",
       "    }\n",
       "\n",
       "    .dataframe thead th {\n",
       "        text-align: right;\n",
       "    }\n",
       "</style>\n",
       "<table border=\"1\" class=\"dataframe\">\n",
       "  <thead>\n",
       "    <tr style=\"text-align: right;\">\n",
       "      <th></th>\n",
       "      <th>Unnamed: 0</th>\n",
       "      <th>category</th>\n",
       "      <th>word_vector</th>\n",
       "      <th>label</th>\n",
       "      <th>word_count</th>\n",
       "    </tr>\n",
       "  </thead>\n",
       "  <tbody>\n",
       "    <tr>\n",
       "      <th>0</th>\n",
       "      <td>0</td>\n",
       "      <td>24</td>\n",
       "      <td>[[-0.507, -0.49518, 0.46885, 0.54524, -0.11552...</td>\n",
       "      <td>1</td>\n",
       "      <td>5</td>\n",
       "    </tr>\n",
       "    <tr>\n",
       "      <th>1</th>\n",
       "      <td>1</td>\n",
       "      <td>13</td>\n",
       "      <td>[[0.19911, -0.46156, 0.19674, -1.3298, 0.51805...</td>\n",
       "      <td>0</td>\n",
       "      <td>5</td>\n",
       "    </tr>\n",
       "    <tr>\n",
       "      <th>2</th>\n",
       "      <td>2</td>\n",
       "      <td>24</td>\n",
       "      <td>[[-0.7403, -0.78746, 0.47018, 0.43474, 0.05842...</td>\n",
       "      <td>0</td>\n",
       "      <td>5</td>\n",
       "    </tr>\n",
       "    <tr>\n",
       "      <th>3</th>\n",
       "      <td>3</td>\n",
       "      <td>21</td>\n",
       "      <td>[[-0.44257, -0.54624, 0.25403, 0.80731, 1.026,...</td>\n",
       "      <td>0</td>\n",
       "      <td>5</td>\n",
       "    </tr>\n",
       "    <tr>\n",
       "      <th>4</th>\n",
       "      <td>4</td>\n",
       "      <td>13</td>\n",
       "      <td>[[0.19911, -0.46156, 0.19674, -1.3298, 0.51805...</td>\n",
       "      <td>1</td>\n",
       "      <td>5</td>\n",
       "    </tr>\n",
       "  </tbody>\n",
       "</table>\n",
       "</div>"
      ],
      "text/plain": [
       "   Unnamed: 0  category                                        word_vector  \\\n",
       "0           0        24  [[-0.507, -0.49518, 0.46885, 0.54524, -0.11552...   \n",
       "1           1        13  [[0.19911, -0.46156, 0.19674, -1.3298, 0.51805...   \n",
       "2           2        24  [[-0.7403, -0.78746, 0.47018, 0.43474, 0.05842...   \n",
       "3           3        21  [[-0.44257, -0.54624, 0.25403, 0.80731, 1.026,...   \n",
       "4           4        13  [[0.19911, -0.46156, 0.19674, -1.3298, 0.51805...   \n",
       "\n",
       "   label  word_count  \n",
       "0      1           5  \n",
       "1      0           5  \n",
       "2      0           5  \n",
       "3      0           5  \n",
       "4      1           5  "
      ]
     },
     "execution_count": 25,
     "metadata": {},
     "output_type": "execute_result"
    }
   ],
   "source": [
    "data5_2.head()"
   ]
  },
  {
   "cell_type": "markdown",
   "id": "407a9f79",
   "metadata": {},
   "source": [
    "### make each row as only one list instead of list of lists "
   ]
  },
  {
   "cell_type": "code",
   "execution_count": 26,
   "id": "e9a47bcc",
   "metadata": {},
   "outputs": [],
   "source": [
    "X_oneLstPerRow = get_words(data5_2,5)"
   ]
  },
  {
   "cell_type": "code",
   "execution_count": 27,
   "id": "ea2954cf",
   "metadata": {},
   "outputs": [
    {
     "data": {
      "text/plain": [
       "123040"
      ]
     },
     "execution_count": 27,
     "metadata": {},
     "output_type": "execute_result"
    }
   ],
   "source": [
    "len(X_oneLstPerRow)"
   ]
  },
  {
   "cell_type": "code",
   "execution_count": 28,
   "id": "45dd9419",
   "metadata": {},
   "outputs": [],
   "source": [
    "data5_2['word_vector']= X_oneLstPerRow\n",
    "data5_2['word_count']  = data5_2['word_vector'].apply(lambda x: len(x))  "
   ]
  },
  {
   "cell_type": "code",
   "execution_count": 29,
   "id": "b0af6b3d",
   "metadata": {},
   "outputs": [
    {
     "data": {
      "text/html": [
       "<div>\n",
       "<style scoped>\n",
       "    .dataframe tbody tr th:only-of-type {\n",
       "        vertical-align: middle;\n",
       "    }\n",
       "\n",
       "    .dataframe tbody tr th {\n",
       "        vertical-align: top;\n",
       "    }\n",
       "\n",
       "    .dataframe thead th {\n",
       "        text-align: right;\n",
       "    }\n",
       "</style>\n",
       "<table border=\"1\" class=\"dataframe\">\n",
       "  <thead>\n",
       "    <tr style=\"text-align: right;\">\n",
       "      <th></th>\n",
       "      <th>Unnamed: 0</th>\n",
       "      <th>category</th>\n",
       "      <th>word_vector</th>\n",
       "      <th>label</th>\n",
       "      <th>word_count</th>\n",
       "    </tr>\n",
       "  </thead>\n",
       "  <tbody>\n",
       "    <tr>\n",
       "      <th>0</th>\n",
       "      <td>0</td>\n",
       "      <td>24</td>\n",
       "      <td>[-0.507, -0.49518, 0.46885, 0.54524, -0.11552,...</td>\n",
       "      <td>1</td>\n",
       "      <td>500</td>\n",
       "    </tr>\n",
       "    <tr>\n",
       "      <th>1</th>\n",
       "      <td>1</td>\n",
       "      <td>13</td>\n",
       "      <td>[0.19911, -0.46156, 0.19674, -1.3298, 0.51805,...</td>\n",
       "      <td>0</td>\n",
       "      <td>500</td>\n",
       "    </tr>\n",
       "    <tr>\n",
       "      <th>2</th>\n",
       "      <td>2</td>\n",
       "      <td>24</td>\n",
       "      <td>[-0.7403, -0.78746, 0.47018, 0.43474, 0.05842,...</td>\n",
       "      <td>0</td>\n",
       "      <td>500</td>\n",
       "    </tr>\n",
       "    <tr>\n",
       "      <th>3</th>\n",
       "      <td>3</td>\n",
       "      <td>21</td>\n",
       "      <td>[-0.44257, -0.54624, 0.25403, 0.80731, 1.026, ...</td>\n",
       "      <td>0</td>\n",
       "      <td>500</td>\n",
       "    </tr>\n",
       "    <tr>\n",
       "      <th>4</th>\n",
       "      <td>4</td>\n",
       "      <td>13</td>\n",
       "      <td>[0.19911, -0.46156, 0.19674, -1.3298, 0.51805,...</td>\n",
       "      <td>1</td>\n",
       "      <td>500</td>\n",
       "    </tr>\n",
       "  </tbody>\n",
       "</table>\n",
       "</div>"
      ],
      "text/plain": [
       "   Unnamed: 0  category                                        word_vector  \\\n",
       "0           0        24  [-0.507, -0.49518, 0.46885, 0.54524, -0.11552,...   \n",
       "1           1        13  [0.19911, -0.46156, 0.19674, -1.3298, 0.51805,...   \n",
       "2           2        24  [-0.7403, -0.78746, 0.47018, 0.43474, 0.05842,...   \n",
       "3           3        21  [-0.44257, -0.54624, 0.25403, 0.80731, 1.026, ...   \n",
       "4           4        13  [0.19911, -0.46156, 0.19674, -1.3298, 0.51805,...   \n",
       "\n",
       "   label  word_count  \n",
       "0      1         500  \n",
       "1      0         500  \n",
       "2      0         500  \n",
       "3      0         500  \n",
       "4      1         500  "
      ]
     },
     "execution_count": 29,
     "metadata": {},
     "output_type": "execute_result"
    }
   ],
   "source": [
    "data5_2.head()"
   ]
  },
  {
   "cell_type": "markdown",
   "id": "bb18cbfc",
   "metadata": {},
   "source": [
    "### Reshape the data so it can be used as images "
   ]
  },
  {
   "cell_type": "markdown",
   "id": "b546fee4",
   "metadata": {},
   "source": [
    "--------"
   ]
  },
  {
   "cell_type": "markdown",
   "id": "768ee0b3",
   "metadata": {},
   "source": [
    "### Build the model"
   ]
  },
  {
   "cell_type": "markdown",
   "id": "9e0bd8e1",
   "metadata": {},
   "source": [
    "<h2 style=\"color:rgb(74, 70, 11);\">Part 1</h2>"
   ]
  },
  {
   "cell_type": "markdown",
   "id": "33a9b7a5",
   "metadata": {},
   "source": [
    "<h3 style=\"color:maroon;\">Ensemble method</h3>"
   ]
  },
  {
   "cell_type": "code",
   "execution_count": 30,
   "id": "de363c1c",
   "metadata": {},
   "outputs": [
    {
     "data": {
      "text/html": [
       "<div>\n",
       "<style scoped>\n",
       "    .dataframe tbody tr th:only-of-type {\n",
       "        vertical-align: middle;\n",
       "    }\n",
       "\n",
       "    .dataframe tbody tr th {\n",
       "        vertical-align: top;\n",
       "    }\n",
       "\n",
       "    .dataframe thead th {\n",
       "        text-align: right;\n",
       "    }\n",
       "</style>\n",
       "<table border=\"1\" class=\"dataframe\">\n",
       "  <thead>\n",
       "    <tr style=\"text-align: right;\">\n",
       "      <th></th>\n",
       "      <th>Unnamed: 0</th>\n",
       "      <th>category</th>\n",
       "      <th>word_vector</th>\n",
       "      <th>label</th>\n",
       "      <th>word_count</th>\n",
       "    </tr>\n",
       "  </thead>\n",
       "  <tbody>\n",
       "    <tr>\n",
       "      <th>0</th>\n",
       "      <td>0</td>\n",
       "      <td>24</td>\n",
       "      <td>[-0.507, -0.49518, 0.46885, 0.54524, -0.11552,...</td>\n",
       "      <td>1</td>\n",
       "      <td>500</td>\n",
       "    </tr>\n",
       "    <tr>\n",
       "      <th>1</th>\n",
       "      <td>1</td>\n",
       "      <td>13</td>\n",
       "      <td>[0.19911, -0.46156, 0.19674, -1.3298, 0.51805,...</td>\n",
       "      <td>0</td>\n",
       "      <td>500</td>\n",
       "    </tr>\n",
       "    <tr>\n",
       "      <th>2</th>\n",
       "      <td>2</td>\n",
       "      <td>24</td>\n",
       "      <td>[-0.7403, -0.78746, 0.47018, 0.43474, 0.05842,...</td>\n",
       "      <td>0</td>\n",
       "      <td>500</td>\n",
       "    </tr>\n",
       "    <tr>\n",
       "      <th>3</th>\n",
       "      <td>3</td>\n",
       "      <td>21</td>\n",
       "      <td>[-0.44257, -0.54624, 0.25403, 0.80731, 1.026, ...</td>\n",
       "      <td>0</td>\n",
       "      <td>500</td>\n",
       "    </tr>\n",
       "    <tr>\n",
       "      <th>4</th>\n",
       "      <td>4</td>\n",
       "      <td>13</td>\n",
       "      <td>[0.19911, -0.46156, 0.19674, -1.3298, 0.51805,...</td>\n",
       "      <td>1</td>\n",
       "      <td>500</td>\n",
       "    </tr>\n",
       "    <tr>\n",
       "      <th>...</th>\n",
       "      <td>...</td>\n",
       "      <td>...</td>\n",
       "      <td>...</td>\n",
       "      <td>...</td>\n",
       "      <td>...</td>\n",
       "    </tr>\n",
       "    <tr>\n",
       "      <th>123035</th>\n",
       "      <td>123035</td>\n",
       "      <td>24</td>\n",
       "      <td>[-0.081545, 0.25175, 0.027983, 0.064531, 0.253...</td>\n",
       "      <td>1</td>\n",
       "      <td>500</td>\n",
       "    </tr>\n",
       "    <tr>\n",
       "      <th>123036</th>\n",
       "      <td>123036</td>\n",
       "      <td>7</td>\n",
       "      <td>[-0.35721, -0.54399, 0.26479, -0.15312, -0.005...</td>\n",
       "      <td>1</td>\n",
       "      <td>500</td>\n",
       "    </tr>\n",
       "    <tr>\n",
       "      <th>123037</th>\n",
       "      <td>123037</td>\n",
       "      <td>19</td>\n",
       "      <td>[-1.5145, 0.9682, 0.34735, 1.0024, 0.042789, 0...</td>\n",
       "      <td>1</td>\n",
       "      <td>500</td>\n",
       "    </tr>\n",
       "    <tr>\n",
       "      <th>123038</th>\n",
       "      <td>123038</td>\n",
       "      <td>13</td>\n",
       "      <td>[0.19911, -0.46156, 0.19674, -1.3298, 0.51805,...</td>\n",
       "      <td>0</td>\n",
       "      <td>500</td>\n",
       "    </tr>\n",
       "    <tr>\n",
       "      <th>123039</th>\n",
       "      <td>123039</td>\n",
       "      <td>13</td>\n",
       "      <td>[0.19911, -0.46156, 0.19674, -1.3298, 0.51805,...</td>\n",
       "      <td>0</td>\n",
       "      <td>500</td>\n",
       "    </tr>\n",
       "  </tbody>\n",
       "</table>\n",
       "<p>123040 rows × 5 columns</p>\n",
       "</div>"
      ],
      "text/plain": [
       "        Unnamed: 0  category  \\\n",
       "0                0        24   \n",
       "1                1        13   \n",
       "2                2        24   \n",
       "3                3        21   \n",
       "4                4        13   \n",
       "...            ...       ...   \n",
       "123035      123035        24   \n",
       "123036      123036         7   \n",
       "123037      123037        19   \n",
       "123038      123038        13   \n",
       "123039      123039        13   \n",
       "\n",
       "                                              word_vector  label  word_count  \n",
       "0       [-0.507, -0.49518, 0.46885, 0.54524, -0.11552,...      1         500  \n",
       "1       [0.19911, -0.46156, 0.19674, -1.3298, 0.51805,...      0         500  \n",
       "2       [-0.7403, -0.78746, 0.47018, 0.43474, 0.05842,...      0         500  \n",
       "3       [-0.44257, -0.54624, 0.25403, 0.80731, 1.026, ...      0         500  \n",
       "4       [0.19911, -0.46156, 0.19674, -1.3298, 0.51805,...      1         500  \n",
       "...                                                   ...    ...         ...  \n",
       "123035  [-0.081545, 0.25175, 0.027983, 0.064531, 0.253...      1         500  \n",
       "123036  [-0.35721, -0.54399, 0.26479, -0.15312, -0.005...      1         500  \n",
       "123037  [-1.5145, 0.9682, 0.34735, 1.0024, 0.042789, 0...      1         500  \n",
       "123038  [0.19911, -0.46156, 0.19674, -1.3298, 0.51805,...      0         500  \n",
       "123039  [0.19911, -0.46156, 0.19674, -1.3298, 0.51805,...      0         500  \n",
       "\n",
       "[123040 rows x 5 columns]"
      ]
     },
     "execution_count": 30,
     "metadata": {},
     "output_type": "execute_result"
    }
   ],
   "source": [
    "data5_2"
   ]
  },
  {
   "cell_type": "code",
   "execution_count": 31,
   "id": "d43b8288",
   "metadata": {},
   "outputs": [],
   "source": [
    "train_bag_1_x = []\n",
    "train_bag_1_y = []\n",
    "\n",
    "train_bag_2_x = []\n",
    "train_bag_2_y = []\n",
    "\n",
    "train_bag_3_x = []\n",
    "train_bag_3_y = []\n",
    "\n",
    "# if the row in range 3 , append x , y \n",
    "for i in range(len(data5_2)):\n",
    "    if data5_2['category'][i]== 13:\n",
    "        train_bag_3_x.append(data5_2['word_vector'][i])\n",
    "        train_bag_3_y.append(data5_2['label'][i])\n",
    "\n",
    "# if the row in range 2 , append x , y \n",
    "\n",
    "    elif  data5_2['category'][i]== 6 or data5_2['category'][i]==24:\n",
    "        train_bag_2_x.append(data5_2['word_vector'][i])\n",
    "        train_bag_2_y.append(data5_2['label'][i])\n",
    "# if the row in range 1 , append x , y \n",
    "    else:\n",
    "        train_bag_1_x.append(data5_2['word_vector'][i])\n",
    "        train_bag_1_y.append(data5_2['label'][i])"
   ]
  },
  {
   "cell_type": "code",
   "execution_count": 32,
   "id": "88e2b74e",
   "metadata": {},
   "outputs": [
    {
     "name": "stdout",
     "output_type": "stream",
     "text": [
      "37358\n",
      "39780\n",
      "45902\n"
     ]
    }
   ],
   "source": [
    "print(len(train_bag_1_x))\n",
    "print(len(train_bag_2_x))\n",
    "print(len(train_bag_3_x))"
   ]
  },
  {
   "cell_type": "code",
   "execution_count": 33,
   "id": "4114ed71",
   "metadata": {},
   "outputs": [],
   "source": [
    "range_1_train=pd.DataFrame({\"x_train\":train_bag_1_x , \"y_train\":train_bag_1_y})\n",
    "range_2_train=pd.DataFrame({\"x_train\":train_bag_2_x , \"y_train\":train_bag_2_y})\n",
    "range_3_train=pd.DataFrame({\"x_train\":train_bag_3_x , \"y_train\":train_bag_3_y})"
   ]
  },
  {
   "cell_type": "code",
   "execution_count": 34,
   "id": "0c5f532a",
   "metadata": {},
   "outputs": [
    {
     "data": {
      "text/html": [
       "<div>\n",
       "<style scoped>\n",
       "    .dataframe tbody tr th:only-of-type {\n",
       "        vertical-align: middle;\n",
       "    }\n",
       "\n",
       "    .dataframe tbody tr th {\n",
       "        vertical-align: top;\n",
       "    }\n",
       "\n",
       "    .dataframe thead th {\n",
       "        text-align: right;\n",
       "    }\n",
       "</style>\n",
       "<table border=\"1\" class=\"dataframe\">\n",
       "  <thead>\n",
       "    <tr style=\"text-align: right;\">\n",
       "      <th></th>\n",
       "      <th>x_train</th>\n",
       "      <th>y_train</th>\n",
       "    </tr>\n",
       "  </thead>\n",
       "  <tbody>\n",
       "    <tr>\n",
       "      <th>0</th>\n",
       "      <td>[-0.44257, -0.54624, 0.25403, 0.80731, 1.026, ...</td>\n",
       "      <td>0</td>\n",
       "    </tr>\n",
       "    <tr>\n",
       "      <th>1</th>\n",
       "      <td>[-1.162, 0.20789, -0.26858, -0.50026, -0.32852...</td>\n",
       "      <td>1</td>\n",
       "    </tr>\n",
       "    <tr>\n",
       "      <th>2</th>\n",
       "      <td>[-0.40747, -0.23971, -0.13692, -0.26816, -0.13...</td>\n",
       "      <td>1</td>\n",
       "    </tr>\n",
       "    <tr>\n",
       "      <th>3</th>\n",
       "      <td>[-0.66947, 0.97598, -0.16577, 0.21344, 0.52528...</td>\n",
       "      <td>0</td>\n",
       "    </tr>\n",
       "    <tr>\n",
       "      <th>4</th>\n",
       "      <td>[-1.3671, -0.14589, 0.2346, 0.90819, -0.056889...</td>\n",
       "      <td>1</td>\n",
       "    </tr>\n",
       "    <tr>\n",
       "      <th>...</th>\n",
       "      <td>...</td>\n",
       "      <td>...</td>\n",
       "    </tr>\n",
       "    <tr>\n",
       "      <th>37353</th>\n",
       "      <td>[-0.64981, -0.77387, 0.87098, 0.10963, -0.2748...</td>\n",
       "      <td>1</td>\n",
       "    </tr>\n",
       "    <tr>\n",
       "      <th>37354</th>\n",
       "      <td>[-1.162, 0.20789, -0.26858, -0.50026, -0.32852...</td>\n",
       "      <td>0</td>\n",
       "    </tr>\n",
       "    <tr>\n",
       "      <th>37355</th>\n",
       "      <td>[-1.162, 0.20789, -0.26858, -0.50026, -0.32852...</td>\n",
       "      <td>1</td>\n",
       "    </tr>\n",
       "    <tr>\n",
       "      <th>37356</th>\n",
       "      <td>[-0.35721, -0.54399, 0.26479, -0.15312, -0.005...</td>\n",
       "      <td>1</td>\n",
       "    </tr>\n",
       "    <tr>\n",
       "      <th>37357</th>\n",
       "      <td>[-1.5145, 0.9682, 0.34735, 1.0024, 0.042789, 0...</td>\n",
       "      <td>1</td>\n",
       "    </tr>\n",
       "  </tbody>\n",
       "</table>\n",
       "<p>37358 rows × 2 columns</p>\n",
       "</div>"
      ],
      "text/plain": [
       "                                                 x_train  y_train\n",
       "0      [-0.44257, -0.54624, 0.25403, 0.80731, 1.026, ...        0\n",
       "1      [-1.162, 0.20789, -0.26858, -0.50026, -0.32852...        1\n",
       "2      [-0.40747, -0.23971, -0.13692, -0.26816, -0.13...        1\n",
       "3      [-0.66947, 0.97598, -0.16577, 0.21344, 0.52528...        0\n",
       "4      [-1.3671, -0.14589, 0.2346, 0.90819, -0.056889...        1\n",
       "...                                                  ...      ...\n",
       "37353  [-0.64981, -0.77387, 0.87098, 0.10963, -0.2748...        1\n",
       "37354  [-1.162, 0.20789, -0.26858, -0.50026, -0.32852...        0\n",
       "37355  [-1.162, 0.20789, -0.26858, -0.50026, -0.32852...        1\n",
       "37356  [-0.35721, -0.54399, 0.26479, -0.15312, -0.005...        1\n",
       "37357  [-1.5145, 0.9682, 0.34735, 1.0024, 0.042789, 0...        1\n",
       "\n",
       "[37358 rows x 2 columns]"
      ]
     },
     "execution_count": 34,
     "metadata": {},
     "output_type": "execute_result"
    }
   ],
   "source": [
    "# # data contains all category except 6, 13 and 24\n",
    "range_1_train"
   ]
  },
  {
   "cell_type": "code",
   "execution_count": 35,
   "id": "1f51312f",
   "metadata": {},
   "outputs": [
    {
     "data": {
      "text/html": [
       "<div>\n",
       "<style scoped>\n",
       "    .dataframe tbody tr th:only-of-type {\n",
       "        vertical-align: middle;\n",
       "    }\n",
       "\n",
       "    .dataframe tbody tr th {\n",
       "        vertical-align: top;\n",
       "    }\n",
       "\n",
       "    .dataframe thead th {\n",
       "        text-align: right;\n",
       "    }\n",
       "</style>\n",
       "<table border=\"1\" class=\"dataframe\">\n",
       "  <thead>\n",
       "    <tr style=\"text-align: right;\">\n",
       "      <th></th>\n",
       "      <th>x_train</th>\n",
       "      <th>y_train</th>\n",
       "    </tr>\n",
       "  </thead>\n",
       "  <tbody>\n",
       "    <tr>\n",
       "      <th>0</th>\n",
       "      <td>[-0.507, -0.49518, 0.46885, 0.54524, -0.11552,...</td>\n",
       "      <td>1</td>\n",
       "    </tr>\n",
       "    <tr>\n",
       "      <th>1</th>\n",
       "      <td>[-0.7403, -0.78746, 0.47018, 0.43474, 0.05842,...</td>\n",
       "      <td>0</td>\n",
       "    </tr>\n",
       "    <tr>\n",
       "      <th>2</th>\n",
       "      <td>[-0.7403, -0.78746, 0.47018, 0.43474, 0.05842,...</td>\n",
       "      <td>0</td>\n",
       "    </tr>\n",
       "    <tr>\n",
       "      <th>3</th>\n",
       "      <td>[-0.7403, -0.78746, 0.47018, 0.43474, 0.05842,...</td>\n",
       "      <td>0</td>\n",
       "    </tr>\n",
       "    <tr>\n",
       "      <th>4</th>\n",
       "      <td>[0.42891, -0.24897, 0.19145, -0.10207, -0.5001...</td>\n",
       "      <td>1</td>\n",
       "    </tr>\n",
       "    <tr>\n",
       "      <th>...</th>\n",
       "      <td>...</td>\n",
       "      <td>...</td>\n",
       "    </tr>\n",
       "    <tr>\n",
       "      <th>39775</th>\n",
       "      <td>[0.076692, -1.2582, -0.77063, 0.2975, -0.29997...</td>\n",
       "      <td>1</td>\n",
       "    </tr>\n",
       "    <tr>\n",
       "      <th>39776</th>\n",
       "      <td>[0.42891, -0.24897, 0.19145, -0.10207, -0.5001...</td>\n",
       "      <td>1</td>\n",
       "    </tr>\n",
       "    <tr>\n",
       "      <th>39777</th>\n",
       "      <td>[-0.40545, -0.030497, -0.15783, -0.29145, -0.4...</td>\n",
       "      <td>0</td>\n",
       "    </tr>\n",
       "    <tr>\n",
       "      <th>39778</th>\n",
       "      <td>[-0.3488, 0.35351, -0.75489, 0.65763, -0.76447...</td>\n",
       "      <td>1</td>\n",
       "    </tr>\n",
       "    <tr>\n",
       "      <th>39779</th>\n",
       "      <td>[-0.081545, 0.25175, 0.027983, 0.064531, 0.253...</td>\n",
       "      <td>1</td>\n",
       "    </tr>\n",
       "  </tbody>\n",
       "</table>\n",
       "<p>39780 rows × 2 columns</p>\n",
       "</div>"
      ],
      "text/plain": [
       "                                                 x_train  y_train\n",
       "0      [-0.507, -0.49518, 0.46885, 0.54524, -0.11552,...        1\n",
       "1      [-0.7403, -0.78746, 0.47018, 0.43474, 0.05842,...        0\n",
       "2      [-0.7403, -0.78746, 0.47018, 0.43474, 0.05842,...        0\n",
       "3      [-0.7403, -0.78746, 0.47018, 0.43474, 0.05842,...        0\n",
       "4      [0.42891, -0.24897, 0.19145, -0.10207, -0.5001...        1\n",
       "...                                                  ...      ...\n",
       "39775  [0.076692, -1.2582, -0.77063, 0.2975, -0.29997...        1\n",
       "39776  [0.42891, -0.24897, 0.19145, -0.10207, -0.5001...        1\n",
       "39777  [-0.40545, -0.030497, -0.15783, -0.29145, -0.4...        0\n",
       "39778  [-0.3488, 0.35351, -0.75489, 0.65763, -0.76447...        1\n",
       "39779  [-0.081545, 0.25175, 0.027983, 0.064531, 0.253...        1\n",
       "\n",
       "[39780 rows x 2 columns]"
      ]
     },
     "execution_count": 35,
     "metadata": {},
     "output_type": "execute_result"
    }
   ],
   "source": [
    "# data contains category 6 or 24\n",
    "range_2_train"
   ]
  },
  {
   "cell_type": "code",
   "execution_count": 36,
   "id": "5832e31e",
   "metadata": {},
   "outputs": [
    {
     "data": {
      "text/html": [
       "<div>\n",
       "<style scoped>\n",
       "    .dataframe tbody tr th:only-of-type {\n",
       "        vertical-align: middle;\n",
       "    }\n",
       "\n",
       "    .dataframe tbody tr th {\n",
       "        vertical-align: top;\n",
       "    }\n",
       "\n",
       "    .dataframe thead th {\n",
       "        text-align: right;\n",
       "    }\n",
       "</style>\n",
       "<table border=\"1\" class=\"dataframe\">\n",
       "  <thead>\n",
       "    <tr style=\"text-align: right;\">\n",
       "      <th></th>\n",
       "      <th>x_train</th>\n",
       "      <th>y_train</th>\n",
       "    </tr>\n",
       "  </thead>\n",
       "  <tbody>\n",
       "    <tr>\n",
       "      <th>0</th>\n",
       "      <td>[0.19911, -0.46156, 0.19674, -1.3298, 0.51805,...</td>\n",
       "      <td>0</td>\n",
       "    </tr>\n",
       "    <tr>\n",
       "      <th>1</th>\n",
       "      <td>[0.19911, -0.46156, 0.19674, -1.3298, 0.51805,...</td>\n",
       "      <td>1</td>\n",
       "    </tr>\n",
       "    <tr>\n",
       "      <th>2</th>\n",
       "      <td>[0.19911, -0.46156, 0.19674, -1.3298, 0.51805,...</td>\n",
       "      <td>0</td>\n",
       "    </tr>\n",
       "    <tr>\n",
       "      <th>3</th>\n",
       "      <td>[0.19911, -0.46156, 0.19674, -1.3298, 0.51805,...</td>\n",
       "      <td>0</td>\n",
       "    </tr>\n",
       "    <tr>\n",
       "      <th>4</th>\n",
       "      <td>[0.19911, -0.46156, 0.19674, -1.3298, 0.51805,...</td>\n",
       "      <td>1</td>\n",
       "    </tr>\n",
       "    <tr>\n",
       "      <th>...</th>\n",
       "      <td>...</td>\n",
       "      <td>...</td>\n",
       "    </tr>\n",
       "    <tr>\n",
       "      <th>45897</th>\n",
       "      <td>[0.19911, -0.46156, 0.19674, -1.3298, 0.51805,...</td>\n",
       "      <td>0</td>\n",
       "    </tr>\n",
       "    <tr>\n",
       "      <th>45898</th>\n",
       "      <td>[0.19911, -0.46156, 0.19674, -1.3298, 0.51805,...</td>\n",
       "      <td>0</td>\n",
       "    </tr>\n",
       "    <tr>\n",
       "      <th>45899</th>\n",
       "      <td>[0.19911, -0.46156, 0.19674, -1.3298, 0.51805,...</td>\n",
       "      <td>0</td>\n",
       "    </tr>\n",
       "    <tr>\n",
       "      <th>45900</th>\n",
       "      <td>[0.19911, -0.46156, 0.19674, -1.3298, 0.51805,...</td>\n",
       "      <td>0</td>\n",
       "    </tr>\n",
       "    <tr>\n",
       "      <th>45901</th>\n",
       "      <td>[0.19911, -0.46156, 0.19674, -1.3298, 0.51805,...</td>\n",
       "      <td>0</td>\n",
       "    </tr>\n",
       "  </tbody>\n",
       "</table>\n",
       "<p>45902 rows × 2 columns</p>\n",
       "</div>"
      ],
      "text/plain": [
       "                                                 x_train  y_train\n",
       "0      [0.19911, -0.46156, 0.19674, -1.3298, 0.51805,...        0\n",
       "1      [0.19911, -0.46156, 0.19674, -1.3298, 0.51805,...        1\n",
       "2      [0.19911, -0.46156, 0.19674, -1.3298, 0.51805,...        0\n",
       "3      [0.19911, -0.46156, 0.19674, -1.3298, 0.51805,...        0\n",
       "4      [0.19911, -0.46156, 0.19674, -1.3298, 0.51805,...        1\n",
       "...                                                  ...      ...\n",
       "45897  [0.19911, -0.46156, 0.19674, -1.3298, 0.51805,...        0\n",
       "45898  [0.19911, -0.46156, 0.19674, -1.3298, 0.51805,...        0\n",
       "45899  [0.19911, -0.46156, 0.19674, -1.3298, 0.51805,...        0\n",
       "45900  [0.19911, -0.46156, 0.19674, -1.3298, 0.51805,...        0\n",
       "45901  [0.19911, -0.46156, 0.19674, -1.3298, 0.51805,...        0\n",
       "\n",
       "[45902 rows x 2 columns]"
      ]
     },
     "execution_count": 36,
     "metadata": {},
     "output_type": "execute_result"
    }
   ],
   "source": [
    "# data contains category 13\n",
    "range_3_train"
   ]
  },
  {
   "cell_type": "code",
   "execution_count": 37,
   "id": "c3fc8a03",
   "metadata": {},
   "outputs": [],
   "source": [
    "# selecting X and Y for the data\n",
    "x_train_1 = range_1_train['x_train']\n",
    "y_train_1 = range_1_train['y_train']\n",
    "# ------------------------------------\n",
    "x_train_2 = range_2_train['x_train']\n",
    "y_train_2 = range_2_train['y_train']\n",
    "# ------------------------------------\n",
    "x_train_3 = range_3_train['x_train']\n",
    "y_train_3 = range_3_train['y_train']"
   ]
  },
  {
   "cell_type": "code",
   "execution_count": 38,
   "id": "bc111f90",
   "metadata": {},
   "outputs": [],
   "source": [
    "# 5000 sample from every DataFrame\n",
    "\n",
    "sample_1=range_1_train.sample(n = 5000, replace = False)\n",
    "sample_2=range_2_train.sample(n = 5000, replace = False)\n",
    "sample_3=range_3_train.sample(n = 5000, replace = False)"
   ]
  },
  {
   "cell_type": "code",
   "execution_count": 39,
   "id": "92acfbc0",
   "metadata": {},
   "outputs": [],
   "source": [
    "#validation for range 1 from datafame 2 and 3\n",
    "\n",
    "range_1_test=pd.concat([sample_2, sample_3], axis=0)\n",
    "\n",
    "x_val_1 = range_1_test['x_train']\n",
    "y_val_1 = range_1_test['y_train']\n",
    "\n",
    "#validation for range 2 from datafame 1 and 3\n",
    "\n",
    "range_2_test=pd.concat([sample_1, sample_3], axis=0)\n",
    "\n",
    "x_val_2 = range_2_test['x_train']\n",
    "y_val_2 = range_2_test['y_train']\n",
    "\n",
    "#validation for range 3 from datafame 1 and 2\n",
    "\n",
    "range_3_test=pd.concat([sample_1, sample_2] ,axis=0)\n",
    "\n",
    "x_val_3 = range_3_test['x_train']\n",
    "y_val_3 = range_3_test['y_train']"
   ]
  },
  {
   "cell_type": "code",
   "execution_count": 40,
   "id": "c18d0e83",
   "metadata": {},
   "outputs": [],
   "source": [
    "# converting data to numpy array for traininhg \n",
    "x_train_1 = np.array([np.array(i) for i in x_train_1])\n",
    "x_val_1  = np.array([np.array(i) for i in x_val_1])\n",
    "# -------------------------------------------------------\n",
    "x_train_2 = np.array([np.array(i) for i in x_train_2])\n",
    "x_val_2  = np.array([np.array(i) for i in x_val_2])\n",
    "# -------------------------------------------------------\n",
    "x_train_3 = np.array([np.array(i) for i in x_train_3])\n",
    "x_val_3  = np.array([np.array(i) for i in x_val_3])"
   ]
  },
  {
   "cell_type": "markdown",
   "id": "e615d31c",
   "metadata": {},
   "source": [
    "## best component for model 1"
   ]
  },
  {
   "cell_type": "code",
   "execution_count": 41,
   "id": "539f9c0b",
   "metadata": {},
   "outputs": [
    {
     "name": "stdout",
     "output_type": "stream",
     "text": [
      "dicision_tree ,f1: 0.560, C:5\n",
      "XG_boost ,f1: 0.586, C:5\n",
      "random_forest ,f1: 0.629, C:5\n",
      "AdaBoost ,f1: 0.648, C:5\n",
      "HistGradientBoostingClassifier ,f1: 0.633, C:5\n",
      "LGBMClassifier ,f1: 0.613, C:5\n",
      "dicision_tree ,f1: 0.659, C:10\n",
      "XG_boost ,f1: 0.660, C:10\n",
      "random_forest ,f1: 0.628, C:10\n",
      "AdaBoost ,f1: 0.602, C:10\n",
      "HistGradientBoostingClassifier ,f1: 0.601, C:10\n",
      "LGBMClassifier ,f1: 0.600, C:10\n",
      "dicision_tree ,f1: 0.609, C:20\n",
      "XG_boost ,f1: 0.619, C:20\n",
      "random_forest ,f1: 0.631, C:20\n",
      "AdaBoost ,f1: 0.643, C:20\n",
      "HistGradientBoostingClassifier ,f1: 0.620, C:20\n",
      "LGBMClassifier ,f1: 0.607, C:20\n",
      "dicision_tree ,f1: 0.572, C:30\n",
      "XG_boost ,f1: 0.637, C:30\n",
      "random_forest ,f1: 0.641, C:30\n",
      "AdaBoost ,f1: 0.608, C:30\n",
      "HistGradientBoostingClassifier ,f1: 0.637, C:30\n",
      "LGBMClassifier ,f1: 0.636, C:30\n",
      "dicision_tree ,f1: 0.387, C:50\n",
      "XG_boost ,f1: 0.639, C:50\n",
      "random_forest ,f1: 0.642, C:50\n",
      "AdaBoost ,f1: 0.640, C:50\n",
      "HistGradientBoostingClassifier ,f1: 0.639, C:50\n",
      "LGBMClassifier ,f1: 0.640, C:50\n",
      "dicision_tree ,f1: 0.436, C:70\n",
      "XG_boost ,f1: 0.633, C:70\n",
      "random_forest ,f1: 0.641, C:70\n",
      "AdaBoost ,f1: 0.623, C:70\n",
      "HistGradientBoostingClassifier ,f1: 0.633, C:70\n",
      "LGBMClassifier ,f1: 0.639, C:70\n",
      "dicision_tree ,f1: 0.661, C:80\n",
      "XG_boost ,f1: 0.648, C:80\n",
      "random_forest ,f1: 0.651, C:80\n",
      "AdaBoost ,f1: 0.621, C:80\n",
      "HistGradientBoostingClassifier ,f1: 0.639, C:80\n",
      "LGBMClassifier ,f1: 0.640, C:80\n",
      "dicision_tree ,f1: 0.612, C:90\n",
      "XG_boost ,f1: 0.638, C:90\n",
      "random_forest ,f1: 0.642, C:90\n",
      "AdaBoost ,f1: 0.643, C:90\n",
      "HistGradientBoostingClassifier ,f1: 0.649, C:90\n",
      "LGBMClassifier ,f1: 0.640, C:90\n",
      "dicision_tree ,f1: 0.579, C:100\n",
      "XG_boost ,f1: 0.639, C:100\n",
      "random_forest ,f1: 0.642, C:100\n",
      "AdaBoost ,f1: 0.630, C:100\n",
      "HistGradientBoostingClassifier ,f1: 0.638, C:100\n",
      "LGBMClassifier ,f1: 0.636, C:100\n"
     ]
    }
   ],
   "source": [
    "components=[5,10,20,30,50,70,80,90,100]\n",
    "models = [decTree_CLF ,xgb_CLF ,rf_CLF ,ada_CLF ,gradiant_boost_CLF ,lightGBM_CLF]\n",
    "models_names = ['dicision_tree','XG_boost','random_forest','AdaBoost','HistGradientBoostingClassifier','LGBMClassifier']\n",
    "f1_scores = []\n",
    "combinations = []\n",
    "\n",
    "for i in components:\n",
    "    # create instance from PCA \n",
    "    pca = PCA(n_components=i,random_state=0)\n",
    "    \n",
    "    # fit PCA \n",
    "    X_train_pca =pca.fit_transform(x_train_1)\n",
    "    X_val_pca   =pca.transform(x_val_1)\n",
    "    \n",
    "    for j, m in enumerate(models): \n",
    "        f1_score_value = get_f1_score_4_PCA(X_train_pca,y_train_1,X_val_pca,y_val_1,m)\n",
    "        f1_scores.append(f1_score_value)\n",
    "        st = f\"{models_names[j]} , C:{i}\"\n",
    "        print(f\"{models_names[j]} ,f1: {f1_score_value:.3f}, C:{i}\")\n",
    "        combinations.append(st)"
   ]
  },
  {
   "cell_type": "code",
   "execution_count": 42,
   "id": "8a2d602f",
   "metadata": {},
   "outputs": [
    {
     "name": "stdout",
     "output_type": "stream",
     "text": [
      "====================================================================================================\n",
      "Best number of components for PCA , and best model Based on F1-score : dicision_tree , C:80\n",
      "F1-score : 0.660620525059666\n",
      "====================================================================================================\n"
     ]
    }
   ],
   "source": [
    "print(\"=\"*100)\n",
    "print(f\"Best number of components for PCA , and best model Based on F1-score : {combinations[np.argmax(f1_scores)]}\")\n",
    "print(f\"F1-score : {f1_scores[np.argmax(f1_scores)]}\")\n",
    "print(\"=\"*100)"
   ]
  },
  {
   "cell_type": "markdown",
   "id": "36ab44ff",
   "metadata": {},
   "source": [
    "## best component for model 2"
   ]
  },
  {
   "cell_type": "code",
   "execution_count": 43,
   "id": "6ad280fb",
   "metadata": {},
   "outputs": [
    {
     "name": "stdout",
     "output_type": "stream",
     "text": [
      "dicision_tree ,f1: 0.668, C:5\n",
      "XG_boost ,f1: 0.668, C:5\n",
      "random_forest ,f1: 0.668, C:5\n",
      "AdaBoost ,f1: 0.668, C:5\n",
      "HistGradientBoostingClassifier ,f1: 0.668, C:5\n",
      "LGBMClassifier ,f1: 0.668, C:5\n",
      "dicision_tree ,f1: 0.668, C:10\n",
      "XG_boost ,f1: 0.668, C:10\n",
      "random_forest ,f1: 0.668, C:10\n",
      "AdaBoost ,f1: 0.668, C:10\n",
      "HistGradientBoostingClassifier ,f1: 0.668, C:10\n",
      "LGBMClassifier ,f1: 0.668, C:10\n",
      "dicision_tree ,f1: 0.668, C:20\n",
      "XG_boost ,f1: 0.668, C:20\n",
      "random_forest ,f1: 0.668, C:20\n",
      "AdaBoost ,f1: 0.668, C:20\n",
      "HistGradientBoostingClassifier ,f1: 0.668, C:20\n",
      "LGBMClassifier ,f1: 0.668, C:20\n",
      "dicision_tree ,f1: 0.668, C:30\n",
      "XG_boost ,f1: 0.668, C:30\n",
      "random_forest ,f1: 0.668, C:30\n",
      "AdaBoost ,f1: 0.668, C:30\n",
      "HistGradientBoostingClassifier ,f1: 0.668, C:30\n",
      "LGBMClassifier ,f1: 0.668, C:30\n",
      "dicision_tree ,f1: 0.639, C:50\n",
      "XG_boost ,f1: 0.668, C:50\n",
      "random_forest ,f1: 0.668, C:50\n",
      "AdaBoost ,f1: 0.668, C:50\n",
      "HistGradientBoostingClassifier ,f1: 0.668, C:50\n",
      "LGBMClassifier ,f1: 0.668, C:50\n",
      "dicision_tree ,f1: 0.668, C:70\n",
      "XG_boost ,f1: 0.668, C:70\n",
      "random_forest ,f1: 0.668, C:70\n",
      "AdaBoost ,f1: 0.668, C:70\n",
      "HistGradientBoostingClassifier ,f1: 0.668, C:70\n",
      "LGBMClassifier ,f1: 0.668, C:70\n",
      "dicision_tree ,f1: 0.668, C:80\n",
      "XG_boost ,f1: 0.668, C:80\n",
      "random_forest ,f1: 0.668, C:80\n",
      "AdaBoost ,f1: 0.668, C:80\n",
      "HistGradientBoostingClassifier ,f1: 0.668, C:80\n",
      "LGBMClassifier ,f1: 0.668, C:80\n",
      "dicision_tree ,f1: 0.668, C:90\n",
      "XG_boost ,f1: 0.668, C:90\n",
      "random_forest ,f1: 0.668, C:90\n",
      "AdaBoost ,f1: 0.668, C:90\n",
      "HistGradientBoostingClassifier ,f1: 0.668, C:90\n",
      "LGBMClassifier ,f1: 0.668, C:90\n",
      "dicision_tree ,f1: 0.668, C:100\n",
      "XG_boost ,f1: 0.668, C:100\n",
      "random_forest ,f1: 0.668, C:100\n",
      "AdaBoost ,f1: 0.668, C:100\n",
      "HistGradientBoostingClassifier ,f1: 0.668, C:100\n",
      "LGBMClassifier ,f1: 0.668, C:100\n"
     ]
    }
   ],
   "source": [
    "components=[5,10,20,30,50,70,80,90,100]\n",
    "models = [decTree_CLF ,xgb_CLF ,rf_CLF ,ada_CLF ,gradiant_boost_CLF ,lightGBM_CLF]\n",
    "models_names = ['dicision_tree','XG_boost','random_forest','AdaBoost','HistGradientBoostingClassifier','LGBMClassifier']\n",
    "f1_scores = []\n",
    "combinations = []\n",
    "\n",
    "for i in components:\n",
    "    # create instance from PCA \n",
    "    pca = PCA(n_components=i,random_state=0)\n",
    "    \n",
    "    # fit PCA \n",
    "    X_train_pca =pca.fit_transform(x_train_2)\n",
    "    X_val_pca   =pca.transform(x_val_2)\n",
    "    \n",
    "    for j, m in enumerate(models): \n",
    "        f1_score_value = get_f1_score_4_PCA(X_train_pca,y_train_2,X_val_pca,y_val_2,m)\n",
    "        f1_scores.append(f1_score_value)\n",
    "        st = f\"{models_names[j]} , C:{i}\"\n",
    "        print(f\"{models_names[j]} ,f1: {f1_score_value:.3f}, C:{i}\")\n",
    "        combinations.append(st)"
   ]
  },
  {
   "cell_type": "code",
   "execution_count": 44,
   "id": "07cc5379",
   "metadata": {},
   "outputs": [
    {
     "name": "stdout",
     "output_type": "stream",
     "text": [
      "====================================================================================================\n",
      "Best number of components for PCA , and best model Based on F1-score : random_forest , C:5\n",
      "F1-score : 0.6682647489679052\n",
      "====================================================================================================\n"
     ]
    }
   ],
   "source": [
    "print(\"=\"*100)\n",
    "print(f\"Best number of components for PCA , and best model Based on F1-score : {combinations[np.argmax(f1_scores)]}\")\n",
    "print(f\"F1-score : {f1_scores[np.argmax(f1_scores)]}\")\n",
    "print(\"=\"*100)"
   ]
  },
  {
   "cell_type": "markdown",
   "id": "518dd3b9",
   "metadata": {},
   "source": [
    "## best component for model 3"
   ]
  },
  {
   "cell_type": "code",
   "execution_count": 45,
   "id": "54c5c55d",
   "metadata": {},
   "outputs": [
    {
     "name": "stdout",
     "output_type": "stream",
     "text": [
      "dicision_tree ,f1: 0.000, C:5\n",
      "XG_boost ,f1: 0.530, C:5\n",
      "random_forest ,f1: 0.000, C:5\n",
      "AdaBoost ,f1: 0.000, C:5\n",
      "HistGradientBoostingClassifier ,f1: 0.000, C:5\n",
      "LGBMClassifier ,f1: 0.000, C:5\n",
      "dicision_tree ,f1: 0.000, C:10\n",
      "XG_boost ,f1: 0.655, C:10\n",
      "random_forest ,f1: 0.000, C:10\n",
      "AdaBoost ,f1: 0.000, C:10\n",
      "HistGradientBoostingClassifier ,f1: 0.000, C:10\n",
      "LGBMClassifier ,f1: 0.000, C:10\n",
      "dicision_tree ,f1: 0.000, C:20\n",
      "XG_boost ,f1: 0.666, C:20\n",
      "random_forest ,f1: 0.000, C:20\n",
      "AdaBoost ,f1: 0.000, C:20\n",
      "HistGradientBoostingClassifier ,f1: 0.616, C:20\n",
      "LGBMClassifier ,f1: 0.660, C:20\n",
      "dicision_tree ,f1: 0.000, C:30\n",
      "XG_boost ,f1: 0.593, C:30\n",
      "random_forest ,f1: 0.000, C:30\n",
      "AdaBoost ,f1: 0.000, C:30\n",
      "HistGradientBoostingClassifier ,f1: 0.400, C:30\n",
      "LGBMClassifier ,f1: 0.629, C:30\n",
      "dicision_tree ,f1: 0.000, C:50\n",
      "XG_boost ,f1: 0.350, C:50\n",
      "random_forest ,f1: 0.000, C:50\n",
      "AdaBoost ,f1: 0.000, C:50\n",
      "HistGradientBoostingClassifier ,f1: 0.084, C:50\n",
      "LGBMClassifier ,f1: 0.496, C:50\n",
      "dicision_tree ,f1: 0.000, C:70\n",
      "XG_boost ,f1: 0.448, C:70\n",
      "random_forest ,f1: 0.000, C:70\n",
      "AdaBoost ,f1: 0.000, C:70\n",
      "HistGradientBoostingClassifier ,f1: 0.353, C:70\n",
      "LGBMClassifier ,f1: 0.542, C:70\n",
      "dicision_tree ,f1: 0.000, C:80\n",
      "XG_boost ,f1: 0.546, C:80\n",
      "random_forest ,f1: 0.000, C:80\n",
      "AdaBoost ,f1: 0.000, C:80\n",
      "HistGradientBoostingClassifier ,f1: 0.066, C:80\n",
      "LGBMClassifier ,f1: 0.290, C:80\n",
      "dicision_tree ,f1: 0.000, C:90\n",
      "XG_boost ,f1: 0.288, C:90\n",
      "random_forest ,f1: 0.000, C:90\n",
      "AdaBoost ,f1: 0.000, C:90\n",
      "HistGradientBoostingClassifier ,f1: 0.532, C:90\n",
      "LGBMClassifier ,f1: 0.530, C:90\n",
      "dicision_tree ,f1: 0.000, C:100\n",
      "XG_boost ,f1: 0.303, C:100\n",
      "random_forest ,f1: 0.000, C:100\n",
      "AdaBoost ,f1: 0.000, C:100\n",
      "HistGradientBoostingClassifier ,f1: 0.658, C:100\n",
      "LGBMClassifier ,f1: 0.508, C:100\n"
     ]
    }
   ],
   "source": [
    "components=[5,10,20,30,50,70,80,90,100]\n",
    "models = [decTree_CLF ,xgb_CLF ,rf_CLF ,ada_CLF ,gradiant_boost_CLF ,lightGBM_CLF]\n",
    "models_names = ['dicision_tree','XG_boost','random_forest','AdaBoost','HistGradientBoostingClassifier','LGBMClassifier']\n",
    "f1_scores = []\n",
    "combinations = []\n",
    "\n",
    "for i in components:\n",
    "    # create instance from PCA \n",
    "    pca = PCA(n_components=i,random_state=0)\n",
    "    \n",
    "    # fit PCA \n",
    "    X_train_pca =pca.fit_transform(x_train_3)\n",
    "    X_val_pca   =pca.transform(x_val_3)\n",
    "    \n",
    "    for j, m in enumerate(models): \n",
    "        f1_score_value = get_f1_score_4_PCA(X_train_pca,y_train_3,X_val_pca,y_val_3,m)\n",
    "        f1_scores.append(f1_score_value)\n",
    "        st = f\"{models_names[j]} , C:{i}\"\n",
    "        print(f\"{models_names[j]} ,f1: {f1_score_value:.3f}, C:{i}\")\n",
    "        combinations.append(st)"
   ]
  },
  {
   "cell_type": "code",
   "execution_count": 46,
   "id": "f75b2e7b",
   "metadata": {},
   "outputs": [
    {
     "name": "stdout",
     "output_type": "stream",
     "text": [
      "====================================================================================================\n",
      "Best number of components for PCA , and best model Based on F1-score : XG_boost , C:20\n",
      "F1-score : 0.6659551760939166\n",
      "====================================================================================================\n"
     ]
    }
   ],
   "source": [
    "print(\"=\"*100)\n",
    "print(f\"Best number of components for PCA , and best model Based on F1-score : {combinations[np.argmax(f1_scores)]}\")\n",
    "print(f\"F1-score : {f1_scores[np.argmax(f1_scores)]}\")\n",
    "print(\"=\"*100)"
   ]
  },
  {
   "cell_type": "markdown",
   "id": "ac0ffe2f",
   "metadata": {},
   "source": [
    "## building models"
   ]
  },
  {
   "cell_type": "code",
   "execution_count": 59,
   "id": "fd272afa",
   "metadata": {},
   "outputs": [],
   "source": [
    "model_1= DecisionTreeClassifier(random_state=0)"
   ]
  },
  {
   "cell_type": "code",
   "execution_count": 54,
   "id": "67dbf737",
   "metadata": {},
   "outputs": [],
   "source": [
    "model_2= RandomForestClassifier(random_state=0)"
   ]
  },
  {
   "cell_type": "code",
   "execution_count": 55,
   "id": "a49809ef",
   "metadata": {},
   "outputs": [],
   "source": [
    "model_3= xgb.XGBClassifier(random_state=0)"
   ]
  },
  {
   "cell_type": "markdown",
   "id": "a1b1676c",
   "metadata": {},
   "source": [
    "## evaluation models"
   ]
  },
  {
   "cell_type": "code",
   "execution_count": 60,
   "id": "c0bbc539",
   "metadata": {},
   "outputs": [
    {
     "name": "stdout",
     "output_type": "stream",
     "text": [
      "F1-Score : 0.660620525059666\n",
      "\n",
      "               precision    recall  f1-score   support\n",
      "\n",
      "           0       0.64      0.32      0.43      4968\n",
      "           1       0.55      0.83      0.66      5032\n",
      "\n",
      "    accuracy                           0.57     10000\n",
      "   macro avg       0.60      0.57      0.54     10000\n",
      "weighted avg       0.60      0.57      0.54     10000\n",
      "\n"
     ]
    },
    {
     "data": {
      "image/png": "[encoded data removed]",
      "text/plain": [
       "<Figure size 432x288 with 2 Axes>"
      ]
     },
     "metadata": {
      "needs_background": "light"
     },
     "output_type": "display_data"
    }
   ],
   "source": [
    "evaluation(model_1,x_train_1,x_val_1,y_train_1,y_val_1,80)"
   ]
  },
  {
   "cell_type": "code",
   "execution_count": 61,
   "id": "87b3c2cb",
   "metadata": {},
   "outputs": [
    {
     "name": "stdout",
     "output_type": "stream",
     "text": [
      "F1-Score : 0.6682647489679052\n",
      "\n",
      "               precision    recall  f1-score   support\n",
      "\n",
      "           0       0.00      0.00      0.00      4982\n",
      "           1       0.50      1.00      0.67      5018\n",
      "\n",
      "    accuracy                           0.50     10000\n",
      "   macro avg       0.25      0.50      0.33     10000\n",
      "weighted avg       0.25      0.50      0.34     10000\n",
      "\n"
     ]
    },
    {
     "name": "stderr",
     "output_type": "stream",
     "text": [
      "C:\\Users\\Shrief\\anaconda3\\lib\\site-packages\\sklearn\\metrics\\_classification.py:1334: UndefinedMetricWarning: Precision and F-score are ill-defined and being set to 0.0 in labels with no predicted samples. Use `zero_division` parameter to control this behavior.\n",
      "  _warn_prf(average, modifier, msg_start, len(result))\n",
      "C:\\Users\\Shrief\\anaconda3\\lib\\site-packages\\sklearn\\metrics\\_classification.py:1334: UndefinedMetricWarning: Precision and F-score are ill-defined and being set to 0.0 in labels with no predicted samples. Use `zero_division` parameter to control this behavior.\n",
      "  _warn_prf(average, modifier, msg_start, len(result))\n",
      "C:\\Users\\Shrief\\anaconda3\\lib\\site-packages\\sklearn\\metrics\\_classification.py:1334: UndefinedMetricWarning: Precision and F-score are ill-defined and being set to 0.0 in labels with no predicted samples. Use `zero_division` parameter to control this behavior.\n",
      "  _warn_prf(average, modifier, msg_start, len(result))\n"
     ]
    },
    {
     "data": {
      "image/png": "[encoded data removed]",
      "text/plain": [
       "<Figure size 432x288 with 2 Axes>"
      ]
     },
     "metadata": {
      "needs_background": "light"
     },
     "output_type": "display_data"
    }
   ],
   "source": [
    "evaluation(model_2,x_train_2,x_val_2,y_train_2,y_val_2,5)"
   ]
  },
  {
   "cell_type": "code",
   "execution_count": 62,
   "id": "659583dc",
   "metadata": {},
   "outputs": [
    {
     "name": "stdout",
     "output_type": "stream",
     "text": [
      "F1-Score : 0.6659551760939166\n",
      "\n",
      "               precision    recall  f1-score   support\n",
      "\n",
      "           0       0.00      0.00      0.00      5008\n",
      "           1       0.50      1.00      0.67      4992\n",
      "\n",
      "    accuracy                           0.50     10000\n",
      "   macro avg       0.25      0.50      0.33     10000\n",
      "weighted avg       0.25      0.50      0.33     10000\n",
      "\n"
     ]
    },
    {
     "name": "stderr",
     "output_type": "stream",
     "text": [
      "C:\\Users\\Shrief\\anaconda3\\lib\\site-packages\\sklearn\\metrics\\_classification.py:1334: UndefinedMetricWarning: Precision and F-score are ill-defined and being set to 0.0 in labels with no predicted samples. Use `zero_division` parameter to control this behavior.\n",
      "  _warn_prf(average, modifier, msg_start, len(result))\n",
      "C:\\Users\\Shrief\\anaconda3\\lib\\site-packages\\sklearn\\metrics\\_classification.py:1334: UndefinedMetricWarning: Precision and F-score are ill-defined and being set to 0.0 in labels with no predicted samples. Use `zero_division` parameter to control this behavior.\n",
      "  _warn_prf(average, modifier, msg_start, len(result))\n",
      "C:\\Users\\Shrief\\anaconda3\\lib\\site-packages\\sklearn\\metrics\\_classification.py:1334: UndefinedMetricWarning: Precision and F-score are ill-defined and being set to 0.0 in labels with no predicted samples. Use `zero_division` parameter to control this behavior.\n",
      "  _warn_prf(average, modifier, msg_start, len(result))\n"
     ]
    },
    {
     "data": {
      "image/png": "[encoded data removed]",
      "text/plain": [
       "<Figure size 432x288 with 2 Axes>"
      ]
     },
     "metadata": {
      "needs_background": "light"
     },
     "output_type": "display_data"
    }
   ],
   "source": [
    "evaluation(model_3,x_train_3,x_val_3,y_train_3,y_val_3,20)"
   ]
  },
  {
   "cell_type": "markdown",
   "id": "c301ecd4",
   "metadata": {},
   "source": [
    "## References "
   ]
  },
  {
   "cell_type": "markdown",
   "id": "56ec085d",
   "metadata": {},
   "source": [
    "[1] https://www.csmining.org/cdmc2021/index.php?id=5\n",
    "\n",
    "[2] https://keras.io/api/applications/"
   ]
  }
 ],
 "metadata": {
  "kernelspec": {
   "display_name": "Python 3 (ipykernel)",
   "language": "python",
   "name": "python3"
  },
  "language_info": {
   "codemirror_mode": {
    "name": "ipython",
    "version": 3
   },
   "file_extension": ".py",
   "mimetype": "text/x-python",
   "name": "python",
   "nbconvert_exporter": "python",
   "pygments_lexer": "ipython3",
   "version": "3.9.7"
  }
 },
 "nbformat": 4,
 "nbformat_minor": 5
}
