{
 "cells": [
  {
   "cell_type": "markdown",
   "id": "80376f1f",
   "metadata": {},
   "source": [
    "## Libraries "
   ]
  },
  {
   "cell_type": "code",
   "execution_count": 1,
   "id": "aaf3b8f9",
   "metadata": {},
   "outputs": [],
   "source": [
    "import pandas as pd\n",
    "import numpy as np"
   ]
  },
  {
   "cell_type": "code",
   "execution_count": 2,
   "id": "fdba3cfe",
   "metadata": {},
   "outputs": [],
   "source": [
    "import seaborn as sns\n",
    "import matplotlib.pyplot as plt\n",
    "import matplotlib.gridspec as gridspec\n",
    "#plt.figure(figsize=(16,10))"
   ]
  },
  {
   "cell_type": "code",
   "execution_count": 3,
   "id": "13ccbd9c",
   "metadata": {},
   "outputs": [],
   "source": [
    "import json"
   ]
  },
  {
   "cell_type": "code",
   "execution_count": 4,
   "id": "5e142bee",
   "metadata": {},
   "outputs": [],
   "source": [
    "from sklearn import preprocessing"
   ]
  },
  {
   "cell_type": "code",
   "execution_count": 5,
   "id": "2ce8d9a4",
   "metadata": {},
   "outputs": [],
   "source": [
    "from sklearn.model_selection import train_test_split"
   ]
  },
  {
   "cell_type": "code",
   "execution_count": 6,
   "id": "a3399aad",
   "metadata": {},
   "outputs": [],
   "source": [
    "from sklearn.ensemble import RandomForestClassifier\n",
    "from sklearn.ensemble import HistGradientBoostingClassifier\n",
    "from catboost import CatBoostClassifier\n",
    "from sklearn.tree import DecisionTreeClassifier\n",
    "import xgboost as xgb\n",
    "from sklearn.ensemble import  AdaBoostClassifier\n",
    "#!pip install lightgbm\n",
    "import lightgbm as lgb"
   ]
  },
  {
   "cell_type": "code",
   "execution_count": 7,
   "id": "edc4e9b2",
   "metadata": {},
   "outputs": [],
   "source": [
    "import tensorflow as tf\n",
    "import tensorflow.keras as keras\n",
    "from keras.models import Model\n",
    "from keras.optimizers import Adam\n",
    "from keras.applications.vgg16 import VGG16, preprocess_input\n",
    "from tensorflow.keras.applications.resnet50 import ResNet50\n",
    "\n",
    "from keras.callbacks import ModelCheckpoint, EarlyStopping\n",
    "from keras.layers import Dense, Dropout, Flatten,BatchNormalization\n",
    "from keras.models import Model\n",
    "from pathlib import Path"
   ]
  },
  {
   "cell_type": "code",
   "execution_count": 8,
   "id": "040098de",
   "metadata": {},
   "outputs": [],
   "source": [
    "from keras.optimizers import Adam\n",
    "from livelossplot.inputs.keras import PlotLossesCallback\n",
    "from sklearn.metrics import accuracy_score\n",
    "from keras.layers import Dense, Dropout, Flatten\n",
    "from keras.models import Model"
   ]
  },
  {
   "cell_type": "code",
   "execution_count": 9,
   "id": "0ae4953a",
   "metadata": {},
   "outputs": [],
   "source": [
    "import numpy as np\n",
    "import keras\n",
    "from keras.models import Sequential\n",
    "from keras.layers import Dense, Dropout, Flatten\n",
    "from keras.layers import Conv2D, MaxPooling2D\n",
    "from keras.optimizers import SGD\n",
    "from keras.layers import LeakyReLU"
   ]
  },
  {
   "cell_type": "markdown",
   "id": "86c54cd8",
   "metadata": {},
   "source": [
    "---------------"
   ]
  },
  {
   "cell_type": "markdown",
   "id": "388ae45f",
   "metadata": {},
   "source": [
    "## Functions"
   ]
  },
  {
   "cell_type": "code",
   "execution_count": 10,
   "id": "4d7517df",
   "metadata": {},
   "outputs": [],
   "source": [
    "def checkBalance(dataset,target_name):\n",
    "    print(\"=======================================\")\n",
    "    print(f\"Target Name : {target_name}\")\n",
    "    print(\"=======================================\")\n",
    "    print(\"value count\")\n",
    "    print(dataset[target_name].value_counts())\n",
    "    print(\"=======================================\")\n",
    "    sns.histplot(x =target_name,data = dataset)\n",
    "    plt.show()"
   ]
  },
  {
   "cell_type": "code",
   "execution_count": 11,
   "id": "a95f3ffc",
   "metadata": {},
   "outputs": [],
   "source": [
    "def check_unique(dataframe,feature_name,target_name):\n",
    "    # get a list of the unique values \n",
    "    uniqueLst = list(dataframe[feature_name].unique())\n",
    "    # the length of the unique values \n",
    "    uniquelength = len(uniqueLst)\n",
    "    # count the appenrance of each value in the dataset \n",
    "    count = dataframe[feature_name].value_counts()\n",
    "    sorted_count = count.sort_values() \n",
    "    # print some information about the feature \n",
    "    print(f\"Feature : {feature_name}\")\n",
    "    print(f\"Number of unique values : {uniquelength}\")\n",
    "    print(\"=================================\")\n",
    "    print(\"(Attack'category,count)\")\n",
    "    print(sorted_count)\n",
    "    print(\"=================================\")\n",
    "    #sns.histplot(data=, x=feature_name,hue=\"label\", kde=True)\n",
    "    sns.displot(x =feature_name,hue=target_name,data = dataframe, kind=\"kde\", multiple=\"stack\")\n",
    "    plt.show()"
   ]
  },
  {
   "cell_type": "code",
   "execution_count": 12,
   "id": "370895b9",
   "metadata": {},
   "outputs": [],
   "source": [
    "def count_number_word(lst_of_lst):\n",
    "    \n",
    "    wv_lens =[]\n",
    "\n",
    "    for x in lst_of_lst:\n",
    "         wv_lens.append(len(x))\n",
    "\n",
    "    myset = set(wv_lens)\n",
    "\n",
    "    counts = [wv_lens.count(x)for x in myset]\n",
    "\n",
    "    df2 = pd.DataFrame({\n",
    "        \"number of words\":list(myset),\n",
    "        \"count\":counts\n",
    "    })\n",
    "    \n",
    "    return df2\n"
   ]
  },
  {
   "cell_type": "code",
   "execution_count": 13,
   "id": "ecb99a79",
   "metadata": {},
   "outputs": [],
   "source": [
    "def padd_zeros(row,n_words):\n",
    "    # get number of words in this row\n",
    "    length = len(row)\n",
    "    # create new list that contain the value of the new length \n",
    "    new_lst = []\n",
    "    \n",
    "    for i in range(n_words):\n",
    "        if i < length:\n",
    "            new_lst.append(row[i])\n",
    "        else:\n",
    "    \n",
    "            listofzeros = [0]*100\n",
    "            new_lst.append(list(listofzeros))   \n",
    "        \n",
    "        \n",
    "    row = new_lst\n",
    "    \n",
    "    return row"
   ]
  },
  {
   "cell_type": "code",
   "execution_count": 14,
   "id": "4bf1c84f",
   "metadata": {},
   "outputs": [],
   "source": [
    "def prepare_equalWords_data(data,n_words):\n",
    "    # create a new data frame \n",
    "    nemDF = data.copy()\n",
    "    # pad zeros \n",
    "    nemDF['word_vector'] = nemDF['word_vector'].apply(lambda row: padd_zeros(row,n_words)) \n",
    "    # recount again \n",
    "    nemDF['word_count']  = nemDF['word_vector'].apply(lambda x: len(x))    \n",
    "    # encode the label to be 0 and 1 instead 1 and 2 \n",
    "    nemDF['label']  = nemDF['label'].apply(lambda x: int(x-1))    \n",
    "    \n",
    "    return nemDF"
   ]
  },
  {
   "cell_type": "code",
   "execution_count": 15,
   "id": "e6b9432d",
   "metadata": {},
   "outputs": [],
   "source": [
    "def visualize_class(data,y):\n",
    "    plt.figure(figsize=(20,20))\n",
    "    \n",
    "    s= [v== y for v in data['label']]\n",
    "    idxs = np.flatnonzero(s)\n",
    "    idxs = np.random.choice(idxs, 5, replace=False)\n",
    "    for i, idx in enumerate(idxs):\n",
    "        plt.subplot(1,5, i+1)\n",
    "        plt.imshow(data['word_vector'][idx])\n",
    "        plt.axis('off')\n",
    "        plt.title(y)\n",
    "    plt.show()\n",
    "            \n",
    "def visualize_classes(data,classes):\n",
    "    for y in classes:\n",
    "        visualize_class(data,y)\n",
    "    "
   ]
  },
  {
   "cell_type": "code",
   "execution_count": 16,
   "id": "3cfaa2ed",
   "metadata": {},
   "outputs": [],
   "source": [
    "def normalize_lst(a):\n",
    "    lst = np.array(a).reshape(-1,1)\n",
    "    scaler = preprocessing.MinMaxScaler(feature_range=(0, 1))\n",
    "    normalizedlist=scaler.fit_transform(lst)\n",
    "    return normalizedlist"
   ]
  },
  {
   "cell_type": "code",
   "execution_count": 17,
   "id": "3970e54c",
   "metadata": {},
   "outputs": [],
   "source": [
    "def get_words(data_frame,n_words):    \n",
    "    new_x=[]\n",
    "\n",
    "    for i in range(len(data_frame)):\n",
    "            templist= np.array([]) \n",
    "            np_word = np.array(data_frame['word_vector'][i])\n",
    "            templist= np.append(templist,np_word[:n_words])\n",
    "            \n",
    "            if(np_word.shape[0] <  n_words):\n",
    "                numeToAdd = n_words - np_word.shape[0]\n",
    "                templist= np.append(templist, np.zeros(100*numeToAdd))\n",
    "            \n",
    "            templist=templist.tolist()\n",
    "            new_x.append(templist) \n",
    "\n",
    "    return new_x"
   ]
  },
  {
   "cell_type": "code",
   "execution_count": 18,
   "id": "0b0252b1",
   "metadata": {},
   "outputs": [],
   "source": [
    "import keras.backend as K\n",
    "def F1_score(y_true, y_pred): \n",
    "    true_positives = K.sum(K.round(K.clip(y_true * y_pred, 0, 1)))\n",
    "    possible_positives = K.sum(K.round(K.clip(y_true, 0, 1)))\n",
    "    predicted_positives = K.sum(K.round(K.clip(y_pred, 0, 1)))\n",
    "    precision = true_positives / (predicted_positives + K.epsilon())\n",
    "    recall = true_positives / (possible_positives + K.epsilon())\n",
    "    f1_val = 2*(precision*recall)/(precision+recall+K.epsilon())\n",
    "    return f1_val"
   ]
  },
  {
   "cell_type": "markdown",
   "id": "8ecefb61",
   "metadata": {},
   "source": [
    "--------------"
   ]
  },
  {
   "cell_type": "markdown",
   "id": "3ca5275e",
   "metadata": {},
   "source": [
    "--------"
   ]
  },
  {
   "cell_type": "markdown",
   "id": "9d8cad26",
   "metadata": {},
   "source": [
    "<h3 style=\"color:maroon;\"> Read the Dataset </h3>"
   ]
  },
  {
   "cell_type": "markdown",
   "id": "536fbef5",
   "metadata": {},
   "source": [
    "<h3> Task 1: KISTI+IDS2021-CDMC: Network Intrusion Detection [1]</h3>\n",
    "\n",
    "- KISTI-IDS-2021 is the collection of real-world network IDS alerts that contain 25 types of attacks and payload information. \n",
    "\n",
    "* The dataset has 153,829 IDS alerts which are labeled as :\n",
    "    <h3 style=\"color:maroon;\">malicious(label:1)  </h3>   \n",
    "    <h3 style=\"color:maroon;\">benign(label:2)     </h3>  \n",
    "    \n",
    "<h3 style=\"color:blue;\">Also, all of the words in payload are embedded as a word vector to 100-dimension for each word.</h3>   \n",
    "\n",
    "- The purpose of the dataset is to encourage IDS research in terms of real-world environments considering payload contents. \n",
    "\n",
    "- It is divided into training (80%) and test set (20%) with 4-columned TAB separated structure (idx, category, wordvector(payload), label).\n",
    "\n",
    "<h3 style=\"color:blue;\">In this project we will work on the training only</h3>   "
   ]
  },
  {
   "cell_type": "code",
   "execution_count": 19,
   "id": "f62294d5",
   "metadata": {},
   "outputs": [],
   "source": [
    "data = pd.read_csv(\"Training.tsv\",sep=\"\\t\")"
   ]
  },
  {
   "cell_type": "markdown",
   "id": "7fe3ee90",
   "metadata": {},
   "source": [
    "-----------------------"
   ]
  },
  {
   "cell_type": "markdown",
   "id": "358f78a2",
   "metadata": {},
   "source": [
    "<h3 style=\"color:maroon;\">How the data look like </h3>"
   ]
  },
  {
   "cell_type": "code",
   "execution_count": 20,
   "id": "29186c83",
   "metadata": {},
   "outputs": [
    {
     "data": {
      "text/html": [
       "<div>\n",
       "<style scoped>\n",
       "    .dataframe tbody tr th:only-of-type {\n",
       "        vertical-align: middle;\n",
       "    }\n",
       "\n",
       "    .dataframe tbody tr th {\n",
       "        vertical-align: top;\n",
       "    }\n",
       "\n",
       "    .dataframe thead th {\n",
       "        text-align: right;\n",
       "    }\n",
       "</style>\n",
       "<table border=\"1\" class=\"dataframe\">\n",
       "  <thead>\n",
       "    <tr style=\"text-align: right;\">\n",
       "      <th></th>\n",
       "      <th>Unnamed: 0</th>\n",
       "      <th>category</th>\n",
       "      <th>word_vector</th>\n",
       "      <th>label</th>\n",
       "    </tr>\n",
       "  </thead>\n",
       "  <tbody>\n",
       "    <tr>\n",
       "      <th>0</th>\n",
       "      <td>0</td>\n",
       "      <td>24</td>\n",
       "      <td>[[-0.507, -0.49518, 0.46885, 0.54524, -0.11552...</td>\n",
       "      <td>2.0</td>\n",
       "    </tr>\n",
       "    <tr>\n",
       "      <th>1</th>\n",
       "      <td>1</td>\n",
       "      <td>13</td>\n",
       "      <td>[[0.19911, -0.46156, 0.19674, -1.3298, 0.51805...</td>\n",
       "      <td>1.0</td>\n",
       "    </tr>\n",
       "    <tr>\n",
       "      <th>2</th>\n",
       "      <td>2</td>\n",
       "      <td>24</td>\n",
       "      <td>[[-0.7403, -0.78746, 0.47018, 0.43474, 0.05842...</td>\n",
       "      <td>1.0</td>\n",
       "    </tr>\n",
       "    <tr>\n",
       "      <th>3</th>\n",
       "      <td>3</td>\n",
       "      <td>21</td>\n",
       "      <td>[[-0.44257, -0.54624, 0.25403, 0.80731, 1.026,...</td>\n",
       "      <td>1.0</td>\n",
       "    </tr>\n",
       "    <tr>\n",
       "      <th>4</th>\n",
       "      <td>4</td>\n",
       "      <td>13</td>\n",
       "      <td>[[0.19911, -0.46156, 0.19674, -1.3298, 0.51805...</td>\n",
       "      <td>2.0</td>\n",
       "    </tr>\n",
       "  </tbody>\n",
       "</table>\n",
       "</div>"
      ],
      "text/plain": [
       "   Unnamed: 0  category                                        word_vector  \\\n",
       "0           0        24  [[-0.507, -0.49518, 0.46885, 0.54524, -0.11552...   \n",
       "1           1        13  [[0.19911, -0.46156, 0.19674, -1.3298, 0.51805...   \n",
       "2           2        24  [[-0.7403, -0.78746, 0.47018, 0.43474, 0.05842...   \n",
       "3           3        21  [[-0.44257, -0.54624, 0.25403, 0.80731, 1.026,...   \n",
       "4           4        13  [[0.19911, -0.46156, 0.19674, -1.3298, 0.51805...   \n",
       "\n",
       "   label  \n",
       "0    2.0  \n",
       "1    1.0  \n",
       "2    1.0  \n",
       "3    1.0  \n",
       "4    2.0  "
      ]
     },
     "execution_count": 20,
     "metadata": {},
     "output_type": "execute_result"
    }
   ],
   "source": [
    "data.head()"
   ]
  },
  {
   "cell_type": "markdown",
   "id": "5561f163",
   "metadata": {},
   "source": [
    "<h3 style=\"color:maroon;\">Info about the data</h3>"
   ]
  },
  {
   "cell_type": "code",
   "execution_count": 21,
   "id": "8c67038d",
   "metadata": {},
   "outputs": [
    {
     "name": "stdout",
     "output_type": "stream",
     "text": [
      "<class 'pandas.core.frame.DataFrame'>\n",
      "RangeIndex: 123040 entries, 0 to 123039\n",
      "Data columns (total 4 columns):\n",
      " #   Column       Non-Null Count   Dtype  \n",
      "---  ------       --------------   -----  \n",
      " 0   Unnamed: 0   123040 non-null  int64  \n",
      " 1   category     123040 non-null  int64  \n",
      " 2   word_vector  123040 non-null  object \n",
      " 3   label        123040 non-null  float64\n",
      "dtypes: float64(1), int64(2), object(1)\n",
      "memory usage: 3.8+ MB\n",
      "None\n"
     ]
    }
   ],
   "source": [
    "print(data.info())"
   ]
  },
  {
   "cell_type": "markdown",
   "id": "e51a6602",
   "metadata": {},
   "source": [
    "<h3 style=\"color:maroon;\">drop the \"unnamed: 0\" column </h3>"
   ]
  },
  {
   "cell_type": "code",
   "execution_count": 22,
   "id": "7e6c831f",
   "metadata": {},
   "outputs": [],
   "source": [
    "data = data.drop(['Unnamed: 0'], axis=1)"
   ]
  },
  {
   "cell_type": "code",
   "execution_count": 23,
   "id": "f21c3774",
   "metadata": {},
   "outputs": [
    {
     "data": {
      "text/html": [
       "<div>\n",
       "<style scoped>\n",
       "    .dataframe tbody tr th:only-of-type {\n",
       "        vertical-align: middle;\n",
       "    }\n",
       "\n",
       "    .dataframe tbody tr th {\n",
       "        vertical-align: top;\n",
       "    }\n",
       "\n",
       "    .dataframe thead th {\n",
       "        text-align: right;\n",
       "    }\n",
       "</style>\n",
       "<table border=\"1\" class=\"dataframe\">\n",
       "  <thead>\n",
       "    <tr style=\"text-align: right;\">\n",
       "      <th></th>\n",
       "      <th>category</th>\n",
       "      <th>word_vector</th>\n",
       "      <th>label</th>\n",
       "    </tr>\n",
       "  </thead>\n",
       "  <tbody>\n",
       "    <tr>\n",
       "      <th>0</th>\n",
       "      <td>24</td>\n",
       "      <td>[[-0.507, -0.49518, 0.46885, 0.54524, -0.11552...</td>\n",
       "      <td>2.0</td>\n",
       "    </tr>\n",
       "    <tr>\n",
       "      <th>1</th>\n",
       "      <td>13</td>\n",
       "      <td>[[0.19911, -0.46156, 0.19674, -1.3298, 0.51805...</td>\n",
       "      <td>1.0</td>\n",
       "    </tr>\n",
       "    <tr>\n",
       "      <th>2</th>\n",
       "      <td>24</td>\n",
       "      <td>[[-0.7403, -0.78746, 0.47018, 0.43474, 0.05842...</td>\n",
       "      <td>1.0</td>\n",
       "    </tr>\n",
       "    <tr>\n",
       "      <th>3</th>\n",
       "      <td>21</td>\n",
       "      <td>[[-0.44257, -0.54624, 0.25403, 0.80731, 1.026,...</td>\n",
       "      <td>1.0</td>\n",
       "    </tr>\n",
       "    <tr>\n",
       "      <th>4</th>\n",
       "      <td>13</td>\n",
       "      <td>[[0.19911, -0.46156, 0.19674, -1.3298, 0.51805...</td>\n",
       "      <td>2.0</td>\n",
       "    </tr>\n",
       "  </tbody>\n",
       "</table>\n",
       "</div>"
      ],
      "text/plain": [
       "   category                                        word_vector  label\n",
       "0        24  [[-0.507, -0.49518, 0.46885, 0.54524, -0.11552...    2.0\n",
       "1        13  [[0.19911, -0.46156, 0.19674, -1.3298, 0.51805...    1.0\n",
       "2        24  [[-0.7403, -0.78746, 0.47018, 0.43474, 0.05842...    1.0\n",
       "3        21  [[-0.44257, -0.54624, 0.25403, 0.80731, 1.026,...    1.0\n",
       "4        13  [[0.19911, -0.46156, 0.19674, -1.3298, 0.51805...    2.0"
      ]
     },
     "execution_count": 23,
     "metadata": {},
     "output_type": "execute_result"
    }
   ],
   "source": [
    "data.head()"
   ]
  },
  {
   "cell_type": "markdown",
   "id": "78e18e9f",
   "metadata": {},
   "source": [
    "<h3 style=\"color:maroon;\"> Check the balance of data </h3>"
   ]
  },
  {
   "cell_type": "code",
   "execution_count": 24,
   "id": "ec4e0f3d",
   "metadata": {},
   "outputs": [
    {
     "name": "stdout",
     "output_type": "stream",
     "text": [
      "=======================================\n",
      "Target Name : label\n",
      "=======================================\n",
      "value count\n",
      "2.0    61520\n",
      "1.0    61520\n",
      "Name: label, dtype: int64\n",
      "=======================================\n"
     ]
    },
    {
     "data": {
      "image/png": "[encoded data removed]",
      "text/plain": [
       "<Figure size 432x288 with 1 Axes>"
      ]
     },
     "metadata": {
      "needs_background": "light"
     },
     "output_type": "display_data"
    }
   ],
   "source": [
    "checkBalance(data,\"label\")"
   ]
  },
  {
   "cell_type": "markdown",
   "id": "31742cdb",
   "metadata": {},
   "source": [
    "the data is balanced "
   ]
  },
  {
   "cell_type": "markdown",
   "id": "1d4205ca",
   "metadata": {},
   "source": [
    "<h3 style=\"color:maroon;\">check the unique values in the \"category\" feature </h3>"
   ]
  },
  {
   "cell_type": "code",
   "execution_count": 25,
   "id": "311b6616",
   "metadata": {},
   "outputs": [
    {
     "name": "stdout",
     "output_type": "stream",
     "text": [
      "Feature : category\n",
      "Number of unique values : 25\n",
      "=================================\n",
      "(Attack'category,count)\n",
      "12        6\n",
      "2        18\n",
      "5        34\n",
      "10      154\n",
      "14      218\n",
      "15      306\n",
      "8       368\n",
      "11      480\n",
      "3       608\n",
      "23      608\n",
      "4       730\n",
      "22      920\n",
      "9      1146\n",
      "20     1246\n",
      "0      1250\n",
      "17     1744\n",
      "18     2894\n",
      "16     3666\n",
      "19     4766\n",
      "1      4978\n",
      "21     5016\n",
      "7      6202\n",
      "6     15346\n",
      "24    24434\n",
      "13    45902\n",
      "Name: category, dtype: int64\n",
      "=================================\n"
     ]
    },
    {
     "data": {
      "image/png": "[encoded data removed]",
      "text/plain": [
       "<Figure size 412x360 with 1 Axes>"
      ]
     },
     "metadata": {
      "needs_background": "light"
     },
     "output_type": "display_data"
    }
   ],
   "source": [
    "check_unique(data,\"category\",\"label\")"
   ]
  },
  {
   "cell_type": "markdown",
   "id": "8694282c",
   "metadata": {},
   "source": [
    "<h3 style=\"color:maroon;\"> check is there any problem in the word_vector feature</h3>"
   ]
  },
  {
   "cell_type": "markdown",
   "id": "ae5b355a",
   "metadata": {},
   "source": [
    "#### first transfer it from an object to list of lists "
   ]
  },
  {
   "cell_type": "code",
   "execution_count": 26,
   "id": "8116f361",
   "metadata": {},
   "outputs": [],
   "source": [
    "data['word_vector'] = [json.loads(x) for x in data['word_vector']] # list of lists "
   ]
  },
  {
   "cell_type": "markdown",
   "id": "b2eacbd5",
   "metadata": {},
   "source": [
    "#### count number of words in each row in the data  and summarize the results"
   ]
  },
  {
   "cell_type": "code",
   "execution_count": 27,
   "id": "4ff17a5c",
   "metadata": {},
   "outputs": [],
   "source": [
    "word_count_df = count_number_word(data['word_vector'])"
   ]
  },
  {
   "cell_type": "code",
   "execution_count": 28,
   "id": "228fa77a",
   "metadata": {},
   "outputs": [
    {
     "data": {
      "text/html": [
       "<div>\n",
       "<style scoped>\n",
       "    .dataframe tbody tr th:only-of-type {\n",
       "        vertical-align: middle;\n",
       "    }\n",
       "\n",
       "    .dataframe tbody tr th {\n",
       "        vertical-align: top;\n",
       "    }\n",
       "\n",
       "    .dataframe thead th {\n",
       "        text-align: right;\n",
       "    }\n",
       "</style>\n",
       "<table border=\"1\" class=\"dataframe\">\n",
       "  <thead>\n",
       "    <tr style=\"text-align: right;\">\n",
       "      <th></th>\n",
       "      <th>number of words</th>\n",
       "      <th>count</th>\n",
       "    </tr>\n",
       "  </thead>\n",
       "  <tbody>\n",
       "    <tr>\n",
       "      <th>0</th>\n",
       "      <td>1</td>\n",
       "      <td>51441</td>\n",
       "    </tr>\n",
       "    <tr>\n",
       "      <th>1</th>\n",
       "      <td>2</td>\n",
       "      <td>4255</td>\n",
       "    </tr>\n",
       "    <tr>\n",
       "      <th>2</th>\n",
       "      <td>3</td>\n",
       "      <td>7868</td>\n",
       "    </tr>\n",
       "    <tr>\n",
       "      <th>3</th>\n",
       "      <td>4</td>\n",
       "      <td>3746</td>\n",
       "    </tr>\n",
       "    <tr>\n",
       "      <th>4</th>\n",
       "      <td>5</td>\n",
       "      <td>4911</td>\n",
       "    </tr>\n",
       "    <tr>\n",
       "      <th>...</th>\n",
       "      <td>...</td>\n",
       "      <td>...</td>\n",
       "    </tr>\n",
       "    <tr>\n",
       "      <th>123</th>\n",
       "      <td>125</td>\n",
       "      <td>2</td>\n",
       "    </tr>\n",
       "    <tr>\n",
       "      <th>124</th>\n",
       "      <td>127</td>\n",
       "      <td>9</td>\n",
       "    </tr>\n",
       "    <tr>\n",
       "      <th>125</th>\n",
       "      <td>133</td>\n",
       "      <td>1</td>\n",
       "    </tr>\n",
       "    <tr>\n",
       "      <th>126</th>\n",
       "      <td>154</td>\n",
       "      <td>3</td>\n",
       "    </tr>\n",
       "    <tr>\n",
       "      <th>127</th>\n",
       "      <td>169</td>\n",
       "      <td>1</td>\n",
       "    </tr>\n",
       "  </tbody>\n",
       "</table>\n",
       "<p>128 rows × 2 columns</p>\n",
       "</div>"
      ],
      "text/plain": [
       "     number of words  count\n",
       "0                  1  51441\n",
       "1                  2   4255\n",
       "2                  3   7868\n",
       "3                  4   3746\n",
       "4                  5   4911\n",
       "..               ...    ...\n",
       "123              125      2\n",
       "124              127      9\n",
       "125              133      1\n",
       "126              154      3\n",
       "127              169      1\n",
       "\n",
       "[128 rows x 2 columns]"
      ]
     },
     "execution_count": 28,
     "metadata": {},
     "output_type": "execute_result"
    }
   ],
   "source": [
    "word_count_df"
   ]
  },
  {
   "cell_type": "code",
   "execution_count": 29,
   "id": "3f72828e",
   "metadata": {},
   "outputs": [
    {
     "data": {
      "image/png": "[encoded data removed]",
      "text/plain": [
       "<Figure size 1440x360 with 1 Axes>"
      ]
     },
     "metadata": {
      "needs_background": "light"
     },
     "output_type": "display_data"
    }
   ],
   "source": [
    "#sns.histplot(x ='count',data = word_count_df)\n",
    "plt.figure(figsize=(20,5))\n",
    "plt.xlabel(\"number of words\", fontsize=18)\n",
    "plt.ylabel(\"apperance count\", fontsize=18)\n",
    "plt.title(\"summary of number of words and its apperance in the data\",fontsize=22,color=\"maroon\")\n",
    "plt.bar(word_count_df['number of words'],word_count_df['count'])\n",
    "plt.show()"
   ]
  },
  {
   "cell_type": "markdown",
   "id": "213ef349",
   "metadata": {},
   "source": [
    "<h3 style=\"color:maroon;\">Append number of words in each row to the data</h3>"
   ]
  },
  {
   "cell_type": "code",
   "execution_count": 30,
   "id": "325db87b",
   "metadata": {},
   "outputs": [],
   "source": [
    "data['word_count'] = data['word_vector'].apply(lambda x: len(x))"
   ]
  },
  {
   "cell_type": "code",
   "execution_count": 31,
   "id": "ed9991ee",
   "metadata": {},
   "outputs": [
    {
     "data": {
      "text/html": [
       "<div>\n",
       "<style scoped>\n",
       "    .dataframe tbody tr th:only-of-type {\n",
       "        vertical-align: middle;\n",
       "    }\n",
       "\n",
       "    .dataframe tbody tr th {\n",
       "        vertical-align: top;\n",
       "    }\n",
       "\n",
       "    .dataframe thead th {\n",
       "        text-align: right;\n",
       "    }\n",
       "</style>\n",
       "<table border=\"1\" class=\"dataframe\">\n",
       "  <thead>\n",
       "    <tr style=\"text-align: right;\">\n",
       "      <th></th>\n",
       "      <th>category</th>\n",
       "      <th>word_vector</th>\n",
       "      <th>label</th>\n",
       "      <th>word_count</th>\n",
       "    </tr>\n",
       "  </thead>\n",
       "  <tbody>\n",
       "    <tr>\n",
       "      <th>0</th>\n",
       "      <td>24</td>\n",
       "      <td>[[-0.507, -0.49518, 0.46885, 0.54524, -0.11552...</td>\n",
       "      <td>2.0</td>\n",
       "      <td>19</td>\n",
       "    </tr>\n",
       "    <tr>\n",
       "      <th>1</th>\n",
       "      <td>13</td>\n",
       "      <td>[[0.19911, -0.46156, 0.19674, -1.3298, 0.51805...</td>\n",
       "      <td>1.0</td>\n",
       "      <td>1</td>\n",
       "    </tr>\n",
       "    <tr>\n",
       "      <th>2</th>\n",
       "      <td>24</td>\n",
       "      <td>[[-0.7403, -0.78746, 0.47018, 0.43474, 0.05842...</td>\n",
       "      <td>1.0</td>\n",
       "      <td>7</td>\n",
       "    </tr>\n",
       "    <tr>\n",
       "      <th>3</th>\n",
       "      <td>21</td>\n",
       "      <td>[[-0.44257, -0.54624, 0.25403, 0.80731, 1.026,...</td>\n",
       "      <td>1.0</td>\n",
       "      <td>14</td>\n",
       "    </tr>\n",
       "    <tr>\n",
       "      <th>4</th>\n",
       "      <td>13</td>\n",
       "      <td>[[0.19911, -0.46156, 0.19674, -1.3298, 0.51805...</td>\n",
       "      <td>2.0</td>\n",
       "      <td>1</td>\n",
       "    </tr>\n",
       "    <tr>\n",
       "      <th>...</th>\n",
       "      <td>...</td>\n",
       "      <td>...</td>\n",
       "      <td>...</td>\n",
       "      <td>...</td>\n",
       "    </tr>\n",
       "    <tr>\n",
       "      <th>123035</th>\n",
       "      <td>24</td>\n",
       "      <td>[[-0.081545, 0.25175, 0.027983, 0.064531, 0.25...</td>\n",
       "      <td>2.0</td>\n",
       "      <td>20</td>\n",
       "    </tr>\n",
       "    <tr>\n",
       "      <th>123036</th>\n",
       "      <td>7</td>\n",
       "      <td>[[-0.35721, -0.54399, 0.26479, -0.15312, -0.00...</td>\n",
       "      <td>2.0</td>\n",
       "      <td>4</td>\n",
       "    </tr>\n",
       "    <tr>\n",
       "      <th>123037</th>\n",
       "      <td>19</td>\n",
       "      <td>[[-1.5145, 0.9682, 0.34735, 1.0024, 0.042789, ...</td>\n",
       "      <td>2.0</td>\n",
       "      <td>13</td>\n",
       "    </tr>\n",
       "    <tr>\n",
       "      <th>123038</th>\n",
       "      <td>13</td>\n",
       "      <td>[[0.19911, -0.46156, 0.19674, -1.3298, 0.51805...</td>\n",
       "      <td>1.0</td>\n",
       "      <td>1</td>\n",
       "    </tr>\n",
       "    <tr>\n",
       "      <th>123039</th>\n",
       "      <td>13</td>\n",
       "      <td>[[0.19911, -0.46156, 0.19674, -1.3298, 0.51805...</td>\n",
       "      <td>1.0</td>\n",
       "      <td>1</td>\n",
       "    </tr>\n",
       "  </tbody>\n",
       "</table>\n",
       "<p>123040 rows × 4 columns</p>\n",
       "</div>"
      ],
      "text/plain": [
       "        category                                        word_vector  label  \\\n",
       "0             24  [[-0.507, -0.49518, 0.46885, 0.54524, -0.11552...    2.0   \n",
       "1             13  [[0.19911, -0.46156, 0.19674, -1.3298, 0.51805...    1.0   \n",
       "2             24  [[-0.7403, -0.78746, 0.47018, 0.43474, 0.05842...    1.0   \n",
       "3             21  [[-0.44257, -0.54624, 0.25403, 0.80731, 1.026,...    1.0   \n",
       "4             13  [[0.19911, -0.46156, 0.19674, -1.3298, 0.51805...    2.0   \n",
       "...          ...                                                ...    ...   \n",
       "123035        24  [[-0.081545, 0.25175, 0.027983, 0.064531, 0.25...    2.0   \n",
       "123036         7  [[-0.35721, -0.54399, 0.26479, -0.15312, -0.00...    2.0   \n",
       "123037        19  [[-1.5145, 0.9682, 0.34735, 1.0024, 0.042789, ...    2.0   \n",
       "123038        13  [[0.19911, -0.46156, 0.19674, -1.3298, 0.51805...    1.0   \n",
       "123039        13  [[0.19911, -0.46156, 0.19674, -1.3298, 0.51805...    1.0   \n",
       "\n",
       "        word_count  \n",
       "0               19  \n",
       "1                1  \n",
       "2                7  \n",
       "3               14  \n",
       "4                1  \n",
       "...            ...  \n",
       "123035          20  \n",
       "123036           4  \n",
       "123037          13  \n",
       "123038           1  \n",
       "123039           1  \n",
       "\n",
       "[123040 rows x 4 columns]"
      ]
     },
     "execution_count": 31,
     "metadata": {},
     "output_type": "execute_result"
    }
   ],
   "source": [
    "data"
   ]
  },
  {
   "cell_type": "markdown",
   "id": "4755fd67",
   "metadata": {},
   "source": [
    "<h3 style=\"color:maroon;\">Check the effect of number of words in the payload to the target</h3>"
   ]
  },
  {
   "cell_type": "code",
   "execution_count": 32,
   "id": "be819360",
   "metadata": {},
   "outputs": [
    {
     "data": {
      "image/png": "[encoded data removed]",
      "text/plain": [
       "<Figure size 412x360 with 1 Axes>"
      ]
     },
     "metadata": {
      "needs_background": "light"
     },
     "output_type": "display_data"
    }
   ],
   "source": [
    "sns.displot(x =data['word_count'],hue=data['label'],data = data, kind=\"kde\", multiple=\"stack\")\n",
    "plt.show()"
   ]
  },
  {
   "cell_type": "markdown",
   "id": "8446426a",
   "metadata": {},
   "source": [
    "<h3 style=\"color:maroon;\"> let all the rows have an equal size of the word_vector</h3>"
   ]
  },
  {
   "cell_type": "code",
   "execution_count": 24,
   "id": "c2adec66",
   "metadata": {},
   "outputs": [],
   "source": [
    "data5 = prepare_equalWords_data(data,5)"
   ]
  },
  {
   "cell_type": "code",
   "execution_count": 25,
   "id": "dfbfb228",
   "metadata": {
    "scrolled": false
   },
   "outputs": [
    {
     "data": {
      "text/html": [
       "<div>\n",
       "<style scoped>\n",
       "    .dataframe tbody tr th:only-of-type {\n",
       "        vertical-align: middle;\n",
       "    }\n",
       "\n",
       "    .dataframe tbody tr th {\n",
       "        vertical-align: top;\n",
       "    }\n",
       "\n",
       "    .dataframe thead th {\n",
       "        text-align: right;\n",
       "    }\n",
       "</style>\n",
       "<table border=\"1\" class=\"dataframe\">\n",
       "  <thead>\n",
       "    <tr style=\"text-align: right;\">\n",
       "      <th></th>\n",
       "      <th>category</th>\n",
       "      <th>word_vector</th>\n",
       "      <th>label</th>\n",
       "      <th>word_count</th>\n",
       "    </tr>\n",
       "  </thead>\n",
       "  <tbody>\n",
       "    <tr>\n",
       "      <th>0</th>\n",
       "      <td>24</td>\n",
       "      <td>[[-0.507, -0.49518, 0.46885, 0.54524, -0.11552...</td>\n",
       "      <td>1</td>\n",
       "      <td>5</td>\n",
       "    </tr>\n",
       "    <tr>\n",
       "      <th>1</th>\n",
       "      <td>13</td>\n",
       "      <td>[[0.19911, -0.46156, 0.19674, -1.3298, 0.51805...</td>\n",
       "      <td>0</td>\n",
       "      <td>5</td>\n",
       "    </tr>\n",
       "    <tr>\n",
       "      <th>2</th>\n",
       "      <td>24</td>\n",
       "      <td>[[-0.7403, -0.78746, 0.47018, 0.43474, 0.05842...</td>\n",
       "      <td>0</td>\n",
       "      <td>5</td>\n",
       "    </tr>\n",
       "    <tr>\n",
       "      <th>3</th>\n",
       "      <td>21</td>\n",
       "      <td>[[-0.44257, -0.54624, 0.25403, 0.80731, 1.026,...</td>\n",
       "      <td>0</td>\n",
       "      <td>5</td>\n",
       "    </tr>\n",
       "    <tr>\n",
       "      <th>4</th>\n",
       "      <td>13</td>\n",
       "      <td>[[0.19911, -0.46156, 0.19674, -1.3298, 0.51805...</td>\n",
       "      <td>1</td>\n",
       "      <td>5</td>\n",
       "    </tr>\n",
       "    <tr>\n",
       "      <th>...</th>\n",
       "      <td>...</td>\n",
       "      <td>...</td>\n",
       "      <td>...</td>\n",
       "      <td>...</td>\n",
       "    </tr>\n",
       "    <tr>\n",
       "      <th>123035</th>\n",
       "      <td>24</td>\n",
       "      <td>[[-0.081545, 0.25175, 0.027983, 0.064531, 0.25...</td>\n",
       "      <td>1</td>\n",
       "      <td>5</td>\n",
       "    </tr>\n",
       "    <tr>\n",
       "      <th>123036</th>\n",
       "      <td>7</td>\n",
       "      <td>[[-0.35721, -0.54399, 0.26479, -0.15312, -0.00...</td>\n",
       "      <td>1</td>\n",
       "      <td>5</td>\n",
       "    </tr>\n",
       "    <tr>\n",
       "      <th>123037</th>\n",
       "      <td>19</td>\n",
       "      <td>[[-1.5145, 0.9682, 0.34735, 1.0024, 0.042789, ...</td>\n",
       "      <td>1</td>\n",
       "      <td>5</td>\n",
       "    </tr>\n",
       "    <tr>\n",
       "      <th>123038</th>\n",
       "      <td>13</td>\n",
       "      <td>[[0.19911, -0.46156, 0.19674, -1.3298, 0.51805...</td>\n",
       "      <td>0</td>\n",
       "      <td>5</td>\n",
       "    </tr>\n",
       "    <tr>\n",
       "      <th>123039</th>\n",
       "      <td>13</td>\n",
       "      <td>[[0.19911, -0.46156, 0.19674, -1.3298, 0.51805...</td>\n",
       "      <td>0</td>\n",
       "      <td>5</td>\n",
       "    </tr>\n",
       "  </tbody>\n",
       "</table>\n",
       "<p>123040 rows × 4 columns</p>\n",
       "</div>"
      ],
      "text/plain": [
       "        category                                        word_vector  label  \\\n",
       "0             24  [[-0.507, -0.49518, 0.46885, 0.54524, -0.11552...      1   \n",
       "1             13  [[0.19911, -0.46156, 0.19674, -1.3298, 0.51805...      0   \n",
       "2             24  [[-0.7403, -0.78746, 0.47018, 0.43474, 0.05842...      0   \n",
       "3             21  [[-0.44257, -0.54624, 0.25403, 0.80731, 1.026,...      0   \n",
       "4             13  [[0.19911, -0.46156, 0.19674, -1.3298, 0.51805...      1   \n",
       "...          ...                                                ...    ...   \n",
       "123035        24  [[-0.081545, 0.25175, 0.027983, 0.064531, 0.25...      1   \n",
       "123036         7  [[-0.35721, -0.54399, 0.26479, -0.15312, -0.00...      1   \n",
       "123037        19  [[-1.5145, 0.9682, 0.34735, 1.0024, 0.042789, ...      1   \n",
       "123038        13  [[0.19911, -0.46156, 0.19674, -1.3298, 0.51805...      0   \n",
       "123039        13  [[0.19911, -0.46156, 0.19674, -1.3298, 0.51805...      0   \n",
       "\n",
       "        word_count  \n",
       "0                5  \n",
       "1                5  \n",
       "2                5  \n",
       "3                5  \n",
       "4                5  \n",
       "...            ...  \n",
       "123035           5  \n",
       "123036           5  \n",
       "123037           5  \n",
       "123038           5  \n",
       "123039           5  \n",
       "\n",
       "[123040 rows x 4 columns]"
      ]
     },
     "execution_count": 25,
     "metadata": {},
     "output_type": "execute_result"
    }
   ],
   "source": [
    "data5"
   ]
  },
  {
   "cell_type": "markdown",
   "id": "60940e89",
   "metadata": {},
   "source": [
    "<h3 style=\"color:maroon;\"> Visualize 5 images for each class in the data </h3>"
   ]
  },
  {
   "cell_type": "code",
   "execution_count": 26,
   "id": "8c334ae9",
   "metadata": {},
   "outputs": [
    {
     "data": {
      "image/png": "[encoded data removed]",
      "text/plain": [
       "<Figure size 1440x1440 with 5 Axes>"
      ]
     },
     "metadata": {
      "needs_background": "light"
     },
     "output_type": "display_data"
    },
    {
     "data": {
      "image/png": "[encoded data removed]",
      "text/plain": [
       "<Figure size 1440x1440 with 5 Axes>"
      ]
     },
     "metadata": {
      "needs_background": "light"
     },
     "output_type": "display_data"
    }
   ],
   "source": [
    "train_lst = list(np.unique(data5['label']))\n",
    "visualize_classes(data5,train_lst)"
   ]
  },
  {
   "cell_type": "markdown",
   "id": "7e19d437",
   "metadata": {},
   "source": [
    "### Save the data"
   ]
  },
  {
   "cell_type": "code",
   "execution_count": 34,
   "id": "805df7df",
   "metadata": {},
   "outputs": [],
   "source": [
    "# saving the dataframe\n",
    "data5.to_csv('data5.csv')"
   ]
  },
  {
   "cell_type": "markdown",
   "id": "ba115d4c",
   "metadata": {},
   "source": [
    "------------------"
   ]
  },
  {
   "cell_type": "code",
   "execution_count": 42,
   "id": "e908d926",
   "metadata": {},
   "outputs": [],
   "source": [
    "data10 = prepare_equalWords_data(data,10)"
   ]
  },
  {
   "cell_type": "code",
   "execution_count": 43,
   "id": "b9610fbb",
   "metadata": {},
   "outputs": [
    {
     "data": {
      "text/html": [
       "<div>\n",
       "<style scoped>\n",
       "    .dataframe tbody tr th:only-of-type {\n",
       "        vertical-align: middle;\n",
       "    }\n",
       "\n",
       "    .dataframe tbody tr th {\n",
       "        vertical-align: top;\n",
       "    }\n",
       "\n",
       "    .dataframe thead th {\n",
       "        text-align: right;\n",
       "    }\n",
       "</style>\n",
       "<table border=\"1\" class=\"dataframe\">\n",
       "  <thead>\n",
       "    <tr style=\"text-align: right;\">\n",
       "      <th></th>\n",
       "      <th>category</th>\n",
       "      <th>word_vector</th>\n",
       "      <th>label</th>\n",
       "      <th>word_count</th>\n",
       "    </tr>\n",
       "  </thead>\n",
       "  <tbody>\n",
       "    <tr>\n",
       "      <th>0</th>\n",
       "      <td>24</td>\n",
       "      <td>[[-0.507, -0.49518, 0.46885, 0.54524, -0.11552...</td>\n",
       "      <td>1</td>\n",
       "      <td>10</td>\n",
       "    </tr>\n",
       "    <tr>\n",
       "      <th>1</th>\n",
       "      <td>13</td>\n",
       "      <td>[[0.19911, -0.46156, 0.19674, -1.3298, 0.51805...</td>\n",
       "      <td>0</td>\n",
       "      <td>10</td>\n",
       "    </tr>\n",
       "    <tr>\n",
       "      <th>2</th>\n",
       "      <td>24</td>\n",
       "      <td>[[-0.7403, -0.78746, 0.47018, 0.43474, 0.05842...</td>\n",
       "      <td>0</td>\n",
       "      <td>10</td>\n",
       "    </tr>\n",
       "    <tr>\n",
       "      <th>3</th>\n",
       "      <td>21</td>\n",
       "      <td>[[-0.44257, -0.54624, 0.25403, 0.80731, 1.026,...</td>\n",
       "      <td>0</td>\n",
       "      <td>10</td>\n",
       "    </tr>\n",
       "    <tr>\n",
       "      <th>4</th>\n",
       "      <td>13</td>\n",
       "      <td>[[0.19911, -0.46156, 0.19674, -1.3298, 0.51805...</td>\n",
       "      <td>1</td>\n",
       "      <td>10</td>\n",
       "    </tr>\n",
       "  </tbody>\n",
       "</table>\n",
       "</div>"
      ],
      "text/plain": [
       "   category                                        word_vector  label  \\\n",
       "0        24  [[-0.507, -0.49518, 0.46885, 0.54524, -0.11552...      1   \n",
       "1        13  [[0.19911, -0.46156, 0.19674, -1.3298, 0.51805...      0   \n",
       "2        24  [[-0.7403, -0.78746, 0.47018, 0.43474, 0.05842...      0   \n",
       "3        21  [[-0.44257, -0.54624, 0.25403, 0.80731, 1.026,...      0   \n",
       "4        13  [[0.19911, -0.46156, 0.19674, -1.3298, 0.51805...      1   \n",
       "\n",
       "   word_count  \n",
       "0          10  \n",
       "1          10  \n",
       "2          10  \n",
       "3          10  \n",
       "4          10  "
      ]
     },
     "execution_count": 43,
     "metadata": {},
     "output_type": "execute_result"
    }
   ],
   "source": [
    "data10.head()"
   ]
  },
  {
   "cell_type": "code",
   "execution_count": 44,
   "id": "fb6103c3",
   "metadata": {},
   "outputs": [
    {
     "data": {
      "image/png": "[encoded data removed]",
      "text/plain": [
       "<Figure size 1440x1440 with 5 Axes>"
      ]
     },
     "metadata": {
      "needs_background": "light"
     },
     "output_type": "display_data"
    },
    {
     "data": {
      "image/png": "[encoded data removed]",
      "text/plain": [
       "<Figure size 1440x1440 with 5 Axes>"
      ]
     },
     "metadata": {
      "needs_background": "light"
     },
     "output_type": "display_data"
    }
   ],
   "source": [
    "train_lst = list(np.unique(data10['label']))\n",
    "visualize_classes(data10,train_lst)"
   ]
  },
  {
   "cell_type": "code",
   "execution_count": 45,
   "id": "6ad4b94b",
   "metadata": {},
   "outputs": [],
   "source": [
    "# saving the dataframe\n",
    "data10.to_csv('data10.csv')"
   ]
  },
  {
   "cell_type": "markdown",
   "id": "7de2850b",
   "metadata": {},
   "source": [
    "----------------------"
   ]
  },
  {
   "cell_type": "code",
   "execution_count": 33,
   "id": "eeed3841",
   "metadata": {},
   "outputs": [],
   "source": [
    "data25 = prepare_equalWords_data(data,25)"
   ]
  },
  {
   "cell_type": "code",
   "execution_count": 34,
   "id": "fd56dcda",
   "metadata": {},
   "outputs": [
    {
     "data": {
      "text/html": [
       "<div>\n",
       "<style scoped>\n",
       "    .dataframe tbody tr th:only-of-type {\n",
       "        vertical-align: middle;\n",
       "    }\n",
       "\n",
       "    .dataframe tbody tr th {\n",
       "        vertical-align: top;\n",
       "    }\n",
       "\n",
       "    .dataframe thead th {\n",
       "        text-align: right;\n",
       "    }\n",
       "</style>\n",
       "<table border=\"1\" class=\"dataframe\">\n",
       "  <thead>\n",
       "    <tr style=\"text-align: right;\">\n",
       "      <th></th>\n",
       "      <th>category</th>\n",
       "      <th>word_vector</th>\n",
       "      <th>label</th>\n",
       "      <th>word_count</th>\n",
       "    </tr>\n",
       "  </thead>\n",
       "  <tbody>\n",
       "    <tr>\n",
       "      <th>0</th>\n",
       "      <td>24</td>\n",
       "      <td>[[-0.507, -0.49518, 0.46885, 0.54524, -0.11552...</td>\n",
       "      <td>1</td>\n",
       "      <td>25</td>\n",
       "    </tr>\n",
       "    <tr>\n",
       "      <th>1</th>\n",
       "      <td>13</td>\n",
       "      <td>[[0.19911, -0.46156, 0.19674, -1.3298, 0.51805...</td>\n",
       "      <td>0</td>\n",
       "      <td>25</td>\n",
       "    </tr>\n",
       "    <tr>\n",
       "      <th>2</th>\n",
       "      <td>24</td>\n",
       "      <td>[[-0.7403, -0.78746, 0.47018, 0.43474, 0.05842...</td>\n",
       "      <td>0</td>\n",
       "      <td>25</td>\n",
       "    </tr>\n",
       "    <tr>\n",
       "      <th>3</th>\n",
       "      <td>21</td>\n",
       "      <td>[[-0.44257, -0.54624, 0.25403, 0.80731, 1.026,...</td>\n",
       "      <td>0</td>\n",
       "      <td>25</td>\n",
       "    </tr>\n",
       "    <tr>\n",
       "      <th>4</th>\n",
       "      <td>13</td>\n",
       "      <td>[[0.19911, -0.46156, 0.19674, -1.3298, 0.51805...</td>\n",
       "      <td>1</td>\n",
       "      <td>25</td>\n",
       "    </tr>\n",
       "  </tbody>\n",
       "</table>\n",
       "</div>"
      ],
      "text/plain": [
       "   category                                        word_vector  label  \\\n",
       "0        24  [[-0.507, -0.49518, 0.46885, 0.54524, -0.11552...      1   \n",
       "1        13  [[0.19911, -0.46156, 0.19674, -1.3298, 0.51805...      0   \n",
       "2        24  [[-0.7403, -0.78746, 0.47018, 0.43474, 0.05842...      0   \n",
       "3        21  [[-0.44257, -0.54624, 0.25403, 0.80731, 1.026,...      0   \n",
       "4        13  [[0.19911, -0.46156, 0.19674, -1.3298, 0.51805...      1   \n",
       "\n",
       "   word_count  \n",
       "0          25  \n",
       "1          25  \n",
       "2          25  \n",
       "3          25  \n",
       "4          25  "
      ]
     },
     "execution_count": 34,
     "metadata": {},
     "output_type": "execute_result"
    }
   ],
   "source": [
    "data25.head()"
   ]
  },
  {
   "cell_type": "code",
   "execution_count": 35,
   "id": "5fc9e542",
   "metadata": {},
   "outputs": [
    {
     "data": {
      "image/png": "[encoded data removed]",
      "text/plain": [
       "<Figure size 1440x1440 with 5 Axes>"
      ]
     },
     "metadata": {
      "needs_background": "light"
     },
     "output_type": "display_data"
    },
    {
     "data": {
      "image/png": "[encoded data removed]",
      "text/plain": [
       "<Figure size 1440x1440 with 5 Axes>"
      ]
     },
     "metadata": {
      "needs_background": "light"
     },
     "output_type": "display_data"
    }
   ],
   "source": [
    "train_lst = list(np.unique(data25['label']))\n",
    "visualize_classes(data25,train_lst)"
   ]
  },
  {
   "cell_type": "code",
   "execution_count": 36,
   "id": "edf65470",
   "metadata": {},
   "outputs": [],
   "source": [
    "# saving the dataframe\n",
    "data25.to_csv('data25.csv')"
   ]
  },
  {
   "cell_type": "markdown",
   "id": "b2757734",
   "metadata": {},
   "source": [
    "----------------------"
   ]
  },
  {
   "cell_type": "code",
   "execution_count": 37,
   "id": "0f0de7a6",
   "metadata": {},
   "outputs": [],
   "source": [
    "data50 = prepare_equalWords_data(data,50)"
   ]
  },
  {
   "cell_type": "code",
   "execution_count": 38,
   "id": "e70d49da",
   "metadata": {},
   "outputs": [
    {
     "data": {
      "text/html": [
       "<div>\n",
       "<style scoped>\n",
       "    .dataframe tbody tr th:only-of-type {\n",
       "        vertical-align: middle;\n",
       "    }\n",
       "\n",
       "    .dataframe tbody tr th {\n",
       "        vertical-align: top;\n",
       "    }\n",
       "\n",
       "    .dataframe thead th {\n",
       "        text-align: right;\n",
       "    }\n",
       "</style>\n",
       "<table border=\"1\" class=\"dataframe\">\n",
       "  <thead>\n",
       "    <tr style=\"text-align: right;\">\n",
       "      <th></th>\n",
       "      <th>category</th>\n",
       "      <th>word_vector</th>\n",
       "      <th>label</th>\n",
       "      <th>word_count</th>\n",
       "    </tr>\n",
       "  </thead>\n",
       "  <tbody>\n",
       "    <tr>\n",
       "      <th>0</th>\n",
       "      <td>24</td>\n",
       "      <td>[[-0.507, -0.49518, 0.46885, 0.54524, -0.11552...</td>\n",
       "      <td>1</td>\n",
       "      <td>50</td>\n",
       "    </tr>\n",
       "    <tr>\n",
       "      <th>1</th>\n",
       "      <td>13</td>\n",
       "      <td>[[0.19911, -0.46156, 0.19674, -1.3298, 0.51805...</td>\n",
       "      <td>0</td>\n",
       "      <td>50</td>\n",
       "    </tr>\n",
       "    <tr>\n",
       "      <th>2</th>\n",
       "      <td>24</td>\n",
       "      <td>[[-0.7403, -0.78746, 0.47018, 0.43474, 0.05842...</td>\n",
       "      <td>0</td>\n",
       "      <td>50</td>\n",
       "    </tr>\n",
       "    <tr>\n",
       "      <th>3</th>\n",
       "      <td>21</td>\n",
       "      <td>[[-0.44257, -0.54624, 0.25403, 0.80731, 1.026,...</td>\n",
       "      <td>0</td>\n",
       "      <td>50</td>\n",
       "    </tr>\n",
       "    <tr>\n",
       "      <th>4</th>\n",
       "      <td>13</td>\n",
       "      <td>[[0.19911, -0.46156, 0.19674, -1.3298, 0.51805...</td>\n",
       "      <td>1</td>\n",
       "      <td>50</td>\n",
       "    </tr>\n",
       "  </tbody>\n",
       "</table>\n",
       "</div>"
      ],
      "text/plain": [
       "   category                                        word_vector  label  \\\n",
       "0        24  [[-0.507, -0.49518, 0.46885, 0.54524, -0.11552...      1   \n",
       "1        13  [[0.19911, -0.46156, 0.19674, -1.3298, 0.51805...      0   \n",
       "2        24  [[-0.7403, -0.78746, 0.47018, 0.43474, 0.05842...      0   \n",
       "3        21  [[-0.44257, -0.54624, 0.25403, 0.80731, 1.026,...      0   \n",
       "4        13  [[0.19911, -0.46156, 0.19674, -1.3298, 0.51805...      1   \n",
       "\n",
       "   word_count  \n",
       "0          50  \n",
       "1          50  \n",
       "2          50  \n",
       "3          50  \n",
       "4          50  "
      ]
     },
     "execution_count": 38,
     "metadata": {},
     "output_type": "execute_result"
    }
   ],
   "source": [
    "data50.head()"
   ]
  },
  {
   "cell_type": "code",
   "execution_count": 39,
   "id": "8a793b90",
   "metadata": {},
   "outputs": [
    {
     "data": {
      "image/png": "[encoded data removed]",
      "text/plain": [
       "<Figure size 1440x1440 with 5 Axes>"
      ]
     },
     "metadata": {
      "needs_background": "light"
     },
     "output_type": "display_data"
    },
    {
     "data": {
      "image/png": "[encoded data removed]",
      "text/plain": [
       "<Figure size 1440x1440 with 5 Axes>"
      ]
     },
     "metadata": {
      "needs_background": "light"
     },
     "output_type": "display_data"
    }
   ],
   "source": [
    "train_lst = list(np.unique(data25['label']))\n",
    "visualize_classes(data50,train_lst)"
   ]
  },
  {
   "cell_type": "code",
   "execution_count": 40,
   "id": "746b7e91",
   "metadata": {},
   "outputs": [],
   "source": [
    "# saving the dataframe\n",
    "data50.to_csv('data50.csv')"
   ]
  },
  {
   "cell_type": "markdown",
   "id": "4e9f36e5",
   "metadata": {},
   "source": [
    "-------------"
   ]
  },
  {
   "cell_type": "markdown",
   "id": "c301ecd4",
   "metadata": {},
   "source": [
    "## References "
   ]
  },
  {
   "cell_type": "markdown",
   "id": "56ec085d",
   "metadata": {},
   "source": [
    "[1] https://www.csmining.org/cdmc2021/index.php?id=5\n",
    "\n",
    "[2] https://keras.io/api/applications/"
   ]
  }
 ],
 "metadata": {
  "kernelspec": {
   "display_name": "Python 3 (ipykernel)",
   "language": "python",
   "name": "python3"
  },
  "language_info": {
   "codemirror_mode": {
    "name": "ipython",
    "version": 3
   },
   "file_extension": ".py",
   "mimetype": "text/x-python",
   "name": "python",
   "nbconvert_exporter": "python",
   "pygments_lexer": "ipython3",
   "version": "3.9.7"
  }
 },
 "nbformat": 4,
 "nbformat_minor": 5
}
